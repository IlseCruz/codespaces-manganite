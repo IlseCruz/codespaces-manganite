{
 "cells": [
  {
   "cell_type": "code",
   "execution_count": 1,
   "metadata": {},
   "outputs": [
    {
     "data": {
      "application/javascript": "(function(root) {\n  function now() {\n    return new Date();\n  }\n\n  var force = true;\n  var py_version = '3.2.2'.replace('rc', '-rc.').replace('.dev', '-dev.');\n  var is_dev = py_version.indexOf(\"+\") !== -1 || py_version.indexOf(\"-\") !== -1;\n  var reloading = false;\n  var Bokeh = root.Bokeh;\n  var bokeh_loaded = Bokeh != null && (Bokeh.version === py_version || (Bokeh.versions !== undefined && Bokeh.versions.has(py_version)));\n\n  if (typeof (root._bokeh_timeout) === \"undefined\" || force) {\n    root._bokeh_timeout = Date.now() + 5000;\n    root._bokeh_failed_load = false;\n  }\n\n  function run_callbacks() {\n    try {\n      root._bokeh_onload_callbacks.forEach(function(callback) {\n        if (callback != null)\n          callback();\n      });\n    } finally {\n      delete root._bokeh_onload_callbacks;\n    }\n    console.debug(\"Bokeh: all callbacks have finished\");\n  }\n\n  function load_libs(css_urls, js_urls, js_modules, js_exports, callback) {\n    if (css_urls == null) css_urls = [];\n    if (js_urls == null) js_urls = [];\n    if (js_modules == null) js_modules = [];\n    if (js_exports == null) js_exports = {};\n\n    root._bokeh_onload_callbacks.push(callback);\n\n    if (root._bokeh_is_loading > 0) {\n      console.debug(\"Bokeh: BokehJS is being loaded, scheduling callback at\", now());\n      return null;\n    }\n    if (js_urls.length === 0 && js_modules.length === 0 && Object.keys(js_exports).length === 0) {\n      run_callbacks();\n      return null;\n    }\n    if (!reloading) {\n      console.debug(\"Bokeh: BokehJS not loaded, scheduling load and callback at\", now());\n    }\n\n    function on_load() {\n      root._bokeh_is_loading--;\n      if (root._bokeh_is_loading === 0) {\n        console.debug(\"Bokeh: all BokehJS libraries/stylesheets loaded\");\n        run_callbacks()\n      }\n    }\n    window._bokeh_on_load = on_load\n\n    function on_error() {\n      console.error(\"failed to load \" + url);\n    }\n\n    var skip = [];\n    if (window.requirejs) {\n      window.requirejs.config({'packages': {}, 'paths': {'xtermjs': 'https://cdn.jsdelivr.net/npm/xterm@4.14.1/lib/xterm', 'xtermjsweblinks': 'https://cdn.jsdelivr.net/npm/xterm-addon-web-links@0.4.0/lib/xterm-addon-web-links', 'tabulator': 'https://cdn.jsdelivr.net/npm/tabulator-tables@5.5.0/dist/js/tabulator', 'moment': 'https://cdn.jsdelivr.net/npm/luxon/build/global/luxon.min', 'plotly': 'https://cdn.plot.ly/plotly-2.18.0.min', 'mathjax': '//cdnjs.cloudflare.com/ajax/libs/mathjax/2.7.5/MathJax.js?config=TeX-AMS_HTML', 'jspanel': 'https://cdn.jsdelivr.net/npm/jspanel4@4.12.0/dist/jspanel', 'jspanel-modal': 'https://cdn.jsdelivr.net/npm/jspanel4@4.12.0/dist/extensions/modal/jspanel.modal', 'jspanel-tooltip': 'https://cdn.jsdelivr.net/npm/jspanel4@4.12.0/dist/extensions/tooltip/jspanel.tooltip', 'jspanel-hint': 'https://cdn.jsdelivr.net/npm/jspanel4@4.12.0/dist/extensions/hint/jspanel.hint', 'jspanel-layout': 'https://cdn.jsdelivr.net/npm/jspanel4@4.12.0/dist/extensions/layout/jspanel.layout', 'jspanel-contextmenu': 'https://cdn.jsdelivr.net/npm/jspanel4@4.12.0/dist/extensions/contextmenu/jspanel.contextmenu', 'jspanel-dock': 'https://cdn.jsdelivr.net/npm/jspanel4@4.12.0/dist/extensions/dock/jspanel.dock', 'gridstack': 'https://cdn.jsdelivr.net/npm/gridstack@7.2.3/dist/gridstack-all', 'notyf': 'https://cdn.jsdelivr.net/npm/notyf@3/notyf.min'}, 'shim': {'xtermjsweblinks': {'exports': 'WebLinksAddon', 'deps': ['xtermjs']}, 'mathjax': {'exports': 'MathJax'}, 'jspanel': {'exports': 'jsPanel'}, 'gridstack': {'exports': 'GridStack'}}});\n      require([\"xtermjs\"], function(xtermjs) {\n\twindow.xtermjs = xtermjs\n\ton_load()\n      })\n      require([\"xtermjsweblinks\"], function(WebLinksAddon) {\n\twindow.WebLinksAddon = WebLinksAddon\n\ton_load()\n      })\n      require([\"tabulator\"], function(Tabulator) {\n\twindow.Tabulator = Tabulator\n\ton_load()\n      })\n      require([\"moment\"], function(moment) {\n\twindow.moment = moment\n\ton_load()\n      })\n      require([\"plotly\"], function(Plotly) {\n\twindow.Plotly = Plotly\n\ton_load()\n      })\n      require([\"mathjax\"], function() {\n\ton_load()\n      })\n      require([\"jspanel\"], function(jsPanel) {\n\twindow.jsPanel = jsPanel\n\ton_load()\n      })\n      require([\"jspanel-modal\"], function() {\n\ton_load()\n      })\n      require([\"jspanel-tooltip\"], function() {\n\ton_load()\n      })\n      require([\"jspanel-hint\"], function() {\n\ton_load()\n      })\n      require([\"jspanel-layout\"], function() {\n\ton_load()\n      })\n      require([\"jspanel-contextmenu\"], function() {\n\ton_load()\n      })\n      require([\"jspanel-dock\"], function() {\n\ton_load()\n      })\n      require([\"gridstack\"], function(GridStack) {\n\twindow.GridStack = GridStack\n\ton_load()\n      })\n      require([\"notyf\"], function() {\n\ton_load()\n      })\n      root._bokeh_is_loading = css_urls.length + 15;\n    } else {\n      root._bokeh_is_loading = css_urls.length + js_urls.length + js_modules.length + Object.keys(js_exports).length;\n    }\n\n    var existing_stylesheets = []\n    var links = document.getElementsByTagName('link')\n    for (var i = 0; i < links.length; i++) {\n      var link = links[i]\n      if (link.href != null) {\n\texisting_stylesheets.push(link.href)\n      }\n    }\n    for (var i = 0; i < css_urls.length; i++) {\n      var url = css_urls[i];\n      if (existing_stylesheets.indexOf(url) !== -1) {\n\ton_load()\n\tcontinue;\n      }\n      const element = document.createElement(\"link\");\n      element.onload = on_load;\n      element.onerror = on_error;\n      element.rel = \"stylesheet\";\n      element.type = \"text/css\";\n      element.href = url;\n      console.debug(\"Bokeh: injecting link tag for BokehJS stylesheet: \", url);\n      document.body.appendChild(element);\n    }    if (((window['xtermjs'] !== undefined) && (!(window['xtermjs'] instanceof HTMLElement))) || window.requirejs) {\n      var urls = ['https://cdn.holoviz.org/panel/1.2.1/dist/bundled/terminal/xterm@4.14.1/lib/xterm.js', 'https://cdn.holoviz.org/panel/1.2.1/dist/bundled/terminal/xterm-addon-web-links@0.4.0/lib/xterm-addon-web-links.js'];\n      for (var i = 0; i < urls.length; i++) {\n        skip.push(urls[i])\n      }\n    }    if (((window['Tabulator'] !== undefined) && (!(window['Tabulator'] instanceof HTMLElement))) || window.requirejs) {\n      var urls = ['https://cdn.holoviz.org/panel/1.2.1/dist/bundled/datatabulator/tabulator-tables@5.5.0/dist/js/tabulator.js'];\n      for (var i = 0; i < urls.length; i++) {\n        skip.push(urls[i])\n      }\n    }    if (((window['moment'] !== undefined) && (!(window['moment'] instanceof HTMLElement))) || window.requirejs) {\n      var urls = ['https://cdn.holoviz.org/panel/1.2.1/dist/bundled/datatabulator/luxon/build/global/luxon.min.js'];\n      for (var i = 0; i < urls.length; i++) {\n        skip.push(urls[i])\n      }\n    }    if (((window['Plotly'] !== undefined) && (!(window['Plotly'] instanceof HTMLElement))) || window.requirejs) {\n      var urls = ['https://cdn.holoviz.org/panel/1.2.1/dist/bundled/plotlyplot/plotly-2.18.0.min.js'];\n      for (var i = 0; i < urls.length; i++) {\n        skip.push(urls[i])\n      }\n    }    if (((window['MathJax'] !== undefined) && (!(window['MathJax'] instanceof HTMLElement))) || window.requirejs) {\n      var urls = ['https://cdnjs.cloudflare.com/ajax/libs/mathjax/2.7.5/MathJax.js?config=TeX-MML-AM_CHTML'];\n      for (var i = 0; i < urls.length; i++) {\n        skip.push(urls[i])\n      }\n    }    if (((window['jsPanel'] !== undefined) && (!(window['jsPanel'] instanceof HTMLElement))) || window.requirejs) {\n      var urls = ['https://cdn.holoviz.org/panel/1.2.1/dist/bundled/floatpanel/jspanel4@4.12.0/dist/jspanel.js', 'https://cdn.holoviz.org/panel/1.2.1/dist/bundled/floatpanel/jspanel4@4.12.0/dist/extensions/modal/jspanel.modal.js', 'https://cdn.holoviz.org/panel/1.2.1/dist/bundled/floatpanel/jspanel4@4.12.0/dist/extensions/tooltip/jspanel.tooltip.js', 'https://cdn.holoviz.org/panel/1.2.1/dist/bundled/floatpanel/jspanel4@4.12.0/dist/extensions/hint/jspanel.hint.js', 'https://cdn.holoviz.org/panel/1.2.1/dist/bundled/floatpanel/jspanel4@4.12.0/dist/extensions/layout/jspanel.layout.js', 'https://cdn.holoviz.org/panel/1.2.1/dist/bundled/floatpanel/jspanel4@4.12.0/dist/extensions/contextmenu/jspanel.contextmenu.js', 'https://cdn.holoviz.org/panel/1.2.1/dist/bundled/floatpanel/jspanel4@4.12.0/dist/extensions/dock/jspanel.dock.js'];\n      for (var i = 0; i < urls.length; i++) {\n        skip.push(urls[i])\n      }\n    }    if (((window['GridStack'] !== undefined) && (!(window['GridStack'] instanceof HTMLElement))) || window.requirejs) {\n      var urls = ['https://cdn.holoviz.org/panel/1.2.1/dist/bundled/gridstack/gridstack@7.2.3/dist/gridstack-all.js'];\n      for (var i = 0; i < urls.length; i++) {\n        skip.push(urls[i])\n      }\n    }    if (((window['Notyf'] !== undefined) && (!(window['Notyf'] instanceof HTMLElement))) || window.requirejs) {\n      var urls = ['https://cdn.holoviz.org/panel/1.2.1/dist/bundled/notificationarea/notyf@3/notyf.min.js'];\n      for (var i = 0; i < urls.length; i++) {\n        skip.push(urls[i])\n      }\n    }    var existing_scripts = []\n    var scripts = document.getElementsByTagName('script')\n    for (var i = 0; i < scripts.length; i++) {\n      var script = scripts[i]\n      if (script.src != null) {\n\texisting_scripts.push(script.src)\n      }\n    }\n    for (var i = 0; i < js_urls.length; i++) {\n      var url = js_urls[i];\n      if (skip.indexOf(url) !== -1 || existing_scripts.indexOf(url) !== -1) {\n\tif (!window.requirejs) {\n\t  on_load();\n\t}\n\tcontinue;\n      }\n      var element = document.createElement('script');\n      element.onload = on_load;\n      element.onerror = on_error;\n      element.async = false;\n      element.src = url;\n      console.debug(\"Bokeh: injecting script tag for BokehJS library: \", url);\n      document.head.appendChild(element);\n    }\n    for (var i = 0; i < js_modules.length; i++) {\n      var url = js_modules[i];\n      if (skip.indexOf(url) !== -1 || existing_scripts.indexOf(url) !== -1) {\n\tif (!window.requirejs) {\n\t  on_load();\n\t}\n\tcontinue;\n      }\n      var element = document.createElement('script');\n      element.onload = on_load;\n      element.onerror = on_error;\n      element.async = false;\n      element.src = url;\n      element.type = \"module\";\n      console.debug(\"Bokeh: injecting script tag for BokehJS library: \", url);\n      document.head.appendChild(element);\n    }\n    for (const name in js_exports) {\n      var url = js_exports[name];\n      if (skip.indexOf(url) >= 0 || root[name] != null) {\n\tif (!window.requirejs) {\n\t  on_load();\n\t}\n\tcontinue;\n      }\n      var element = document.createElement('script');\n      element.onerror = on_error;\n      element.async = false;\n      element.type = \"module\";\n      console.debug(\"Bokeh: injecting script tag for BokehJS library: \", url);\n      element.textContent = `\n      import ${name} from \"${url}\"\n      window.${name} = ${name}\n      window._bokeh_on_load()\n      `\n      document.head.appendChild(element);\n    }\n    if (!js_urls.length && !js_modules.length) {\n      on_load()\n    }\n  };\n\n  function inject_raw_css(css) {\n    const element = document.createElement(\"style\");\n    element.appendChild(document.createTextNode(css));\n    document.body.appendChild(element);\n  }\n\n  var js_urls = [\"https://cdnjs.cloudflare.com/ajax/libs/mathjax/2.7.5/MathJax.js?config=TeX-MML-AM_CHTML\", \"https://cdn.holoviz.org/panel/1.2.1/dist/bundled/jquery/jquery.slim.min.js\", \"https://cdn.holoviz.org/panel/1.2.1/dist/bundled/plotlyplot/plotly-2.18.0.min.js\", \"https://cdn.holoviz.org/panel/1.2.1/dist/bundled/datatabulator/tabulator-tables@5.5.0/dist/js/tabulator.js\", \"https://cdn.holoviz.org/panel/1.2.1/dist/bundled/datatabulator/luxon/build/global/luxon.min.js\", \"https://cdn.holoviz.org/panel/1.2.1/dist/bundled/terminal/xterm@4.14.1/lib/xterm.js\", \"https://cdn.holoviz.org/panel/1.2.1/dist/bundled/terminal/xterm-addon-web-links@0.4.0/lib/xterm-addon-web-links.js\", \"https://cdn.bokeh.org/bokeh/release/bokeh-3.2.2.min.js\", \"https://cdn.bokeh.org/bokeh/release/bokeh-gl-3.2.2.min.js\", \"https://cdn.bokeh.org/bokeh/release/bokeh-widgets-3.2.2.min.js\", \"https://cdn.bokeh.org/bokeh/release/bokeh-tables-3.2.2.min.js\", \"https://cdn.holoviz.org/panel/1.2.1/dist/bundled/gridstack/gridstack@7.2.3/dist/gridstack-all.js\", \"https://cdn.holoviz.org/panel/1.2.1/dist/panel.min.js\"];\n  var js_modules = [];\n  var js_exports = {};\n  var css_urls = [\"https://cdn.holoviz.org/panel/1.2.1/dist/bundled/datatabulator/tabulator-tables@5.5.0/dist/css/tabulator_simple.min.css\", \"https://cdn.holoviz.org/panel/1.2.1/dist/bundled/terminal/xterm@4.11.0/css/xterm.css\", \"https://cdn.holoviz.org/panel/1.2.1/dist/bundled/gridstack/gridstack@7.2.3/dist/gridstack.min.css\", \"https://cdn.holoviz.org/panel/1.2.1/dist/bundled/gridstack/gridstack@7.2.3/dist/gridstack-extra.min.css\"];\n  var inline_js = [    function(Bokeh) {\n      inject_raw_css(\".tabulator{position:relative;border:1px solid #999;font-size:14px;text-align:left;overflow:hidden;-webkit-transform:translateZ(0);-moz-transform:translateZ(0);-ms-transform:translateZ(0);-o-transform:translateZ(0);transform:translateZ(0)}.tabulator[tabulator-layout=fitDataFill] .tabulator-tableholder .tabulator-table{min-width:100%}.tabulator[tabulator-layout=fitDataTable]{display:inline-block}.tabulator.tabulator-block-select{user-select:none}.tabulator .tabulator-header{position:relative;box-sizing:border-box;width:100%;border-bottom:1px solid #999;background-color:#fff;color:#555;font-weight:700;white-space:nowrap;overflow:hidden;-moz-user-select:none;-khtml-user-select:none;-webkit-user-select:none;-o-user-select:none}.tabulator .tabulator-header.tabulator-header-hidden{display:none}.tabulator .tabulator-header .tabulator-header-contents{position:relative;overflow:hidden}.tabulator .tabulator-header .tabulator-header-contents .tabulator-headers{display:inline-block}.tabulator .tabulator-header .tabulator-col{display:inline-flex;position:relative;box-sizing:border-box;flex-direction:column;justify-content:flex-start;border-right:1px solid #ddd;background:#fff;text-align:left;vertical-align:bottom;overflow:hidden}.tabulator .tabulator-header .tabulator-col.tabulator-moving{position:absolute;border:1px solid #999;background:#e6e6e6;pointer-events:none}.tabulator .tabulator-header .tabulator-col .tabulator-col-content{box-sizing:border-box;position:relative;padding:4px}.tabulator .tabulator-header .tabulator-col .tabulator-col-content .tabulator-header-popup-button{padding:0 8px}.tabulator .tabulator-header .tabulator-col .tabulator-col-content .tabulator-header-popup-button:hover{cursor:pointer;opacity:.6}.tabulator .tabulator-header .tabulator-col .tabulator-col-content .tabulator-col-title-holder{position:relative}.tabulator .tabulator-header .tabulator-col .tabulator-col-content .tabulator-col-title{box-sizing:border-box;width:100%;white-space:nowrap;overflow:hidden;text-overflow:ellipsis;vertical-align:bottom}.tabulator .tabulator-header .tabulator-col .tabulator-col-content .tabulator-col-title.tabulator-col-title-wrap{white-space:normal;text-overflow:clip}.tabulator .tabulator-header .tabulator-col .tabulator-col-content .tabulator-col-title .tabulator-title-editor{box-sizing:border-box;width:100%;border:1px solid #999;padding:1px;background:#fff}.tabulator .tabulator-header .tabulator-col .tabulator-col-content .tabulator-col-title .tabulator-header-popup-button+.tabulator-title-editor{width:calc(100% - 22px)}.tabulator .tabulator-header .tabulator-col .tabulator-col-content .tabulator-col-sorter{display:flex;align-items:center;position:absolute;top:0;bottom:0;right:4px}.tabulator .tabulator-header .tabulator-col .tabulator-col-content .tabulator-col-sorter .tabulator-arrow{width:0;height:0;border-left:6px solid transparent;border-right:6px solid transparent;border-bottom:6px solid #bbb}.tabulator .tabulator-header .tabulator-col.tabulator-col-group .tabulator-col-group-cols{position:relative;display:flex;border-top:1px solid #ddd;overflow:hidden;margin-right:-1px}.tabulator .tabulator-header .tabulator-col .tabulator-header-filter{position:relative;box-sizing:border-box;margin-top:2px;width:100%;text-align:center}.tabulator .tabulator-header .tabulator-col .tabulator-header-filter textarea{height:auto!important}.tabulator .tabulator-header .tabulator-col .tabulator-header-filter svg{margin-top:3px}.tabulator .tabulator-header .tabulator-col .tabulator-header-filter input::-ms-clear{width:0;height:0}.tabulator .tabulator-header .tabulator-col.tabulator-sortable .tabulator-col-title{padding-right:25px}@media (hover:hover) and (pointer:fine){.tabulator .tabulator-header .tabulator-col.tabulator-sortable.tabulator-col-sorter-element:hover{cursor:pointer;background-color:#e6e6e6}}.tabulator .tabulator-header .tabulator-col.tabulator-sortable[aria-sort=none] .tabulator-col-content .tabulator-col-sorter{color:#bbb}@media (hover:hover) and (pointer:fine){.tabulator .tabulator-header .tabulator-col.tabulator-sortable[aria-sort=none] .tabulator-col-content .tabulator-col-sorter.tabulator-col-sorter-element .tabulator-arrow:hover{cursor:pointer;border-bottom:6px solid #555}}.tabulator .tabulator-header .tabulator-col.tabulator-sortable[aria-sort=none] .tabulator-col-content .tabulator-col-sorter .tabulator-arrow{border-top:none;border-bottom:6px solid #bbb}.tabulator .tabulator-header .tabulator-col.tabulator-sortable[aria-sort=ascending] .tabulator-col-content .tabulator-col-sorter{color:#666}@media (hover:hover) and (pointer:fine){.tabulator .tabulator-header .tabulator-col.tabulator-sortable[aria-sort=ascending] .tabulator-col-content .tabulator-col-sorter.tabulator-col-sorter-element .tabulator-arrow:hover{cursor:pointer;border-bottom:6px solid #555}}.tabulator .tabulator-header .tabulator-col.tabulator-sortable[aria-sort=ascending] .tabulator-col-content .tabulator-col-sorter .tabulator-arrow{border-top:none;border-bottom:6px solid #666}.tabulator .tabulator-header .tabulator-col.tabulator-sortable[aria-sort=descending] .tabulator-col-content .tabulator-col-sorter{color:#666}@media (hover:hover) and (pointer:fine){.tabulator .tabulator-header .tabulator-col.tabulator-sortable[aria-sort=descending] .tabulator-col-content .tabulator-col-sorter.tabulator-col-sorter-element .tabulator-arrow:hover{cursor:pointer;border-top:6px solid #555}}.tabulator .tabulator-header .tabulator-col.tabulator-sortable[aria-sort=descending] .tabulator-col-content .tabulator-col-sorter .tabulator-arrow{border-bottom:none;border-top:6px solid #666;color:#666}.tabulator .tabulator-header .tabulator-col.tabulator-col-vertical .tabulator-col-content .tabulator-col-title{writing-mode:vertical-rl;text-orientation:mixed;display:flex;align-items:center;justify-content:center}.tabulator .tabulator-header .tabulator-col.tabulator-col-vertical.tabulator-col-vertical-flip .tabulator-col-title{transform:rotate(180deg)}.tabulator .tabulator-header .tabulator-col.tabulator-col-vertical.tabulator-sortable .tabulator-col-title{padding-right:0;padding-top:20px}.tabulator .tabulator-header .tabulator-col.tabulator-col-vertical.tabulator-sortable.tabulator-col-vertical-flip .tabulator-col-title{padding-right:0;padding-bottom:20px}.tabulator .tabulator-header .tabulator-col.tabulator-col-vertical.tabulator-sortable .tabulator-col-sorter{justify-content:center;left:0;right:0;top:4px;bottom:auto}.tabulator .tabulator-header .tabulator-frozen{position:sticky;left:0;z-index:10}.tabulator .tabulator-header .tabulator-frozen.tabulator-frozen-left{border-right:2px solid #ddd}.tabulator .tabulator-header .tabulator-frozen.tabulator-frozen-right{border-left:2px solid #ddd}.tabulator .tabulator-header .tabulator-calcs-holder{box-sizing:border-box;background:#fff!important;border-top:1px solid #ddd;border-bottom:1px solid #ddd}.tabulator .tabulator-header .tabulator-calcs-holder .tabulator-row{background:#fff!important}.tabulator .tabulator-header .tabulator-calcs-holder .tabulator-row .tabulator-col-resize-handle,.tabulator .tabulator-header .tabulator-frozen-rows-holder:empty{display:none}.tabulator .tabulator-tableholder{position:relative;width:100%;white-space:nowrap;overflow:auto;-webkit-overflow-scrolling:touch}.tabulator .tabulator-tableholder:focus{outline:none}.tabulator .tabulator-tableholder .tabulator-placeholder{box-sizing:border-box;display:flex;align-items:center;justify-content:center;width:100%}.tabulator .tabulator-tableholder .tabulator-placeholder[tabulator-render-mode=virtual]{min-height:100%;min-width:100%}.tabulator .tabulator-tableholder .tabulator-placeholder .tabulator-placeholder-contents{display:inline-block;text-align:center;padding:10px;color:#ccc;font-weight:700;font-size:20px;white-space:normal}.tabulator .tabulator-tableholder .tabulator-table{position:relative;display:inline-block;background-color:#fff;white-space:nowrap;overflow:visible;color:#333}.tabulator .tabulator-tableholder .tabulator-table .tabulator-row.tabulator-calcs{font-weight:700;background:#f2f2f2!important}.tabulator .tabulator-tableholder .tabulator-table .tabulator-row.tabulator-calcs.tabulator-calcs-top{border-bottom:2px solid #ddd}.tabulator .tabulator-tableholder .tabulator-table .tabulator-row.tabulator-calcs.tabulator-calcs-bottom{border-top:2px solid #ddd}.tabulator .tabulator-footer{border-top:1px solid #999;background-color:#fff;color:#555;font-weight:700;white-space:nowrap;user-select:none;-moz-user-select:none;-khtml-user-select:none;-webkit-user-select:none;-o-user-select:none}.tabulator .tabulator-footer .tabulator-footer-contents{display:flex;flex-direction:row;align-items:center;justify-content:space-between;padding:5px 10px}.tabulator .tabulator-footer .tabulator-footer-contents:empty{display:none}.tabulator .tabulator-footer .tabulator-calcs-holder{box-sizing:border-box;width:100%;text-align:left;background:#fff!important;border-bottom:1px solid #ddd;border-top:1px solid #ddd;overflow:hidden}.tabulator .tabulator-footer .tabulator-calcs-holder .tabulator-row{display:inline-block;background:#fff!important}.tabulator .tabulator-footer .tabulator-calcs-holder .tabulator-row .tabulator-col-resize-handle{display:none}.tabulator .tabulator-footer .tabulator-calcs-holder:only-child{margin-bottom:-5px;border-bottom:none}.tabulator .tabulator-footer>*+.tabulator-page-counter{margin-left:10px}.tabulator .tabulator-footer .tabulator-page-counter{font-weight:400}.tabulator .tabulator-footer .tabulator-paginator{flex:1;text-align:right;color:#555;font-family:inherit;font-weight:inherit;font-size:inherit}.tabulator .tabulator-footer .tabulator-page-size{display:inline-block;margin:0 5px;padding:2px 5px;border:1px solid #aaa;border-radius:3px}.tabulator .tabulator-footer .tabulator-pages{margin:0 7px}.tabulator .tabulator-footer .tabulator-page{display:inline-block;margin:0 2px;padding:2px 5px;border:1px solid #aaa;border-radius:3px;background:hsla(0,0%,100%,.2)}.tabulator .tabulator-footer .tabulator-page.active{color:#d00}.tabulator .tabulator-footer .tabulator-page:disabled{opacity:.5}@media (hover:hover) and (pointer:fine){.tabulator .tabulator-footer .tabulator-page:not(.disabled):hover{cursor:pointer;background:rgba(0,0,0,.2);color:#fff}}.tabulator .tabulator-col-resize-handle{position:relative;display:inline-block;width:6px;margin-left:-3px;margin-right:-3px;z-index:10;vertical-align:middle}@media (hover:hover) and (pointer:fine){.tabulator .tabulator-col-resize-handle:hover{cursor:ew-resize}}.tabulator .tabulator-col-resize-handle:last-of-type{width:3px;margin-right:0}.tabulator .tabulator-alert{position:absolute;display:flex;align-items:center;top:0;left:0;z-index:100;height:100%;width:100%;background:rgba(0,0,0,.4);text-align:center}.tabulator .tabulator-alert .tabulator-alert-msg{display:inline-block;margin:0 auto;padding:10px 20px;border-radius:10px;background:#fff;font-weight:700;font-size:16px}.tabulator .tabulator-alert .tabulator-alert-msg.tabulator-alert-state-msg{border:4px solid #333;color:#000}.tabulator .tabulator-alert .tabulator-alert-msg.tabulator-alert-state-error{border:4px solid #d00;color:#590000}.tabulator-row{position:relative;box-sizing:border-box;min-height:22px}.tabulator-row,.tabulator-row.tabulator-row-even{background-color:#fff}@media (hover:hover) and (pointer:fine){.tabulator-row.tabulator-selectable:hover{background-color:#bbb;cursor:pointer}}.tabulator-row.tabulator-selected{background-color:#9abcea}@media (hover:hover) and (pointer:fine){.tabulator-row.tabulator-selected:hover{background-color:#769bcc;cursor:pointer}}.tabulator-row.tabulator-row-moving{border:1px solid #000;background:#fff}.tabulator-row.tabulator-moving{position:absolute;border-top:1px solid #ddd;border-bottom:1px solid #ddd;pointer-events:none;z-index:15}.tabulator-row .tabulator-row-resize-handle{position:absolute;right:0;bottom:0;left:0;height:5px}.tabulator-row .tabulator-row-resize-handle.prev{top:0;bottom:auto}@media (hover:hover) and (pointer:fine){.tabulator-row .tabulator-row-resize-handle:hover{cursor:ns-resize}}.tabulator-row .tabulator-responsive-collapse{box-sizing:border-box;padding:5px;border-top:1px solid #ddd;border-bottom:1px solid #ddd}.tabulator-row .tabulator-responsive-collapse:empty{display:none}.tabulator-row .tabulator-responsive-collapse table{font-size:14px}.tabulator-row .tabulator-responsive-collapse table tr td{position:relative}.tabulator-row .tabulator-responsive-collapse table tr td:first-of-type{padding-right:10px}.tabulator-row .tabulator-cell{display:inline-block;position:relative;box-sizing:border-box;padding:4px;border-right:1px solid #ddd;vertical-align:middle;white-space:nowrap;overflow:hidden;text-overflow:ellipsis}.tabulator-row .tabulator-cell.tabulator-frozen{display:inline-block;position:sticky;left:0;background-color:inherit;z-index:10}.tabulator-row .tabulator-cell.tabulator-frozen.tabulator-frozen-left{border-right:2px solid #ddd}.tabulator-row .tabulator-cell.tabulator-frozen.tabulator-frozen-right{border-left:2px solid #ddd}.tabulator-row .tabulator-cell.tabulator-editing{border:1px solid #1d68cd;outline:none;padding:0}.tabulator-row .tabulator-cell.tabulator-editing input,.tabulator-row .tabulator-cell.tabulator-editing select{border:1px;background:transparent;outline:none}.tabulator-row .tabulator-cell.tabulator-validation-fail{border:1px solid #d00}.tabulator-row .tabulator-cell.tabulator-validation-fail input,.tabulator-row .tabulator-cell.tabulator-validation-fail select{border:1px;background:transparent;color:#d00}.tabulator-row .tabulator-cell.tabulator-row-handle{display:inline-flex;align-items:center;justify-content:center;-moz-user-select:none;-khtml-user-select:none;-webkit-user-select:none;-o-user-select:none}.tabulator-row .tabulator-cell.tabulator-row-handle .tabulator-row-handle-box{width:80%}.tabulator-row .tabulator-cell.tabulator-row-handle .tabulator-row-handle-box .tabulator-row-handle-bar{width:100%;height:3px;margin-top:2px;background:#666}.tabulator-row .tabulator-cell .tabulator-data-tree-branch{display:inline-block;vertical-align:middle;height:9px;width:7px;margin-top:-9px;margin-right:5px;border-bottom-left-radius:1px;border-left:2px solid #ddd;border-bottom:2px solid #ddd}.tabulator-row .tabulator-cell .tabulator-data-tree-control{display:inline-flex;justify-content:center;align-items:center;vertical-align:middle;height:11px;width:11px;margin-right:5px;border:1px solid #333;border-radius:2px;background:rgba(0,0,0,.1);overflow:hidden}@media (hover:hover) and (pointer:fine){.tabulator-row .tabulator-cell .tabulator-data-tree-control:hover{cursor:pointer;background:rgba(0,0,0,.2)}}.tabulator-row .tabulator-cell .tabulator-data-tree-control .tabulator-data-tree-control-collapse{display:inline-block;position:relative;height:7px;width:1px;background:transparent}.tabulator-row .tabulator-cell .tabulator-data-tree-control .tabulator-data-tree-control-collapse:after{position:absolute;content:\\\"\\\";left:-3px;top:3px;height:1px;width:7px;background:#333}.tabulator-row .tabulator-cell .tabulator-data-tree-control .tabulator-data-tree-control-expand{display:inline-block;position:relative;height:7px;width:1px;background:#333}.tabulator-row .tabulator-cell .tabulator-data-tree-control .tabulator-data-tree-control-expand:after{position:absolute;content:\\\"\\\";left:-3px;top:3px;height:1px;width:7px;background:#333}.tabulator-row .tabulator-cell .tabulator-responsive-collapse-toggle{display:inline-flex;align-items:center;justify-content:center;-moz-user-select:none;-khtml-user-select:none;-webkit-user-select:none;-o-user-select:none;height:15px;width:15px;border-radius:20px;background:#666;color:#fff;font-weight:700;font-size:1.1em}@media (hover:hover) and (pointer:fine){.tabulator-row .tabulator-cell .tabulator-responsive-collapse-toggle:hover{opacity:.7;cursor:pointer}}.tabulator-row .tabulator-cell .tabulator-responsive-collapse-toggle.open .tabulator-responsive-collapse-toggle-close{display:initial}.tabulator-row .tabulator-cell .tabulator-responsive-collapse-toggle.open .tabulator-responsive-collapse-toggle-open{display:none}.tabulator-row .tabulator-cell .tabulator-responsive-collapse-toggle svg{stroke:#fff}.tabulator-row .tabulator-cell .tabulator-responsive-collapse-toggle .tabulator-responsive-collapse-toggle-close{display:none}.tabulator-row .tabulator-cell .tabulator-traffic-light{display:inline-block;height:14px;width:14px;border-radius:14px}.tabulator-row.tabulator-group{box-sizing:border-box;border-bottom:1px solid #999;border-right:1px solid #ddd;border-top:1px solid #999;padding:5px 5px 5px 10px;background:#ccc;font-weight:700;min-width:100%}@media (hover:hover) and (pointer:fine){.tabulator-row.tabulator-group:hover{cursor:pointer;background-color:rgba(0,0,0,.1)}}.tabulator-row.tabulator-group.tabulator-group-visible .tabulator-arrow{margin-right:10px;border-left:6px solid transparent;border-right:6px solid transparent;border-top:6px solid #666;border-bottom:0}.tabulator-row.tabulator-group.tabulator-group-level-1{padding-left:30px}.tabulator-row.tabulator-group.tabulator-group-level-2{padding-left:50px}.tabulator-row.tabulator-group.tabulator-group-level-3{padding-left:70px}.tabulator-row.tabulator-group.tabulator-group-level-4{padding-left:90px}.tabulator-row.tabulator-group.tabulator-group-level-5{padding-left:110px}.tabulator-row.tabulator-group .tabulator-group-toggle{display:inline-block}.tabulator-row.tabulator-group .tabulator-arrow{display:inline-block;width:0;height:0;margin-right:16px;border-top:6px solid transparent;border-bottom:6px solid transparent;border-right:0;border-left:6px solid #666;vertical-align:middle}.tabulator-row.tabulator-group span{margin-left:10px;color:#d00}.tabulator-popup-container{position:absolute;display:inline-block;box-sizing:border-box;background:#fff;border:1px solid #ddd;box-shadow:0 0 5px 0 rgba(0,0,0,.2);font-size:14px;overflow-y:auto;-webkit-overflow-scrolling:touch;z-index:10000}.tabulator-popup{padding:5px;border-radius:3px}.tabulator-tooltip{max-width:Min(500px,100%);padding:3px 5px;border-radius:2px;box-shadow:none;font-size:12px;pointer-events:none}.tabulator-menu .tabulator-menu-item{position:relative;box-sizing:border-box;padding:5px 10px;user-select:none}.tabulator-menu .tabulator-menu-item.tabulator-menu-item-disabled{opacity:.5}@media (hover:hover) and (pointer:fine){.tabulator-menu .tabulator-menu-item:not(.tabulator-menu-item-disabled):hover{cursor:pointer;background:#fff}}.tabulator-menu .tabulator-menu-item.tabulator-menu-item-submenu{padding-right:25px}.tabulator-menu .tabulator-menu-item.tabulator-menu-item-submenu:after{display:inline-block;position:absolute;top:calc(5px + .4em);right:10px;height:7px;width:7px;content:\\\"\\\";border-color:#ddd;border-style:solid;border-width:1px 1px 0 0;vertical-align:top;transform:rotate(45deg)}.tabulator-menu .tabulator-menu-separator{border-top:1px solid #ddd}.tabulator-edit-list{max-height:200px;font-size:14px;overflow-y:auto;-webkit-overflow-scrolling:touch}.tabulator-edit-list .tabulator-edit-list-item{padding:4px;color:#333;outline:none}.tabulator-edit-list .tabulator-edit-list-item.active{color:#fff;background:#1d68cd}.tabulator-edit-list .tabulator-edit-list-item.active.focused{outline:1px solid hsla(0,0%,100%,.5)}.tabulator-edit-list .tabulator-edit-list-item.focused{outline:1px solid #1d68cd}@media (hover:hover) and (pointer:fine){.tabulator-edit-list .tabulator-edit-list-item:hover{cursor:pointer;color:#fff;background:#1d68cd}}.tabulator-edit-list .tabulator-edit-list-placeholder{padding:4px;color:#333;text-align:center}.tabulator-edit-list .tabulator-edit-list-group{border-bottom:1px solid #ddd;padding:6px 4px 4px;color:#333;font-weight:700}.tabulator-edit-list .tabulator-edit-list-group.tabulator-edit-list-group-level-2,.tabulator-edit-list .tabulator-edit-list-item.tabulator-edit-list-group-level-2{padding-left:12px}.tabulator-edit-list .tabulator-edit-list-group.tabulator-edit-list-group-level-3,.tabulator-edit-list .tabulator-edit-list-item.tabulator-edit-list-group-level-3{padding-left:20px}.tabulator-edit-list .tabulator-edit-list-group.tabulator-edit-list-group-level-4,.tabulator-edit-list .tabulator-edit-list-item.tabulator-edit-list-group-level-4{padding-left:28px}.tabulator-edit-list .tabulator-edit-list-group.tabulator-edit-list-group-level-5,.tabulator-edit-list .tabulator-edit-list-item.tabulator-edit-list-group-level-5{padding-left:36px}.tabulator.tabulator-ltr{direction:ltr}.tabulator.tabulator-rtl{text-align:initial;direction:rtl}.tabulator.tabulator-rtl .tabulator-header .tabulator-col{text-align:initial;border-left:1px solid #ddd;border-right:initial}.tabulator.tabulator-rtl .tabulator-header .tabulator-col.tabulator-col-group .tabulator-col-group-cols{margin-right:0;margin-left:-1px}.tabulator.tabulator-rtl .tabulator-header .tabulator-col.tabulator-sortable .tabulator-col-title{padding-right:0;padding-left:25px}.tabulator.tabulator-rtl .tabulator-header .tabulator-col .tabulator-col-content .tabulator-col-sorter{left:8px;right:auto}.tabulator.tabulator-rtl .tabulator-row .tabulator-cell{border-right:initial;border-left:1px solid #ddd}.tabulator.tabulator-rtl .tabulator-row .tabulator-cell .tabulator-data-tree-branch{margin-right:0;margin-left:5px;border-bottom-left-radius:0;border-bottom-right-radius:1px;border-left:initial;border-right:2px solid #ddd}.tabulator.tabulator-rtl .tabulator-row .tabulator-cell .tabulator-data-tree-control{margin-right:0;margin-left:5px}.tabulator.tabulator-rtl .tabulator-row .tabulator-cell.tabulator-frozen.tabulator-frozen-left{border-left:2px solid #ddd}.tabulator.tabulator-rtl .tabulator-row .tabulator-cell.tabulator-frozen.tabulator-frozen-right{border-right:2px solid #ddd}.tabulator.tabulator-rtl .tabulator-row .tabulator-col-resize-handle:last-of-type{width:3px;margin-left:0;margin-right:-3px}.tabulator.tabulator-rtl .tabulator-footer .tabulator-calcs-holder{text-align:initial}.tabulator-print-fullscreen{position:absolute;top:0;bottom:0;left:0;right:0;z-index:10000}body.tabulator-print-fullscreen-hide>:not(.tabulator-print-fullscreen){display:none!important}.tabulator-print-table{border-collapse:collapse}.tabulator-print-table .tabulator-data-tree-branch{display:inline-block;vertical-align:middle;height:9px;width:7px;margin-top:-9px;margin-right:5px;border-bottom-left-radius:1px;border-left:2px solid #ddd;border-bottom:2px solid #ddd}.tabulator-print-table .tabulator-print-table-group{box-sizing:border-box;border-bottom:1px solid #999;border-right:1px solid #ddd;border-top:1px solid #999;padding:5px 5px 5px 10px;background:#ccc;font-weight:700;min-width:100%}@media (hover:hover) and (pointer:fine){.tabulator-print-table .tabulator-print-table-group:hover{cursor:pointer;background-color:rgba(0,0,0,.1)}}.tabulator-print-table .tabulator-print-table-group.tabulator-group-visible .tabulator-arrow{margin-right:10px;border-left:6px solid transparent;border-right:6px solid transparent;border-top:6px solid #666;border-bottom:0}.tabulator-print-table .tabulator-print-table-group.tabulator-group-level-1 td{padding-left:30px!important}.tabulator-print-table .tabulator-print-table-group.tabulator-group-level-2 td{padding-left:50px!important}.tabulator-print-table .tabulator-print-table-group.tabulator-group-level-3 td{padding-left:70px!important}.tabulator-print-table .tabulator-print-table-group.tabulator-group-level-4 td{padding-left:90px!important}.tabulator-print-table .tabulator-print-table-group.tabulator-group-level-5 td{padding-left:110px!important}.tabulator-print-table .tabulator-print-table-group .tabulator-group-toggle{display:inline-block}.tabulator-print-table .tabulator-print-table-group .tabulator-arrow{display:inline-block;width:0;height:0;margin-right:16px;border-top:6px solid transparent;border-bottom:6px solid transparent;border-right:0;border-left:6px solid #666;vertical-align:middle}.tabulator-print-table .tabulator-print-table-group span{color:#d00}.tabulator-print-table .tabulator-data-tree-control{display:inline-flex;justify-content:center;align-items:center;vertical-align:middle;height:11px;width:11px;margin-right:5px;border:1px solid #333;border-radius:2px;background:rgba(0,0,0,.1);overflow:hidden}@media (hover:hover) and (pointer:fine){.tabulator-print-table .tabulator-data-tree-control:hover{cursor:pointer;background:rgba(0,0,0,.2)}}.tabulator-print-table .tabulator-data-tree-control .tabulator-data-tree-control-collapse{display:inline-block;position:relative;height:7px;width:1px;background:transparent}.tabulator-print-table .tabulator-data-tree-control .tabulator-data-tree-control-collapse:after{position:absolute;content:\\\"\\\";left:-3px;top:3px;height:1px;width:7px;background:#333}.tabulator-print-table .tabulator-data-tree-control .tabulator-data-tree-control-expand{display:inline-block;position:relative;height:7px;width:1px;background:#333}.tabulator-print-table .tabulator-data-tree-control .tabulator-data-tree-control-expand:after{position:absolute;content:\\\"\\\";left:-3px;top:3px;height:1px;width:7px;background:#333}.tabulator{border:none;background-color:#fff}.tabulator .tabulator-header .tabulator-calcs-holder{background:#f2f2f2!important;border-bottom:1px solid #999}.tabulator .tabulator-header .tabulator-calcs-holder .tabulator-row{background:#f2f2f2!important}.tabulator .tabulator-tableholder .tabulator-placeholder span{color:#000}.tabulator .tabulator-footer .tabulator-calcs-holder{background:#f2f2f2!important;border-bottom:1px solid #fff}.tabulator .tabulator-footer .tabulator-calcs-holder .tabulator-row{background:#f2f2f2!important}.tabulator-row{border-bottom:1px solid #ddd}.tabulator-row .tabulator-cell:last-of-type{border-right:none}.tabulator-row.tabulator-group span{color:#666}.tabulator-print-table .tabulator-print-table-group span{margin-left:10px;color:#666}\\n/*# sourceMappingURL=tabulator_simple.min.css.map */\");\n    },    function(Bokeh) {\n      inject_raw_css(\"/**\\n * Copyright (c) 2014 The xterm.js authors. All rights reserved.\\n * Copyright (c) 2012-2013, Christopher Jeffrey (MIT License)\\n * https://github.com/chjj/term.js\\n * @license MIT\\n *\\n * Permission is hereby granted, free of charge, to any person obtaining a copy\\n * of this software and associated documentation files (the \\\"Software\\\"), to deal\\n * in the Software without restriction, including without limitation the rights\\n * to use, copy, modify, merge, publish, distribute, sublicense, and/or sell\\n * copies of the Software, and to permit persons to whom the Software is\\n * furnished to do so, subject to the following conditions:\\n *\\n * The above copyright notice and this permission notice shall be included in\\n * all copies or substantial portions of the Software.\\n *\\n * THE SOFTWARE IS PROVIDED \\\"AS IS\\\", WITHOUT WARRANTY OF ANY KIND, EXPRESS OR\\n * IMPLIED, INCLUDING BUT NOT LIMITED TO THE WARRANTIES OF MERCHANTABILITY,\\n * FITNESS FOR A PARTICULAR PURPOSE AND NONINFRINGEMENT. IN NO EVENT SHALL THE\\n * AUTHORS OR COPYRIGHT HOLDERS BE LIABLE FOR ANY CLAIM, DAMAGES OR OTHER\\n * LIABILITY, WHETHER IN AN ACTION OF CONTRACT, TORT OR OTHERWISE, ARISING FROM,\\n * OUT OF OR IN CONNECTION WITH THE SOFTWARE OR THE USE OR OTHER DEALINGS IN\\n * THE SOFTWARE.\\n *\\n * Originally forked from (with the author's permission):\\n *   Fabrice Bellard's javascript vt100 for jslinux:\\n *   http://bellard.org/jslinux/\\n *   Copyright (c) 2011 Fabrice Bellard\\n *   The original design remains. The terminal itself\\n *   has been extended to include xterm CSI codes, among\\n *   other features.\\n */\\n\\n/**\\n *  Default styles for xterm.js\\n */\\n\\n.xterm {\\n    font-feature-settings: \\\"liga\\\" 0;\\n    position: relative;\\n    user-select: none;\\n    -ms-user-select: none;\\n    -webkit-user-select: none;\\n}\\n\\n.xterm.focus,\\n.xterm:focus {\\n    outline: none;\\n}\\n\\n.xterm .xterm-helpers {\\n    position: absolute;\\n    top: 0;\\n    /**\\n     * The z-index of the helpers must be higher than the canvases in order for\\n     * IMEs to appear on top.\\n     */\\n    z-index: 5;\\n}\\n\\n.xterm .xterm-helper-textarea {\\n    padding: 0;\\n    border: 0;\\n    margin: 0;\\n    /* Move textarea out of the screen to the far left, so that the cursor is not visible */\\n    position: absolute;\\n    opacity: 0;\\n    left: -9999em;\\n    top: 0;\\n    width: 0;\\n    height: 0;\\n    z-index: -5;\\n    /** Prevent wrapping so the IME appears against the textarea at the correct position */\\n    white-space: nowrap;\\n    overflow: hidden;\\n    resize: none;\\n}\\n\\n.xterm .composition-view {\\n    /* TODO: Composition position got messed up somewhere */\\n    background: #000;\\n    color: #FFF;\\n    display: none;\\n    position: absolute;\\n    white-space: nowrap;\\n    z-index: 1;\\n}\\n\\n.xterm .composition-view.active {\\n    display: block;\\n}\\n\\n.xterm .xterm-viewport {\\n    /* On OS X this is required in order for the scroll bar to appear fully opaque */\\n    background-color: #000;\\n    overflow-y: scroll;\\n    cursor: default;\\n    position: absolute;\\n    right: 0;\\n    left: 0;\\n    top: 0;\\n    bottom: 0;\\n}\\n\\n.xterm .xterm-screen {\\n    position: relative;\\n}\\n\\n.xterm .xterm-screen canvas {\\n    position: absolute;\\n    left: 0;\\n    top: 0;\\n}\\n\\n.xterm .xterm-scroll-area {\\n    visibility: hidden;\\n}\\n\\n.xterm-char-measure-element {\\n    display: inline-block;\\n    visibility: hidden;\\n    position: absolute;\\n    top: 0;\\n    left: -9999em;\\n    line-height: normal;\\n}\\n\\n.xterm {\\n    cursor: text;\\n}\\n\\n.xterm.enable-mouse-events {\\n    /* When mouse events are enabled (eg. tmux), revert to the standard pointer cursor */\\n    cursor: default;\\n}\\n\\n.xterm.xterm-cursor-pointer {\\n    cursor: pointer;\\n}\\n\\n.xterm.column-select.focus {\\n    /* Column selection mode */\\n    cursor: crosshair;\\n}\\n\\n.xterm .xterm-accessibility,\\n.xterm .xterm-message {\\n    position: absolute;\\n    left: 0;\\n    top: 0;\\n    bottom: 0;\\n    right: 0;\\n    z-index: 10;\\n    color: transparent;\\n}\\n\\n.xterm .live-region {\\n    position: absolute;\\n    left: -9999px;\\n    width: 1px;\\n    height: 1px;\\n    overflow: hidden;\\n}\\n\\n.xterm-dim {\\n    opacity: 0.5;\\n}\\n\\n.xterm-underline {\\n    text-decoration: underline;\\n}\\n\");\n    },    function(Bokeh) {\n      inject_raw_css(\":root .grid-stack-item>.ui-resizable-handle{filter:none}.grid-stack{position:relative}.grid-stack.grid-stack-rtl{direction:ltr}.grid-stack.grid-stack-rtl>.grid-stack-item{direction:rtl}.grid-stack .grid-stack-placeholder>.placeholder-content{background-color:rgba(0,0,0,.1);margin:0;position:absolute;width:auto;z-index:0!important;text-align:center}.grid-stack>.grid-stack-item{min-width:8.3333333333%;position:absolute;padding:0}.grid-stack>.grid-stack-item>.grid-stack-item-content{margin:0;position:absolute;width:auto;overflow-x:hidden;overflow-y:auto}.grid-stack>.grid-stack-item>.ui-resizable-handle{position:absolute;font-size:.1px;display:block;-ms-touch-action:none;touch-action:none}.grid-stack>.grid-stack-item.ui-resizable-autohide>.ui-resizable-handle,.grid-stack>.grid-stack-item.ui-resizable-disabled>.ui-resizable-handle{display:none}.grid-stack>.grid-stack-item>.ui-resizable-se,.grid-stack>.grid-stack-item>.ui-resizable-sw{background-image:url(data:image/svg+xml;base64,PD94bWwgdmVyc2lvbj0iMS4wIiBlbmNvZGluZz0iaXNvLTg4NTktMSI/Pgo8IS0tIEdlbmVyYXRvcjogQWRvYmUgSWxsdXN0cmF0b3IgMTYuMC4wLCBTVkcgRXhwb3J0IFBsdWctSW4gLiBTVkcgVmVyc2lvbjogNi4wMCBCdWlsZCAwKSAgLS0+CjwhRE9DVFlQRSBzdmcgUFVCTElDICItLy9XM0MvL0RURCBTVkcgMS4xLy9FTiIgImh0dHA6Ly93d3cudzMub3JnL0dyYXBoaWNzL1NWRy8xLjEvRFREL3N2ZzExLmR0ZCI+CjxzdmcgeG1sbnM9Imh0dHA6Ly93d3cudzMub3JnLzIwMDAvc3ZnIiB4bWxuczp4bGluaz0iaHR0cDovL3d3dy53My5vcmcvMTk5OS94bGluayIgdmVyc2lvbj0iMS4xIiBpZD0iQ2FwYV8xIiB4PSIwcHgiIHk9IjBweCIgd2lkdGg9IjE2cHgiIGhlaWdodD0iMTZweCIgdmlld0JveD0iMCAwIDUxMS42MjYgNTExLjYyNyIgc3R5bGU9ImVuYWJsZS1iYWNrZ3JvdW5kOm5ldyAwIDAgNTExLjYyNiA1MTEuNjI3OyIgeG1sOnNwYWNlPSJwcmVzZXJ2ZSI+CjxnPgoJPHBhdGggZD0iTTMyOC45MDYsNDAxLjk5NGgtMzYuNTUzVjEwOS42MzZoMzYuNTUzYzQuOTQ4LDAsOS4yMzYtMS44MDksMTIuODQ3LTUuNDI2YzMuNjEzLTMuNjE1LDUuNDIxLTcuODk4LDUuNDIxLTEyLjg0NSAgIGMwLTQuOTQ5LTEuODAxLTkuMjMxLTUuNDI4LTEyLjg1MWwtNzMuMDg3LTczLjA5QzI2NS4wNDQsMS44MDksMjYwLjc2LDAsMjU1LjgxMywwYy00Ljk0OCwwLTkuMjI5LDEuODA5LTEyLjg0Nyw1LjQyNCAgIGwtNzMuMDg4LDczLjA5Yy0zLjYxOCwzLjYxOS01LjQyNCw3LjkwMi01LjQyNCwxMi44NTFjMCw0Ljk0NiwxLjgwNyw5LjIyOSw1LjQyNCwxMi44NDVjMy42MTksMy42MTcsNy45MDEsNS40MjYsMTIuODUsNS40MjYgICBoMzYuNTQ1djI5Mi4zNThoLTM2LjU0MmMtNC45NTIsMC05LjIzNSwxLjgwOC0xMi44NSw1LjQyMWMtMy42MTcsMy42MjEtNS40MjQsNy45MDUtNS40MjQsMTIuODU0ICAgYzAsNC45NDUsMS44MDcsOS4yMjcsNS40MjQsMTIuODQ3bDczLjA4OSw3My4wODhjMy42MTcsMy42MTcsNy44OTgsNS40MjQsMTIuODQ3LDUuNDI0YzQuOTUsMCw5LjIzNC0xLjgwNywxMi44NDktNS40MjQgICBsNzMuMDg3LTczLjA4OGMzLjYxMy0zLjYyLDUuNDIxLTcuOTAxLDUuNDIxLTEyLjg0N2MwLTQuOTQ4LTEuODA4LTkuMjMyLTUuNDIxLTEyLjg1NCAgIEMzMzguMTQyLDQwMy44MDIsMzMzLjg1Nyw0MDEuOTk0LDMyOC45MDYsNDAxLjk5NHoiIGZpbGw9IiM2NjY2NjYiLz4KPC9nPgo8Zz4KPC9nPgo8Zz4KPC9nPgo8Zz4KPC9nPgo8Zz4KPC9nPgo8Zz4KPC9nPgo8Zz4KPC9nPgo8Zz4KPC9nPgo8Zz4KPC9nPgo8Zz4KPC9nPgo8Zz4KPC9nPgo8Zz4KPC9nPgo8Zz4KPC9nPgo8Zz4KPC9nPgo8Zz4KPC9nPgo8Zz4KPC9nPgo8L3N2Zz4K);background-repeat:no-repeat;background-position:center;-webkit-transform:rotate(45deg);-moz-transform:rotate(45deg);-ms-transform:rotate(45deg);-o-transform:rotate(45deg);transform:rotate(45deg)}.grid-stack>.grid-stack-item>.ui-resizable-se{-webkit-transform:rotate(-45deg);-moz-transform:rotate(-45deg);-ms-transform:rotate(-45deg);-o-transform:rotate(-45deg);transform:rotate(-45deg)}.grid-stack>.grid-stack-item>.ui-resizable-nw{cursor:nw-resize;width:20px;height:20px;top:0}.grid-stack>.grid-stack-item>.ui-resizable-n{cursor:n-resize;height:10px;top:0;left:25px;right:25px}.grid-stack>.grid-stack-item>.ui-resizable-ne{cursor:ne-resize;width:20px;height:20px;top:0}.grid-stack>.grid-stack-item>.ui-resizable-e{cursor:e-resize;width:10px;top:15px;bottom:15px}.grid-stack>.grid-stack-item>.ui-resizable-se{cursor:se-resize;width:20px;height:20px}.grid-stack>.grid-stack-item>.ui-resizable-s{cursor:s-resize;height:10px;left:25px;bottom:0;right:25px}.grid-stack>.grid-stack-item>.ui-resizable-sw{cursor:sw-resize;width:20px;height:20px}.grid-stack>.grid-stack-item>.ui-resizable-w{cursor:w-resize;width:10px;top:15px;bottom:15px}.grid-stack>.grid-stack-item.ui-draggable-dragging>.ui-resizable-handle{display:none!important}.grid-stack>.grid-stack-item[gs-w=\\\"0\\\"]{width:0%}.grid-stack>.grid-stack-item[gs-x=\\\"0\\\"]{left:0}.grid-stack>.grid-stack-item[gs-min-w=\\\"0\\\"]{min-width:0}.grid-stack>.grid-stack-item[gs-max-w=\\\"0\\\"]{max-width:0%}.grid-stack>.grid-stack-item[gs-w=\\\"1\\\"]{width:8.3333333333%}.grid-stack>.grid-stack-item[gs-x=\\\"1\\\"]{left:8.3333333333%}.grid-stack>.grid-stack-item[gs-min-w=\\\"1\\\"]{min-width:8.3333333333%}.grid-stack>.grid-stack-item[gs-max-w=\\\"1\\\"]{max-width:8.3333333333%}.grid-stack>.grid-stack-item[gs-w=\\\"2\\\"]{width:16.6666666667%}.grid-stack>.grid-stack-item[gs-x=\\\"2\\\"]{left:16.6666666667%}.grid-stack>.grid-stack-item[gs-min-w=\\\"2\\\"]{min-width:16.6666666667%}.grid-stack>.grid-stack-item[gs-max-w=\\\"2\\\"]{max-width:16.6666666667%}.grid-stack>.grid-stack-item[gs-w=\\\"3\\\"]{width:25%}.grid-stack>.grid-stack-item[gs-x=\\\"3\\\"]{left:25%}.grid-stack>.grid-stack-item[gs-min-w=\\\"3\\\"]{min-width:25%}.grid-stack>.grid-stack-item[gs-max-w=\\\"3\\\"]{max-width:25%}.grid-stack>.grid-stack-item[gs-w=\\\"4\\\"]{width:33.3333333333%}.grid-stack>.grid-stack-item[gs-x=\\\"4\\\"]{left:33.3333333333%}.grid-stack>.grid-stack-item[gs-min-w=\\\"4\\\"]{min-width:33.3333333333%}.grid-stack>.grid-stack-item[gs-max-w=\\\"4\\\"]{max-width:33.3333333333%}.grid-stack>.grid-stack-item[gs-w=\\\"5\\\"]{width:41.6666666667%}.grid-stack>.grid-stack-item[gs-x=\\\"5\\\"]{left:41.6666666667%}.grid-stack>.grid-stack-item[gs-min-w=\\\"5\\\"]{min-width:41.6666666667%}.grid-stack>.grid-stack-item[gs-max-w=\\\"5\\\"]{max-width:41.6666666667%}.grid-stack>.grid-stack-item[gs-w=\\\"6\\\"]{width:50%}.grid-stack>.grid-stack-item[gs-x=\\\"6\\\"]{left:50%}.grid-stack>.grid-stack-item[gs-min-w=\\\"6\\\"]{min-width:50%}.grid-stack>.grid-stack-item[gs-max-w=\\\"6\\\"]{max-width:50%}.grid-stack>.grid-stack-item[gs-w=\\\"7\\\"]{width:58.3333333333%}.grid-stack>.grid-stack-item[gs-x=\\\"7\\\"]{left:58.3333333333%}.grid-stack>.grid-stack-item[gs-min-w=\\\"7\\\"]{min-width:58.3333333333%}.grid-stack>.grid-stack-item[gs-max-w=\\\"7\\\"]{max-width:58.3333333333%}.grid-stack>.grid-stack-item[gs-w=\\\"8\\\"]{width:66.6666666667%}.grid-stack>.grid-stack-item[gs-x=\\\"8\\\"]{left:66.6666666667%}.grid-stack>.grid-stack-item[gs-min-w=\\\"8\\\"]{min-width:66.6666666667%}.grid-stack>.grid-stack-item[gs-max-w=\\\"8\\\"]{max-width:66.6666666667%}.grid-stack>.grid-stack-item[gs-w=\\\"9\\\"]{width:75%}.grid-stack>.grid-stack-item[gs-x=\\\"9\\\"]{left:75%}.grid-stack>.grid-stack-item[gs-min-w=\\\"9\\\"]{min-width:75%}.grid-stack>.grid-stack-item[gs-max-w=\\\"9\\\"]{max-width:75%}.grid-stack>.grid-stack-item[gs-w=\\\"10\\\"]{width:83.3333333333%}.grid-stack>.grid-stack-item[gs-x=\\\"10\\\"]{left:83.3333333333%}.grid-stack>.grid-stack-item[gs-min-w=\\\"10\\\"]{min-width:83.3333333333%}.grid-stack>.grid-stack-item[gs-max-w=\\\"10\\\"]{max-width:83.3333333333%}.grid-stack>.grid-stack-item[gs-w=\\\"11\\\"]{width:91.6666666667%}.grid-stack>.grid-stack-item[gs-x=\\\"11\\\"]{left:91.6666666667%}.grid-stack>.grid-stack-item[gs-min-w=\\\"11\\\"]{min-width:91.6666666667%}.grid-stack>.grid-stack-item[gs-max-w=\\\"11\\\"]{max-width:91.6666666667%}.grid-stack>.grid-stack-item[gs-w=\\\"12\\\"]{width:100%}.grid-stack>.grid-stack-item[gs-x=\\\"12\\\"]{left:100%}.grid-stack>.grid-stack-item[gs-min-w=\\\"12\\\"]{min-width:100%}.grid-stack>.grid-stack-item[gs-max-w=\\\"12\\\"]{max-width:100%}.grid-stack.grid-stack-1>.grid-stack-item{min-width:100%}.grid-stack.grid-stack-1>.grid-stack-item[gs-w=\\\"1\\\"]{width:100%}.grid-stack.grid-stack-1>.grid-stack-item[gs-x=\\\"1\\\"]{left:100%}.grid-stack.grid-stack-1>.grid-stack-item[gs-min-w=\\\"1\\\"]{min-width:100%}.grid-stack.grid-stack-1>.grid-stack-item[gs-max-w=\\\"1\\\"]{max-width:100%}.grid-stack.grid-stack-animate,.grid-stack.grid-stack-animate .grid-stack-item{-webkit-transition:left .3s,top .3s,height .3s,width .3s;-moz-transition:left .3s,top .3s,height .3s,width .3s;-ms-transition:left .3s,top .3s,height .3s,width .3s;-o-transition:left .3s,top .3s,height .3s,width .3s;transition:left .3s,top .3s,height .3s,width .3s}.grid-stack.grid-stack-animate .grid-stack-item.grid-stack-placeholder,.grid-stack.grid-stack-animate .grid-stack-item.ui-draggable-dragging,.grid-stack.grid-stack-animate .grid-stack-item.ui-resizable-resizing{-webkit-transition:left 0s,top 0s,height 0s,width 0s;-moz-transition:left 0s,top 0s,height 0s,width 0s;-ms-transition:left 0s,top 0s,height 0s,width 0s;-o-transition:left 0s,top 0s,height 0s,width 0s;transition:left 0s,top 0s,height 0s,width 0s}.ui-draggable-dragging,.ui-resizable-resizing{z-index:100}.ui-draggable-dragging>.grid-stack-item-content,.ui-resizable-resizing>.grid-stack-item-content{box-shadow:1px 4px 6px rgba(0,0,0,.2);opacity:.8}.ui-draggable-dragging{will-change:left,top;cursor:move}.ui-resizable-resizing{will-change:width,height}\");\n    },    function(Bokeh) {\n      inject_raw_css(\".grid-stack.grid-stack-2>.grid-stack-item{min-width:50%}.grid-stack.grid-stack-2>.grid-stack-item[gs-w=\\\"1\\\"]{width:50%}.grid-stack.grid-stack-2>.grid-stack-item[gs-x=\\\"1\\\"]{left:50%}.grid-stack.grid-stack-2>.grid-stack-item[gs-min-w=\\\"1\\\"]{min-width:50%}.grid-stack.grid-stack-2>.grid-stack-item[gs-max-w=\\\"1\\\"]{max-width:50%}.grid-stack.grid-stack-2>.grid-stack-item[gs-w=\\\"2\\\"]{width:100%}.grid-stack.grid-stack-2>.grid-stack-item[gs-x=\\\"2\\\"]{left:100%}.grid-stack.grid-stack-2>.grid-stack-item[gs-min-w=\\\"2\\\"]{min-width:100%}.grid-stack.grid-stack-2>.grid-stack-item[gs-max-w=\\\"2\\\"]{max-width:100%}.grid-stack.grid-stack-3>.grid-stack-item{min-width:33.3333333333%}.grid-stack.grid-stack-3>.grid-stack-item[gs-w=\\\"1\\\"]{width:33.3333333333%}.grid-stack.grid-stack-3>.grid-stack-item[gs-x=\\\"1\\\"]{left:33.3333333333%}.grid-stack.grid-stack-3>.grid-stack-item[gs-min-w=\\\"1\\\"]{min-width:33.3333333333%}.grid-stack.grid-stack-3>.grid-stack-item[gs-max-w=\\\"1\\\"]{max-width:33.3333333333%}.grid-stack.grid-stack-3>.grid-stack-item[gs-w=\\\"2\\\"]{width:66.6666666667%}.grid-stack.grid-stack-3>.grid-stack-item[gs-x=\\\"2\\\"]{left:66.6666666667%}.grid-stack.grid-stack-3>.grid-stack-item[gs-min-w=\\\"2\\\"]{min-width:66.6666666667%}.grid-stack.grid-stack-3>.grid-stack-item[gs-max-w=\\\"2\\\"]{max-width:66.6666666667%}.grid-stack.grid-stack-3>.grid-stack-item[gs-w=\\\"3\\\"]{width:100%}.grid-stack.grid-stack-3>.grid-stack-item[gs-x=\\\"3\\\"]{left:100%}.grid-stack.grid-stack-3>.grid-stack-item[gs-min-w=\\\"3\\\"]{min-width:100%}.grid-stack.grid-stack-3>.grid-stack-item[gs-max-w=\\\"3\\\"]{max-width:100%}.grid-stack.grid-stack-4>.grid-stack-item{min-width:25%}.grid-stack.grid-stack-4>.grid-stack-item[gs-w=\\\"1\\\"]{width:25%}.grid-stack.grid-stack-4>.grid-stack-item[gs-x=\\\"1\\\"]{left:25%}.grid-stack.grid-stack-4>.grid-stack-item[gs-min-w=\\\"1\\\"]{min-width:25%}.grid-stack.grid-stack-4>.grid-stack-item[gs-max-w=\\\"1\\\"]{max-width:25%}.grid-stack.grid-stack-4>.grid-stack-item[gs-w=\\\"2\\\"]{width:50%}.grid-stack.grid-stack-4>.grid-stack-item[gs-x=\\\"2\\\"]{left:50%}.grid-stack.grid-stack-4>.grid-stack-item[gs-min-w=\\\"2\\\"]{min-width:50%}.grid-stack.grid-stack-4>.grid-stack-item[gs-max-w=\\\"2\\\"]{max-width:50%}.grid-stack.grid-stack-4>.grid-stack-item[gs-w=\\\"3\\\"]{width:75%}.grid-stack.grid-stack-4>.grid-stack-item[gs-x=\\\"3\\\"]{left:75%}.grid-stack.grid-stack-4>.grid-stack-item[gs-min-w=\\\"3\\\"]{min-width:75%}.grid-stack.grid-stack-4>.grid-stack-item[gs-max-w=\\\"3\\\"]{max-width:75%}.grid-stack.grid-stack-4>.grid-stack-item[gs-w=\\\"4\\\"]{width:100%}.grid-stack.grid-stack-4>.grid-stack-item[gs-x=\\\"4\\\"]{left:100%}.grid-stack.grid-stack-4>.grid-stack-item[gs-min-w=\\\"4\\\"]{min-width:100%}.grid-stack.grid-stack-4>.grid-stack-item[gs-max-w=\\\"4\\\"]{max-width:100%}.grid-stack.grid-stack-5>.grid-stack-item{min-width:20%}.grid-stack.grid-stack-5>.grid-stack-item[gs-w=\\\"1\\\"]{width:20%}.grid-stack.grid-stack-5>.grid-stack-item[gs-x=\\\"1\\\"]{left:20%}.grid-stack.grid-stack-5>.grid-stack-item[gs-min-w=\\\"1\\\"]{min-width:20%}.grid-stack.grid-stack-5>.grid-stack-item[gs-max-w=\\\"1\\\"]{max-width:20%}.grid-stack.grid-stack-5>.grid-stack-item[gs-w=\\\"2\\\"]{width:40%}.grid-stack.grid-stack-5>.grid-stack-item[gs-x=\\\"2\\\"]{left:40%}.grid-stack.grid-stack-5>.grid-stack-item[gs-min-w=\\\"2\\\"]{min-width:40%}.grid-stack.grid-stack-5>.grid-stack-item[gs-max-w=\\\"2\\\"]{max-width:40%}.grid-stack.grid-stack-5>.grid-stack-item[gs-w=\\\"3\\\"]{width:60%}.grid-stack.grid-stack-5>.grid-stack-item[gs-x=\\\"3\\\"]{left:60%}.grid-stack.grid-stack-5>.grid-stack-item[gs-min-w=\\\"3\\\"]{min-width:60%}.grid-stack.grid-stack-5>.grid-stack-item[gs-max-w=\\\"3\\\"]{max-width:60%}.grid-stack.grid-stack-5>.grid-stack-item[gs-w=\\\"4\\\"]{width:80%}.grid-stack.grid-stack-5>.grid-stack-item[gs-x=\\\"4\\\"]{left:80%}.grid-stack.grid-stack-5>.grid-stack-item[gs-min-w=\\\"4\\\"]{min-width:80%}.grid-stack.grid-stack-5>.grid-stack-item[gs-max-w=\\\"4\\\"]{max-width:80%}.grid-stack.grid-stack-5>.grid-stack-item[gs-w=\\\"5\\\"]{width:100%}.grid-stack.grid-stack-5>.grid-stack-item[gs-x=\\\"5\\\"]{left:100%}.grid-stack.grid-stack-5>.grid-stack-item[gs-min-w=\\\"5\\\"]{min-width:100%}.grid-stack.grid-stack-5>.grid-stack-item[gs-max-w=\\\"5\\\"]{max-width:100%}.grid-stack.grid-stack-6>.grid-stack-item{min-width:16.6666666667%}.grid-stack.grid-stack-6>.grid-stack-item[gs-w=\\\"1\\\"]{width:16.6666666667%}.grid-stack.grid-stack-6>.grid-stack-item[gs-x=\\\"1\\\"]{left:16.6666666667%}.grid-stack.grid-stack-6>.grid-stack-item[gs-min-w=\\\"1\\\"]{min-width:16.6666666667%}.grid-stack.grid-stack-6>.grid-stack-item[gs-max-w=\\\"1\\\"]{max-width:16.6666666667%}.grid-stack.grid-stack-6>.grid-stack-item[gs-w=\\\"2\\\"]{width:33.3333333333%}.grid-stack.grid-stack-6>.grid-stack-item[gs-x=\\\"2\\\"]{left:33.3333333333%}.grid-stack.grid-stack-6>.grid-stack-item[gs-min-w=\\\"2\\\"]{min-width:33.3333333333%}.grid-stack.grid-stack-6>.grid-stack-item[gs-max-w=\\\"2\\\"]{max-width:33.3333333333%}.grid-stack.grid-stack-6>.grid-stack-item[gs-w=\\\"3\\\"]{width:50%}.grid-stack.grid-stack-6>.grid-stack-item[gs-x=\\\"3\\\"]{left:50%}.grid-stack.grid-stack-6>.grid-stack-item[gs-min-w=\\\"3\\\"]{min-width:50%}.grid-stack.grid-stack-6>.grid-stack-item[gs-max-w=\\\"3\\\"]{max-width:50%}.grid-stack.grid-stack-6>.grid-stack-item[gs-w=\\\"4\\\"]{width:66.6666666667%}.grid-stack.grid-stack-6>.grid-stack-item[gs-x=\\\"4\\\"]{left:66.6666666667%}.grid-stack.grid-stack-6>.grid-stack-item[gs-min-w=\\\"4\\\"]{min-width:66.6666666667%}.grid-stack.grid-stack-6>.grid-stack-item[gs-max-w=\\\"4\\\"]{max-width:66.6666666667%}.grid-stack.grid-stack-6>.grid-stack-item[gs-w=\\\"5\\\"]{width:83.3333333333%}.grid-stack.grid-stack-6>.grid-stack-item[gs-x=\\\"5\\\"]{left:83.3333333333%}.grid-stack.grid-stack-6>.grid-stack-item[gs-min-w=\\\"5\\\"]{min-width:83.3333333333%}.grid-stack.grid-stack-6>.grid-stack-item[gs-max-w=\\\"5\\\"]{max-width:83.3333333333%}.grid-stack.grid-stack-6>.grid-stack-item[gs-w=\\\"6\\\"]{width:100%}.grid-stack.grid-stack-6>.grid-stack-item[gs-x=\\\"6\\\"]{left:100%}.grid-stack.grid-stack-6>.grid-stack-item[gs-min-w=\\\"6\\\"]{min-width:100%}.grid-stack.grid-stack-6>.grid-stack-item[gs-max-w=\\\"6\\\"]{max-width:100%}.grid-stack.grid-stack-7>.grid-stack-item{min-width:14.2857142857%}.grid-stack.grid-stack-7>.grid-stack-item[gs-w=\\\"1\\\"]{width:14.2857142857%}.grid-stack.grid-stack-7>.grid-stack-item[gs-x=\\\"1\\\"]{left:14.2857142857%}.grid-stack.grid-stack-7>.grid-stack-item[gs-min-w=\\\"1\\\"]{min-width:14.2857142857%}.grid-stack.grid-stack-7>.grid-stack-item[gs-max-w=\\\"1\\\"]{max-width:14.2857142857%}.grid-stack.grid-stack-7>.grid-stack-item[gs-w=\\\"2\\\"]{width:28.5714285714%}.grid-stack.grid-stack-7>.grid-stack-item[gs-x=\\\"2\\\"]{left:28.5714285714%}.grid-stack.grid-stack-7>.grid-stack-item[gs-min-w=\\\"2\\\"]{min-width:28.5714285714%}.grid-stack.grid-stack-7>.grid-stack-item[gs-max-w=\\\"2\\\"]{max-width:28.5714285714%}.grid-stack.grid-stack-7>.grid-stack-item[gs-w=\\\"3\\\"]{width:42.8571428571%}.grid-stack.grid-stack-7>.grid-stack-item[gs-x=\\\"3\\\"]{left:42.8571428571%}.grid-stack.grid-stack-7>.grid-stack-item[gs-min-w=\\\"3\\\"]{min-width:42.8571428571%}.grid-stack.grid-stack-7>.grid-stack-item[gs-max-w=\\\"3\\\"]{max-width:42.8571428571%}.grid-stack.grid-stack-7>.grid-stack-item[gs-w=\\\"4\\\"]{width:57.1428571429%}.grid-stack.grid-stack-7>.grid-stack-item[gs-x=\\\"4\\\"]{left:57.1428571429%}.grid-stack.grid-stack-7>.grid-stack-item[gs-min-w=\\\"4\\\"]{min-width:57.1428571429%}.grid-stack.grid-stack-7>.grid-stack-item[gs-max-w=\\\"4\\\"]{max-width:57.1428571429%}.grid-stack.grid-stack-7>.grid-stack-item[gs-w=\\\"5\\\"]{width:71.4285714286%}.grid-stack.grid-stack-7>.grid-stack-item[gs-x=\\\"5\\\"]{left:71.4285714286%}.grid-stack.grid-stack-7>.grid-stack-item[gs-min-w=\\\"5\\\"]{min-width:71.4285714286%}.grid-stack.grid-stack-7>.grid-stack-item[gs-max-w=\\\"5\\\"]{max-width:71.4285714286%}.grid-stack.grid-stack-7>.grid-stack-item[gs-w=\\\"6\\\"]{width:85.7142857143%}.grid-stack.grid-stack-7>.grid-stack-item[gs-x=\\\"6\\\"]{left:85.7142857143%}.grid-stack.grid-stack-7>.grid-stack-item[gs-min-w=\\\"6\\\"]{min-width:85.7142857143%}.grid-stack.grid-stack-7>.grid-stack-item[gs-max-w=\\\"6\\\"]{max-width:85.7142857143%}.grid-stack.grid-stack-7>.grid-stack-item[gs-w=\\\"7\\\"]{width:100%}.grid-stack.grid-stack-7>.grid-stack-item[gs-x=\\\"7\\\"]{left:100%}.grid-stack.grid-stack-7>.grid-stack-item[gs-min-w=\\\"7\\\"]{min-width:100%}.grid-stack.grid-stack-7>.grid-stack-item[gs-max-w=\\\"7\\\"]{max-width:100%}.grid-stack.grid-stack-8>.grid-stack-item{min-width:12.5%}.grid-stack.grid-stack-8>.grid-stack-item[gs-w=\\\"1\\\"]{width:12.5%}.grid-stack.grid-stack-8>.grid-stack-item[gs-x=\\\"1\\\"]{left:12.5%}.grid-stack.grid-stack-8>.grid-stack-item[gs-min-w=\\\"1\\\"]{min-width:12.5%}.grid-stack.grid-stack-8>.grid-stack-item[gs-max-w=\\\"1\\\"]{max-width:12.5%}.grid-stack.grid-stack-8>.grid-stack-item[gs-w=\\\"2\\\"]{width:25%}.grid-stack.grid-stack-8>.grid-stack-item[gs-x=\\\"2\\\"]{left:25%}.grid-stack.grid-stack-8>.grid-stack-item[gs-min-w=\\\"2\\\"]{min-width:25%}.grid-stack.grid-stack-8>.grid-stack-item[gs-max-w=\\\"2\\\"]{max-width:25%}.grid-stack.grid-stack-8>.grid-stack-item[gs-w=\\\"3\\\"]{width:37.5%}.grid-stack.grid-stack-8>.grid-stack-item[gs-x=\\\"3\\\"]{left:37.5%}.grid-stack.grid-stack-8>.grid-stack-item[gs-min-w=\\\"3\\\"]{min-width:37.5%}.grid-stack.grid-stack-8>.grid-stack-item[gs-max-w=\\\"3\\\"]{max-width:37.5%}.grid-stack.grid-stack-8>.grid-stack-item[gs-w=\\\"4\\\"]{width:50%}.grid-stack.grid-stack-8>.grid-stack-item[gs-x=\\\"4\\\"]{left:50%}.grid-stack.grid-stack-8>.grid-stack-item[gs-min-w=\\\"4\\\"]{min-width:50%}.grid-stack.grid-stack-8>.grid-stack-item[gs-max-w=\\\"4\\\"]{max-width:50%}.grid-stack.grid-stack-8>.grid-stack-item[gs-w=\\\"5\\\"]{width:62.5%}.grid-stack.grid-stack-8>.grid-stack-item[gs-x=\\\"5\\\"]{left:62.5%}.grid-stack.grid-stack-8>.grid-stack-item[gs-min-w=\\\"5\\\"]{min-width:62.5%}.grid-stack.grid-stack-8>.grid-stack-item[gs-max-w=\\\"5\\\"]{max-width:62.5%}.grid-stack.grid-stack-8>.grid-stack-item[gs-w=\\\"6\\\"]{width:75%}.grid-stack.grid-stack-8>.grid-stack-item[gs-x=\\\"6\\\"]{left:75%}.grid-stack.grid-stack-8>.grid-stack-item[gs-min-w=\\\"6\\\"]{min-width:75%}.grid-stack.grid-stack-8>.grid-stack-item[gs-max-w=\\\"6\\\"]{max-width:75%}.grid-stack.grid-stack-8>.grid-stack-item[gs-w=\\\"7\\\"]{width:87.5%}.grid-stack.grid-stack-8>.grid-stack-item[gs-x=\\\"7\\\"]{left:87.5%}.grid-stack.grid-stack-8>.grid-stack-item[gs-min-w=\\\"7\\\"]{min-width:87.5%}.grid-stack.grid-stack-8>.grid-stack-item[gs-max-w=\\\"7\\\"]{max-width:87.5%}.grid-stack.grid-stack-8>.grid-stack-item[gs-w=\\\"8\\\"]{width:100%}.grid-stack.grid-stack-8>.grid-stack-item[gs-x=\\\"8\\\"]{left:100%}.grid-stack.grid-stack-8>.grid-stack-item[gs-min-w=\\\"8\\\"]{min-width:100%}.grid-stack.grid-stack-8>.grid-stack-item[gs-max-w=\\\"8\\\"]{max-width:100%}.grid-stack.grid-stack-9>.grid-stack-item{min-width:11.1111111111%}.grid-stack.grid-stack-9>.grid-stack-item[gs-w=\\\"1\\\"]{width:11.1111111111%}.grid-stack.grid-stack-9>.grid-stack-item[gs-x=\\\"1\\\"]{left:11.1111111111%}.grid-stack.grid-stack-9>.grid-stack-item[gs-min-w=\\\"1\\\"]{min-width:11.1111111111%}.grid-stack.grid-stack-9>.grid-stack-item[gs-max-w=\\\"1\\\"]{max-width:11.1111111111%}.grid-stack.grid-stack-9>.grid-stack-item[gs-w=\\\"2\\\"]{width:22.2222222222%}.grid-stack.grid-stack-9>.grid-stack-item[gs-x=\\\"2\\\"]{left:22.2222222222%}.grid-stack.grid-stack-9>.grid-stack-item[gs-min-w=\\\"2\\\"]{min-width:22.2222222222%}.grid-stack.grid-stack-9>.grid-stack-item[gs-max-w=\\\"2\\\"]{max-width:22.2222222222%}.grid-stack.grid-stack-9>.grid-stack-item[gs-w=\\\"3\\\"]{width:33.3333333333%}.grid-stack.grid-stack-9>.grid-stack-item[gs-x=\\\"3\\\"]{left:33.3333333333%}.grid-stack.grid-stack-9>.grid-stack-item[gs-min-w=\\\"3\\\"]{min-width:33.3333333333%}.grid-stack.grid-stack-9>.grid-stack-item[gs-max-w=\\\"3\\\"]{max-width:33.3333333333%}.grid-stack.grid-stack-9>.grid-stack-item[gs-w=\\\"4\\\"]{width:44.4444444444%}.grid-stack.grid-stack-9>.grid-stack-item[gs-x=\\\"4\\\"]{left:44.4444444444%}.grid-stack.grid-stack-9>.grid-stack-item[gs-min-w=\\\"4\\\"]{min-width:44.4444444444%}.grid-stack.grid-stack-9>.grid-stack-item[gs-max-w=\\\"4\\\"]{max-width:44.4444444444%}.grid-stack.grid-stack-9>.grid-stack-item[gs-w=\\\"5\\\"]{width:55.5555555556%}.grid-stack.grid-stack-9>.grid-stack-item[gs-x=\\\"5\\\"]{left:55.5555555556%}.grid-stack.grid-stack-9>.grid-stack-item[gs-min-w=\\\"5\\\"]{min-width:55.5555555556%}.grid-stack.grid-stack-9>.grid-stack-item[gs-max-w=\\\"5\\\"]{max-width:55.5555555556%}.grid-stack.grid-stack-9>.grid-stack-item[gs-w=\\\"6\\\"]{width:66.6666666667%}.grid-stack.grid-stack-9>.grid-stack-item[gs-x=\\\"6\\\"]{left:66.6666666667%}.grid-stack.grid-stack-9>.grid-stack-item[gs-min-w=\\\"6\\\"]{min-width:66.6666666667%}.grid-stack.grid-stack-9>.grid-stack-item[gs-max-w=\\\"6\\\"]{max-width:66.6666666667%}.grid-stack.grid-stack-9>.grid-stack-item[gs-w=\\\"7\\\"]{width:77.7777777778%}.grid-stack.grid-stack-9>.grid-stack-item[gs-x=\\\"7\\\"]{left:77.7777777778%}.grid-stack.grid-stack-9>.grid-stack-item[gs-min-w=\\\"7\\\"]{min-width:77.7777777778%}.grid-stack.grid-stack-9>.grid-stack-item[gs-max-w=\\\"7\\\"]{max-width:77.7777777778%}.grid-stack.grid-stack-9>.grid-stack-item[gs-w=\\\"8\\\"]{width:88.8888888889%}.grid-stack.grid-stack-9>.grid-stack-item[gs-x=\\\"8\\\"]{left:88.8888888889%}.grid-stack.grid-stack-9>.grid-stack-item[gs-min-w=\\\"8\\\"]{min-width:88.8888888889%}.grid-stack.grid-stack-9>.grid-stack-item[gs-max-w=\\\"8\\\"]{max-width:88.8888888889%}.grid-stack.grid-stack-9>.grid-stack-item[gs-w=\\\"9\\\"]{width:100%}.grid-stack.grid-stack-9>.grid-stack-item[gs-x=\\\"9\\\"]{left:100%}.grid-stack.grid-stack-9>.grid-stack-item[gs-min-w=\\\"9\\\"]{min-width:100%}.grid-stack.grid-stack-9>.grid-stack-item[gs-max-w=\\\"9\\\"]{max-width:100%}.grid-stack.grid-stack-10>.grid-stack-item{min-width:10%}.grid-stack.grid-stack-10>.grid-stack-item[gs-w=\\\"1\\\"]{width:10%}.grid-stack.grid-stack-10>.grid-stack-item[gs-x=\\\"1\\\"]{left:10%}.grid-stack.grid-stack-10>.grid-stack-item[gs-min-w=\\\"1\\\"]{min-width:10%}.grid-stack.grid-stack-10>.grid-stack-item[gs-max-w=\\\"1\\\"]{max-width:10%}.grid-stack.grid-stack-10>.grid-stack-item[gs-w=\\\"2\\\"]{width:20%}.grid-stack.grid-stack-10>.grid-stack-item[gs-x=\\\"2\\\"]{left:20%}.grid-stack.grid-stack-10>.grid-stack-item[gs-min-w=\\\"2\\\"]{min-width:20%}.grid-stack.grid-stack-10>.grid-stack-item[gs-max-w=\\\"2\\\"]{max-width:20%}.grid-stack.grid-stack-10>.grid-stack-item[gs-w=\\\"3\\\"]{width:30%}.grid-stack.grid-stack-10>.grid-stack-item[gs-x=\\\"3\\\"]{left:30%}.grid-stack.grid-stack-10>.grid-stack-item[gs-min-w=\\\"3\\\"]{min-width:30%}.grid-stack.grid-stack-10>.grid-stack-item[gs-max-w=\\\"3\\\"]{max-width:30%}.grid-stack.grid-stack-10>.grid-stack-item[gs-w=\\\"4\\\"]{width:40%}.grid-stack.grid-stack-10>.grid-stack-item[gs-x=\\\"4\\\"]{left:40%}.grid-stack.grid-stack-10>.grid-stack-item[gs-min-w=\\\"4\\\"]{min-width:40%}.grid-stack.grid-stack-10>.grid-stack-item[gs-max-w=\\\"4\\\"]{max-width:40%}.grid-stack.grid-stack-10>.grid-stack-item[gs-w=\\\"5\\\"]{width:50%}.grid-stack.grid-stack-10>.grid-stack-item[gs-x=\\\"5\\\"]{left:50%}.grid-stack.grid-stack-10>.grid-stack-item[gs-min-w=\\\"5\\\"]{min-width:50%}.grid-stack.grid-stack-10>.grid-stack-item[gs-max-w=\\\"5\\\"]{max-width:50%}.grid-stack.grid-stack-10>.grid-stack-item[gs-w=\\\"6\\\"]{width:60%}.grid-stack.grid-stack-10>.grid-stack-item[gs-x=\\\"6\\\"]{left:60%}.grid-stack.grid-stack-10>.grid-stack-item[gs-min-w=\\\"6\\\"]{min-width:60%}.grid-stack.grid-stack-10>.grid-stack-item[gs-max-w=\\\"6\\\"]{max-width:60%}.grid-stack.grid-stack-10>.grid-stack-item[gs-w=\\\"7\\\"]{width:70%}.grid-stack.grid-stack-10>.grid-stack-item[gs-x=\\\"7\\\"]{left:70%}.grid-stack.grid-stack-10>.grid-stack-item[gs-min-w=\\\"7\\\"]{min-width:70%}.grid-stack.grid-stack-10>.grid-stack-item[gs-max-w=\\\"7\\\"]{max-width:70%}.grid-stack.grid-stack-10>.grid-stack-item[gs-w=\\\"8\\\"]{width:80%}.grid-stack.grid-stack-10>.grid-stack-item[gs-x=\\\"8\\\"]{left:80%}.grid-stack.grid-stack-10>.grid-stack-item[gs-min-w=\\\"8\\\"]{min-width:80%}.grid-stack.grid-stack-10>.grid-stack-item[gs-max-w=\\\"8\\\"]{max-width:80%}.grid-stack.grid-stack-10>.grid-stack-item[gs-w=\\\"9\\\"]{width:90%}.grid-stack.grid-stack-10>.grid-stack-item[gs-x=\\\"9\\\"]{left:90%}.grid-stack.grid-stack-10>.grid-stack-item[gs-min-w=\\\"9\\\"]{min-width:90%}.grid-stack.grid-stack-10>.grid-stack-item[gs-max-w=\\\"9\\\"]{max-width:90%}.grid-stack.grid-stack-10>.grid-stack-item[gs-w=\\\"10\\\"]{width:100%}.grid-stack.grid-stack-10>.grid-stack-item[gs-x=\\\"10\\\"]{left:100%}.grid-stack.grid-stack-10>.grid-stack-item[gs-min-w=\\\"10\\\"]{min-width:100%}.grid-stack.grid-stack-10>.grid-stack-item[gs-max-w=\\\"10\\\"]{max-width:100%}.grid-stack.grid-stack-11>.grid-stack-item{min-width:9.0909090909%}.grid-stack.grid-stack-11>.grid-stack-item[gs-w=\\\"1\\\"]{width:9.0909090909%}.grid-stack.grid-stack-11>.grid-stack-item[gs-x=\\\"1\\\"]{left:9.0909090909%}.grid-stack.grid-stack-11>.grid-stack-item[gs-min-w=\\\"1\\\"]{min-width:9.0909090909%}.grid-stack.grid-stack-11>.grid-stack-item[gs-max-w=\\\"1\\\"]{max-width:9.0909090909%}.grid-stack.grid-stack-11>.grid-stack-item[gs-w=\\\"2\\\"]{width:18.1818181818%}.grid-stack.grid-stack-11>.grid-stack-item[gs-x=\\\"2\\\"]{left:18.1818181818%}.grid-stack.grid-stack-11>.grid-stack-item[gs-min-w=\\\"2\\\"]{min-width:18.1818181818%}.grid-stack.grid-stack-11>.grid-stack-item[gs-max-w=\\\"2\\\"]{max-width:18.1818181818%}.grid-stack.grid-stack-11>.grid-stack-item[gs-w=\\\"3\\\"]{width:27.2727272727%}.grid-stack.grid-stack-11>.grid-stack-item[gs-x=\\\"3\\\"]{left:27.2727272727%}.grid-stack.grid-stack-11>.grid-stack-item[gs-min-w=\\\"3\\\"]{min-width:27.2727272727%}.grid-stack.grid-stack-11>.grid-stack-item[gs-max-w=\\\"3\\\"]{max-width:27.2727272727%}.grid-stack.grid-stack-11>.grid-stack-item[gs-w=\\\"4\\\"]{width:36.3636363636%}.grid-stack.grid-stack-11>.grid-stack-item[gs-x=\\\"4\\\"]{left:36.3636363636%}.grid-stack.grid-stack-11>.grid-stack-item[gs-min-w=\\\"4\\\"]{min-width:36.3636363636%}.grid-stack.grid-stack-11>.grid-stack-item[gs-max-w=\\\"4\\\"]{max-width:36.3636363636%}.grid-stack.grid-stack-11>.grid-stack-item[gs-w=\\\"5\\\"]{width:45.4545454545%}.grid-stack.grid-stack-11>.grid-stack-item[gs-x=\\\"5\\\"]{left:45.4545454545%}.grid-stack.grid-stack-11>.grid-stack-item[gs-min-w=\\\"5\\\"]{min-width:45.4545454545%}.grid-stack.grid-stack-11>.grid-stack-item[gs-max-w=\\\"5\\\"]{max-width:45.4545454545%}.grid-stack.grid-stack-11>.grid-stack-item[gs-w=\\\"6\\\"]{width:54.5454545455%}.grid-stack.grid-stack-11>.grid-stack-item[gs-x=\\\"6\\\"]{left:54.5454545455%}.grid-stack.grid-stack-11>.grid-stack-item[gs-min-w=\\\"6\\\"]{min-width:54.5454545455%}.grid-stack.grid-stack-11>.grid-stack-item[gs-max-w=\\\"6\\\"]{max-width:54.5454545455%}.grid-stack.grid-stack-11>.grid-stack-item[gs-w=\\\"7\\\"]{width:63.6363636364%}.grid-stack.grid-stack-11>.grid-stack-item[gs-x=\\\"7\\\"]{left:63.6363636364%}.grid-stack.grid-stack-11>.grid-stack-item[gs-min-w=\\\"7\\\"]{min-width:63.6363636364%}.grid-stack.grid-stack-11>.grid-stack-item[gs-max-w=\\\"7\\\"]{max-width:63.6363636364%}.grid-stack.grid-stack-11>.grid-stack-item[gs-w=\\\"8\\\"]{width:72.7272727273%}.grid-stack.grid-stack-11>.grid-stack-item[gs-x=\\\"8\\\"]{left:72.7272727273%}.grid-stack.grid-stack-11>.grid-stack-item[gs-min-w=\\\"8\\\"]{min-width:72.7272727273%}.grid-stack.grid-stack-11>.grid-stack-item[gs-max-w=\\\"8\\\"]{max-width:72.7272727273%}.grid-stack.grid-stack-11>.grid-stack-item[gs-w=\\\"9\\\"]{width:81.8181818182%}.grid-stack.grid-stack-11>.grid-stack-item[gs-x=\\\"9\\\"]{left:81.8181818182%}.grid-stack.grid-stack-11>.grid-stack-item[gs-min-w=\\\"9\\\"]{min-width:81.8181818182%}.grid-stack.grid-stack-11>.grid-stack-item[gs-max-w=\\\"9\\\"]{max-width:81.8181818182%}.grid-stack.grid-stack-11>.grid-stack-item[gs-w=\\\"10\\\"]{width:90.9090909091%}.grid-stack.grid-stack-11>.grid-stack-item[gs-x=\\\"10\\\"]{left:90.9090909091%}.grid-stack.grid-stack-11>.grid-stack-item[gs-min-w=\\\"10\\\"]{min-width:90.9090909091%}.grid-stack.grid-stack-11>.grid-stack-item[gs-max-w=\\\"10\\\"]{max-width:90.9090909091%}.grid-stack.grid-stack-11>.grid-stack-item[gs-w=\\\"11\\\"]{width:100%}.grid-stack.grid-stack-11>.grid-stack-item[gs-x=\\\"11\\\"]{left:100%}.grid-stack.grid-stack-11>.grid-stack-item[gs-min-w=\\\"11\\\"]{min-width:100%}.grid-stack.grid-stack-11>.grid-stack-item[gs-max-w=\\\"11\\\"]{max-width:100%}\");\n    },    function(Bokeh) {\n      inject_raw_css(\"\\n#sidebar { background-color: #fafafa; }\\n#sidebar > .mdc-drawer__content > .mdc-list { box-sizing: border-box; height: 100%; }\\n\");\n    },    function(Bokeh) {\n      Bokeh.set_log_level(\"info\");\n    },\nfunction(Bokeh) {} // ensure no trailing comma for IE\n  ];\n\n  function run_inline_js() {\n    if ((root.Bokeh !== undefined) || (force === true)) {\n      for (var i = 0; i < inline_js.length; i++) {\n        inline_js[i].call(root, root.Bokeh);\n      }\n      // Cache old bokeh versions\n      if (Bokeh != undefined && !reloading) {\n\tvar NewBokeh = root.Bokeh;\n\tif (Bokeh.versions === undefined) {\n\t  Bokeh.versions = new Map();\n\t}\n\tif (NewBokeh.version !== Bokeh.version) {\n\t  Bokeh.versions.set(NewBokeh.version, NewBokeh)\n\t}\n\troot.Bokeh = Bokeh;\n      }} else if (Date.now() < root._bokeh_timeout) {\n      setTimeout(run_inline_js, 100);\n    } else if (!root._bokeh_failed_load) {\n      console.log(\"Bokeh: BokehJS failed to load within specified timeout.\");\n      root._bokeh_failed_load = true;\n    }\n    root._bokeh_is_initializing = false\n  }\n\n  function load_or_wait() {\n    // Implement a backoff loop that tries to ensure we do not load multiple\n    // versions of Bokeh and its dependencies at the same time.\n    // In recent versions we use the root._bokeh_is_initializing flag\n    // to determine whether there is an ongoing attempt to initialize\n    // bokeh, however for backward compatibility we also try to ensure\n    // that we do not start loading a newer (Panel>=1.0 and Bokeh>3) version\n    // before older versions are fully initialized.\n    if (root._bokeh_is_initializing && Date.now() > root._bokeh_timeout) {\n      root._bokeh_is_initializing = false;\n      root._bokeh_onload_callbacks = undefined;\n      console.log(\"Bokeh: BokehJS was loaded multiple times but one version failed to initialize.\");\n      load_or_wait();\n    } else if (root._bokeh_is_initializing || (typeof root._bokeh_is_initializing === \"undefined\" && root._bokeh_onload_callbacks !== undefined)) {\n      setTimeout(load_or_wait, 100);\n    } else {\n      Bokeh = root.Bokeh;\n      bokeh_loaded = Bokeh != null && (Bokeh.version === py_version || (Bokeh.versions !== undefined && Bokeh.versions.has(py_version)));\n      root._bokeh_is_initializing = true\n      root._bokeh_onload_callbacks = []\n      if (!reloading && (!bokeh_loaded || is_dev)) {\n\troot.Bokeh = undefined;\n      }\n      load_libs(css_urls, js_urls, js_modules, js_exports, function() {\n\tconsole.debug(\"Bokeh: BokehJS plotting callback run at\", now());\n\trun_inline_js();\n      });\n    }\n  }\n  // Give older versions of the autoload script a head-start to ensure\n  // they initialize before we start loading newer version.\n  setTimeout(load_or_wait, 100)\n}(window));",
      "application/vnd.holoviews_load.v0+json": ""
     },
     "metadata": {},
     "output_type": "display_data"
    },
    {
     "data": {
      "application/javascript": "\nif ((window.PyViz === undefined) || (window.PyViz instanceof HTMLElement)) {\n  window.PyViz = {comms: {}, comm_status:{}, kernels:{}, receivers: {}, plot_index: []}\n}\n\n\n    function JupyterCommManager() {\n    }\n\n    JupyterCommManager.prototype.register_target = function(plot_id, comm_id, msg_handler) {\n      if (window.comm_manager || ((window.Jupyter !== undefined) && (Jupyter.notebook.kernel != null))) {\n        var comm_manager = window.comm_manager || Jupyter.notebook.kernel.comm_manager;\n        comm_manager.register_target(comm_id, function(comm) {\n          comm.on_msg(msg_handler);\n        });\n      } else if ((plot_id in window.PyViz.kernels) && (window.PyViz.kernels[plot_id])) {\n        window.PyViz.kernels[plot_id].registerCommTarget(comm_id, function(comm) {\n          comm.onMsg = msg_handler;\n        });\n      } else if (typeof google != 'undefined' && google.colab.kernel != null) {\n        google.colab.kernel.comms.registerTarget(comm_id, (comm) => {\n          var messages = comm.messages[Symbol.asyncIterator]();\n          function processIteratorResult(result) {\n            var message = result.value;\n            console.log(message)\n            var content = {data: message.data, comm_id};\n            var buffers = []\n            for (var buffer of message.buffers || []) {\n              buffers.push(new DataView(buffer))\n            }\n            var metadata = message.metadata || {};\n            var msg = {content, buffers, metadata}\n            msg_handler(msg);\n            return messages.next().then(processIteratorResult);\n          }\n          return messages.next().then(processIteratorResult);\n        })\n      }\n    }\n\n    JupyterCommManager.prototype.get_client_comm = function(plot_id, comm_id, msg_handler) {\n      if (comm_id in window.PyViz.comms) {\n        return window.PyViz.comms[comm_id];\n      } else if (window.comm_manager || ((window.Jupyter !== undefined) && (Jupyter.notebook.kernel != null))) {\n        var comm_manager = window.comm_manager || Jupyter.notebook.kernel.comm_manager;\n        var comm = comm_manager.new_comm(comm_id, {}, {}, {}, comm_id);\n        if (msg_handler) {\n          comm.on_msg(msg_handler);\n        }\n      } else if ((plot_id in window.PyViz.kernels) && (window.PyViz.kernels[plot_id])) {\n        var comm = window.PyViz.kernels[plot_id].connectToComm(comm_id);\n        comm.open();\n        if (msg_handler) {\n          comm.onMsg = msg_handler;\n        }\n      } else if (typeof google != 'undefined' && google.colab.kernel != null) {\n        var comm_promise = google.colab.kernel.comms.open(comm_id)\n        comm_promise.then((comm) => {\n          window.PyViz.comms[comm_id] = comm;\n          if (msg_handler) {\n            var messages = comm.messages[Symbol.asyncIterator]();\n            function processIteratorResult(result) {\n              var message = result.value;\n              var content = {data: message.data};\n              var metadata = message.metadata || {comm_id};\n              var msg = {content, metadata}\n              msg_handler(msg);\n              return messages.next().then(processIteratorResult);\n            }\n            return messages.next().then(processIteratorResult);\n          }\n        }) \n        var sendClosure = (data, metadata, buffers, disposeOnDone) => {\n          return comm_promise.then((comm) => {\n            comm.send(data, metadata, buffers, disposeOnDone);\n          });\n        };\n        var comm = {\n          send: sendClosure\n        };\n      }\n      window.PyViz.comms[comm_id] = comm;\n      return comm;\n    }\n    window.PyViz.comm_manager = new JupyterCommManager();\n    \n\n\nvar JS_MIME_TYPE = 'application/javascript';\nvar HTML_MIME_TYPE = 'text/html';\nvar EXEC_MIME_TYPE = 'application/vnd.holoviews_exec.v0+json';\nvar CLASS_NAME = 'output';\n\n/**\n * Render data to the DOM node\n */\nfunction render(props, node) {\n  var div = document.createElement(\"div\");\n  var script = document.createElement(\"script\");\n  node.appendChild(div);\n  node.appendChild(script);\n}\n\n/**\n * Handle when a new output is added\n */\nfunction handle_add_output(event, handle) {\n  var output_area = handle.output_area;\n  var output = handle.output;\n  if ((output.data == undefined) || (!output.data.hasOwnProperty(EXEC_MIME_TYPE))) {\n    return\n  }\n  var id = output.metadata[EXEC_MIME_TYPE][\"id\"];\n  var toinsert = output_area.element.find(\".\" + CLASS_NAME.split(' ')[0]);\n  if (id !== undefined) {\n    var nchildren = toinsert.length;\n    var html_node = toinsert[nchildren-1].children[0];\n    html_node.innerHTML = output.data[HTML_MIME_TYPE];\n    var scripts = [];\n    var nodelist = html_node.querySelectorAll(\"script\");\n    for (var i in nodelist) {\n      if (nodelist.hasOwnProperty(i)) {\n        scripts.push(nodelist[i])\n      }\n    }\n\n    scripts.forEach( function (oldScript) {\n      var newScript = document.createElement(\"script\");\n      var attrs = [];\n      var nodemap = oldScript.attributes;\n      for (var j in nodemap) {\n        if (nodemap.hasOwnProperty(j)) {\n          attrs.push(nodemap[j])\n        }\n      }\n      attrs.forEach(function(attr) { newScript.setAttribute(attr.name, attr.value) });\n      newScript.appendChild(document.createTextNode(oldScript.innerHTML));\n      oldScript.parentNode.replaceChild(newScript, oldScript);\n    });\n    if (JS_MIME_TYPE in output.data) {\n      toinsert[nchildren-1].children[1].textContent = output.data[JS_MIME_TYPE];\n    }\n    output_area._hv_plot_id = id;\n    if ((window.Bokeh !== undefined) && (id in Bokeh.index)) {\n      window.PyViz.plot_index[id] = Bokeh.index[id];\n    } else {\n      window.PyViz.plot_index[id] = null;\n    }\n  } else if (output.metadata[EXEC_MIME_TYPE][\"server_id\"] !== undefined) {\n    var bk_div = document.createElement(\"div\");\n    bk_div.innerHTML = output.data[HTML_MIME_TYPE];\n    var script_attrs = bk_div.children[0].attributes;\n    for (var i = 0; i < script_attrs.length; i++) {\n      toinsert[toinsert.length - 1].childNodes[1].setAttribute(script_attrs[i].name, script_attrs[i].value);\n    }\n    // store reference to server id on output_area\n    output_area._bokeh_server_id = output.metadata[EXEC_MIME_TYPE][\"server_id\"];\n  }\n}\n\n/**\n * Handle when an output is cleared or removed\n */\nfunction handle_clear_output(event, handle) {\n  var id = handle.cell.output_area._hv_plot_id;\n  var server_id = handle.cell.output_area._bokeh_server_id;\n  if (((id === undefined) || !(id in PyViz.plot_index)) && (server_id !== undefined)) { return; }\n  var comm = window.PyViz.comm_manager.get_client_comm(\"hv-extension-comm\", \"hv-extension-comm\", function () {});\n  if (server_id !== null) {\n    comm.send({event_type: 'server_delete', 'id': server_id});\n    return;\n  } else if (comm !== null) {\n    comm.send({event_type: 'delete', 'id': id});\n  }\n  delete PyViz.plot_index[id];\n  if ((window.Bokeh !== undefined) & (id in window.Bokeh.index)) {\n    var doc = window.Bokeh.index[id].model.document\n    doc.clear();\n    const i = window.Bokeh.documents.indexOf(doc);\n    if (i > -1) {\n      window.Bokeh.documents.splice(i, 1);\n    }\n  }\n}\n\n/**\n * Handle kernel restart event\n */\nfunction handle_kernel_cleanup(event, handle) {\n  delete PyViz.comms[\"hv-extension-comm\"];\n  window.PyViz.plot_index = {}\n}\n\n/**\n * Handle update_display_data messages\n */\nfunction handle_update_output(event, handle) {\n  handle_clear_output(event, {cell: {output_area: handle.output_area}})\n  handle_add_output(event, handle)\n}\n\nfunction register_renderer(events, OutputArea) {\n  function append_mime(data, metadata, element) {\n    // create a DOM node to render to\n    var toinsert = this.create_output_subarea(\n    metadata,\n    CLASS_NAME,\n    EXEC_MIME_TYPE\n    );\n    this.keyboard_manager.register_events(toinsert);\n    // Render to node\n    var props = {data: data, metadata: metadata[EXEC_MIME_TYPE]};\n    render(props, toinsert[0]);\n    element.append(toinsert);\n    return toinsert\n  }\n\n  events.on('output_added.OutputArea', handle_add_output);\n  events.on('output_updated.OutputArea', handle_update_output);\n  events.on('clear_output.CodeCell', handle_clear_output);\n  events.on('delete.Cell', handle_clear_output);\n  events.on('kernel_ready.Kernel', handle_kernel_cleanup);\n\n  OutputArea.prototype.register_mime_type(EXEC_MIME_TYPE, append_mime, {\n    safe: true,\n    index: 0\n  });\n}\n\nif (window.Jupyter !== undefined) {\n  try {\n    var events = require('base/js/events');\n    var OutputArea = require('notebook/js/outputarea').OutputArea;\n    if (OutputArea.prototype.mime_types().indexOf(EXEC_MIME_TYPE) == -1) {\n      register_renderer(events, OutputArea);\n    }\n  } catch(err) {\n  }\n}\n",
      "application/vnd.holoviews_load.v0+json": ""
     },
     "metadata": {},
     "output_type": "display_data"
    },
    {
     "data": {
      "text/html": [
       "<style>*[data-root-id],\n",
       "*[data-root-id] > * {\n",
       "  box-sizing: border-box;\n",
       "  font-family: var(--jp-ui-font-family);\n",
       "  font-size: var(--jp-ui-font-size1);\n",
       "  color: var(--vscode-editor-foreground, var(--jp-ui-font-color1));\n",
       "}\n",
       "\n",
       "/* Override VSCode background color */\n",
       ".cell-output-ipywidget-background:has(\n",
       "    > .cell-output-ipywidget-background > .lm-Widget > *[data-root-id]\n",
       "  ),\n",
       ".cell-output-ipywidget-background:has(> .lm-Widget > *[data-root-id]) {\n",
       "  background-color: transparent !important;\n",
       "}\n",
       "</style>"
      ]
     },
     "metadata": {},
     "output_type": "display_data"
    },
    {
     "data": {
      "application/vnd.holoviews_exec.v0+json": "",
      "text/html": [
       "<div id='5e555581-5236-4a61-990c-29d78a14d5b2'>\n",
       "  <div id=\"dc712f03-8e6e-4f5f-a198-b3c08fea0fac\" data-root-id=\"5e555581-5236-4a61-990c-29d78a14d5b2\" style=\"display: contents;\"></div>\n",
       "</div>\n",
       "<script type=\"application/javascript\">(function(root) {\n",
       "  var docs_json = {\"aeb9f027-ba12-4f0e-a0ba-daa1d056a224\":{\"version\":\"3.2.2\",\"title\":\"Bokeh Application\",\"roots\":[{\"type\":\"object\",\"name\":\"panel.models.browser.BrowserInfo\",\"id\":\"5e555581-5236-4a61-990c-29d78a14d5b2\"},{\"type\":\"object\",\"name\":\"panel.models.comm_manager.CommManager\",\"id\":\"ba1c90f1-f6df-47c3-92c7-d42f7c6740cc\",\"attributes\":{\"plot_id\":\"5e555581-5236-4a61-990c-29d78a14d5b2\",\"comm_id\":\"a81b783dd9d34279b613b30fd5a6cdd1\",\"client_comm_id\":\"92549c866b9c4cafb94fbce05cd7f78b\"}}],\"defs\":[{\"type\":\"model\",\"name\":\"ReactiveHTML1\"},{\"type\":\"model\",\"name\":\"FlexBox1\",\"properties\":[{\"name\":\"align_content\",\"kind\":\"Any\",\"default\":\"flex-start\"},{\"name\":\"align_items\",\"kind\":\"Any\",\"default\":\"flex-start\"},{\"name\":\"flex_direction\",\"kind\":\"Any\",\"default\":\"row\"},{\"name\":\"flex_wrap\",\"kind\":\"Any\",\"default\":\"wrap\"},{\"name\":\"justify_content\",\"kind\":\"Any\",\"default\":\"flex-start\"}]},{\"type\":\"model\",\"name\":\"FloatPanel1\",\"properties\":[{\"name\":\"config\",\"kind\":\"Any\",\"default\":{\"type\":\"map\"}},{\"name\":\"contained\",\"kind\":\"Any\",\"default\":true},{\"name\":\"position\",\"kind\":\"Any\",\"default\":\"right-top\"},{\"name\":\"offsetx\",\"kind\":\"Any\",\"default\":null},{\"name\":\"offsety\",\"kind\":\"Any\",\"default\":null},{\"name\":\"theme\",\"kind\":\"Any\",\"default\":\"primary\"},{\"name\":\"status\",\"kind\":\"Any\",\"default\":\"normalized\"}]},{\"type\":\"model\",\"name\":\"GridStack1\",\"properties\":[{\"name\":\"mode\",\"kind\":\"Any\",\"default\":\"warn\"},{\"name\":\"ncols\",\"kind\":\"Any\",\"default\":null},{\"name\":\"nrows\",\"kind\":\"Any\",\"default\":null},{\"name\":\"allow_resize\",\"kind\":\"Any\",\"default\":true},{\"name\":\"allow_drag\",\"kind\":\"Any\",\"default\":true},{\"name\":\"state\",\"kind\":\"Any\",\"default\":[]}]},{\"type\":\"model\",\"name\":\"drag1\",\"properties\":[{\"name\":\"slider_width\",\"kind\":\"Any\",\"default\":5},{\"name\":\"slider_color\",\"kind\":\"Any\",\"default\":\"black\"},{\"name\":\"value\",\"kind\":\"Any\",\"default\":50}]},{\"type\":\"model\",\"name\":\"click1\",\"properties\":[{\"name\":\"terminal_output\",\"kind\":\"Any\",\"default\":\"\"},{\"name\":\"debug_name\",\"kind\":\"Any\",\"default\":\"\"},{\"name\":\"clears\",\"kind\":\"Any\",\"default\":0}]},{\"type\":\"model\",\"name\":\"FastWrapper1\",\"properties\":[{\"name\":\"object\",\"kind\":\"Any\",\"default\":null},{\"name\":\"style\",\"kind\":\"Any\",\"default\":null}]},{\"type\":\"model\",\"name\":\"NotificationAreaBase1\",\"properties\":[{\"name\":\"js_events\",\"kind\":\"Any\",\"default\":{\"type\":\"map\"}},{\"name\":\"position\",\"kind\":\"Any\",\"default\":\"bottom-right\"},{\"name\":\"_clear\",\"kind\":\"Any\",\"default\":0}]},{\"type\":\"model\",\"name\":\"NotificationArea1\",\"properties\":[{\"name\":\"js_events\",\"kind\":\"Any\",\"default\":{\"type\":\"map\"}},{\"name\":\"notifications\",\"kind\":\"Any\",\"default\":[]},{\"name\":\"position\",\"kind\":\"Any\",\"default\":\"bottom-right\"},{\"name\":\"_clear\",\"kind\":\"Any\",\"default\":0},{\"name\":\"types\",\"kind\":\"Any\",\"default\":[{\"type\":\"map\",\"entries\":[[\"type\",\"warning\"],[\"background\",\"#ffc107\"],[\"icon\",{\"type\":\"map\",\"entries\":[[\"className\",\"fas fa-exclamation-triangle\"],[\"tagName\",\"i\"],[\"color\",\"white\"]]}]]},{\"type\":\"map\",\"entries\":[[\"type\",\"info\"],[\"background\",\"#007bff\"],[\"icon\",{\"type\":\"map\",\"entries\":[[\"className\",\"fas fa-info-circle\"],[\"tagName\",\"i\"],[\"color\",\"white\"]]}]]}]}]},{\"type\":\"model\",\"name\":\"Notification\",\"properties\":[{\"name\":\"background\",\"kind\":\"Any\",\"default\":null},{\"name\":\"duration\",\"kind\":\"Any\",\"default\":3000},{\"name\":\"icon\",\"kind\":\"Any\",\"default\":null},{\"name\":\"message\",\"kind\":\"Any\",\"default\":\"\"},{\"name\":\"notification_type\",\"kind\":\"Any\",\"default\":null},{\"name\":\"_destroyed\",\"kind\":\"Any\",\"default\":false}]},{\"type\":\"model\",\"name\":\"TemplateActions1\",\"properties\":[{\"name\":\"open_modal\",\"kind\":\"Any\",\"default\":0},{\"name\":\"close_modal\",\"kind\":\"Any\",\"default\":0}]},{\"type\":\"model\",\"name\":\"BootstrapTemplateActions1\",\"properties\":[{\"name\":\"open_modal\",\"kind\":\"Any\",\"default\":0},{\"name\":\"close_modal\",\"kind\":\"Any\",\"default\":0}]},{\"type\":\"model\",\"name\":\"MaterialTemplateActions1\",\"properties\":[{\"name\":\"open_modal\",\"kind\":\"Any\",\"default\":0},{\"name\":\"close_modal\",\"kind\":\"Any\",\"default\":0}]},{\"type\":\"model\",\"name\":\"Grid1\"}]}};\n",
       "  var render_items = [{\"docid\":\"aeb9f027-ba12-4f0e-a0ba-daa1d056a224\",\"roots\":{\"5e555581-5236-4a61-990c-29d78a14d5b2\":\"dc712f03-8e6e-4f5f-a198-b3c08fea0fac\"},\"root_ids\":[\"5e555581-5236-4a61-990c-29d78a14d5b2\"]}];\n",
       "  var docs = Object.values(docs_json)\n",
       "  if (!docs) {\n",
       "    return\n",
       "  }\n",
       "  const py_version = docs[0].version.replace('rc', '-rc.').replace('.dev', '-dev.')\n",
       "  const is_dev = py_version.indexOf(\"+\") !== -1 || py_version.indexOf(\"-\") !== -1\n",
       "  function embed_document(root) {\n",
       "    var Bokeh = get_bokeh(root)\n",
       "    Bokeh.embed.embed_items_notebook(docs_json, render_items);\n",
       "    for (const render_item of render_items) {\n",
       "      for (const root_id of render_item.root_ids) {\n",
       "\tconst id_el = document.getElementById(root_id)\n",
       "\tif (id_el.children.length && (id_el.children[0].className === 'bk-root')) {\n",
       "\t  const root_el = id_el.children[0]\n",
       "\t  root_el.id = root_el.id + '-rendered'\n",
       "\t}\n",
       "      }\n",
       "    }\n",
       "  }\n",
       "  function get_bokeh(root) {\n",
       "    if (root.Bokeh === undefined) {\n",
       "      return null\n",
       "    } else if (root.Bokeh.version !== py_version && !is_dev) {\n",
       "      if (root.Bokeh.versions === undefined || !root.Bokeh.versions.has(py_version)) {\n",
       "\treturn null\n",
       "      }\n",
       "      return root.Bokeh.versions.get(py_version);\n",
       "    } else if (root.Bokeh.version === py_version) {\n",
       "      return root.Bokeh\n",
       "    }\n",
       "    return null\n",
       "  }\n",
       "  function is_loaded(root) {\n",
       "    var Bokeh = get_bokeh(root)\n",
       "    return (Bokeh != null && Bokeh.Panel !== undefined && ( root['Terminal'] !== undefined|| root['xtermjs'] !== undefined) && ( root['Tabulator'] !== undefined) && ( root['Plotly'] !== undefined) && ( root['MathJax'] !== undefined) && ( root['Terminal'] !== undefined|| root['xtermjs'] !== undefined) && ( root['GridStack'] !== undefined) && ( root['Tabulator'] !== undefined) && ( root['Plotly'] !== undefined) && ( root['MathJax'] !== undefined))\n",
       "  }\n",
       "  if (is_loaded(root)) {\n",
       "    embed_document(root);\n",
       "  } else {\n",
       "    var attempts = 0;\n",
       "    var timer = setInterval(function(root) {\n",
       "      if (is_loaded(root)) {\n",
       "        clearInterval(timer);\n",
       "        embed_document(root);\n",
       "      } else if (document.readyState == \"complete\") {\n",
       "        attempts++;\n",
       "        if (attempts > 200) {\n",
       "          clearInterval(timer);\n",
       "\t  var Bokeh = get_bokeh(root)\n",
       "\t  if (Bokeh == null || Bokeh.Panel == null) {\n",
       "            console.warn(\"Panel: ERROR: Unable to run Panel code because Bokeh or Panel library is missing\");\n",
       "\t  } else {\n",
       "\t    console.warn(\"Panel: WARNING: Attempting to render but not all required libraries could be resolved.\")\n",
       "\t    embed_document(root)\n",
       "\t  }\n",
       "        }\n",
       "      }\n",
       "    }, 25, root)\n",
       "  }\n",
       "})(window);</script>"
      ]
     },
     "metadata": {
      "application/vnd.holoviews_exec.v0+json": {
       "id": "5e555581-5236-4a61-990c-29d78a14d5b2"
      }
     },
     "output_type": "display_data"
    }
   ],
   "source": [
    "import manganite\n",
    "%load_ext manganite"
   ]
  },
  {
   "cell_type": "markdown",
   "metadata": {},
   "source": [
    "# CO2 emission dashboard\n",
    "Move the slider to get the data from the corresponding year\n",
    "#### Carbon dioxide emissions are the primary driver of global climate change. It’s widely recognised that to avoid the worst impacts of climate change, the world needs to urgently reduce emissions. But, how this responsibility is shared between regions, countries, and individuals has been an endless point of contention in international discussions.\n"
   ]
  },
  {
   "cell_type": "code",
   "execution_count": 2,
   "metadata": {},
   "outputs": [],
   "source": [
    "# Import the Python packages\n",
    "import pandas as pd\n",
    "import numpy as np\n",
    "import plotly.express as px\n"
   ]
  },
  {
   "cell_type": "code",
   "execution_count": 3,
   "metadata": {},
   "outputs": [],
   "source": [
    "df = pd.read_csv('https://raw.githubusercontent.com/owid/co2-data/master/owid-co2-data.csv')"
   ]
  },
  {
   "cell_type": "code",
   "execution_count": 4,
   "metadata": {},
   "outputs": [],
   "source": [
    "# Fill NAs with 0s and create GDP per capita column\n",
    "df = df.fillna(0)\n",
    "df['gdp_per_capita'] = np.where(df['population']!= 0, df['gdp']/ df['population'], 0)"
   ]
  },
  {
   "cell_type": "code",
   "execution_count": 5,
   "metadata": {},
   "outputs": [],
   "source": [
    "#Add slider"
   ]
  },
  {
   "cell_type": "code",
   "execution_count": 6,
   "metadata": {},
   "outputs": [],
   "source": [
    "%%mnn widget --type slider 1750:2015:5 --tab \"Emission\" --header \"Year\" --var year_slider\n",
    "year_slider = 2010"
   ]
  },
  {
   "cell_type": "code",
   "execution_count": 7,
   "metadata": {},
   "outputs": [],
   "source": [
    "# add selector\n",
    "options=['co2', 'co2_per_capita']"
   ]
  },
  {
   "cell_type": "code",
   "execution_count": 8,
   "metadata": {},
   "outputs": [],
   "source": [
    "%%mnn widget --type radio options --tab \"Emission\" --header \"Y - axis\" --var yaxis_co2\n",
    "yaxis_co2 = options[0]"
   ]
  },
  {
   "cell_type": "code",
   "execution_count": 9,
   "metadata": {},
   "outputs": [],
   "source": [
    "#  Continent Selector\n",
    "continents = ['World', 'Asia', 'Oceania', 'Europe', 'Africa', 'North America', 'South America', 'Antarctica']"
   ]
  },
  {
   "cell_type": "code",
   "execution_count": 10,
   "metadata": {},
   "outputs": [],
   "source": [
    "# %%mnn widget --type select continents --tab \"Emission\" --header \"Select Continent\" --var continent --position 1 1 4\n",
    "# continent = continents[0]"
   ]
  },
  {
   "cell_type": "code",
   "execution_count": 11,
   "metadata": {},
   "outputs": [],
   "source": [
    "%%mnn widget --type plot --var fig_0 --tab \"Emission\" --header \"CO2 Emission by continent\"\n",
    "# Adding chart 0\n",
    "df_0 = df[(df['year'] <= year_slider) &  (df['country'].isin(continents))]\n",
    "fig_0 = px.line(df_0, x='year', y= yaxis_co2, color='country')\n"
   ]
  },
  {
   "cell_type": "code",
   "execution_count": 12,
   "metadata": {},
   "outputs": [
    {
     "data": {
      "application/vnd.plotly.v1+json": {
       "config": {
        "plotlyServerURL": "https://plot.ly"
       },
       "data": [
        {
         "hovertemplate": "country=Africa<br>year=%{x}<br>co2=%{y}<extra></extra>",
         "legendgroup": "Africa",
         "line": {
          "color": "#636efa",
          "dash": "solid"
         },
         "marker": {
          "symbol": "circle"
         },
         "mode": "lines",
         "name": "Africa",
         "showlegend": true,
         "type": "scattergl",
         "x": [
          1750,
          1751,
          1752,
          1753,
          1754,
          1755,
          1756,
          1757,
          1758,
          1759,
          1760,
          1761,
          1762,
          1763,
          1764,
          1765,
          1766,
          1767,
          1768,
          1769,
          1770,
          1771,
          1772,
          1773,
          1774,
          1775,
          1776,
          1777,
          1778,
          1779,
          1780,
          1781,
          1782,
          1783,
          1784,
          1785,
          1786,
          1787,
          1788,
          1789,
          1790,
          1791,
          1792,
          1793,
          1794,
          1795,
          1796,
          1797,
          1798,
          1799,
          1800,
          1801,
          1802,
          1803,
          1804,
          1805,
          1806,
          1807,
          1808,
          1809,
          1810,
          1811,
          1812,
          1813,
          1814,
          1815,
          1816,
          1817,
          1818,
          1819,
          1820,
          1821,
          1822,
          1823,
          1824,
          1825,
          1826,
          1827,
          1828,
          1829,
          1830,
          1831,
          1832,
          1833,
          1834,
          1835,
          1836,
          1837,
          1838,
          1839,
          1840,
          1841,
          1842,
          1843,
          1844,
          1845,
          1846,
          1847,
          1848,
          1849,
          1850,
          1851,
          1852,
          1853,
          1854,
          1855,
          1856,
          1857,
          1858,
          1859,
          1860,
          1861,
          1862,
          1863,
          1864,
          1865,
          1866,
          1867,
          1868,
          1869,
          1870,
          1871,
          1872,
          1873,
          1874,
          1875,
          1876,
          1877,
          1878,
          1879,
          1880,
          1881,
          1882,
          1883,
          1884,
          1885,
          1886,
          1887,
          1888,
          1889,
          1890,
          1891,
          1892,
          1893,
          1894,
          1895,
          1896,
          1897,
          1898,
          1899,
          1900,
          1901,
          1902,
          1903,
          1904,
          1905,
          1906,
          1907,
          1908,
          1909,
          1910,
          1911,
          1912,
          1913,
          1914,
          1915,
          1916,
          1917,
          1918,
          1919,
          1920,
          1921,
          1922,
          1923,
          1924,
          1925,
          1926,
          1927,
          1928,
          1929,
          1930,
          1931,
          1932,
          1933,
          1934,
          1935,
          1936,
          1937,
          1938,
          1939,
          1940,
          1941,
          1942,
          1943,
          1944,
          1945,
          1946,
          1947,
          1948,
          1949,
          1950,
          1951,
          1952,
          1953,
          1954,
          1955,
          1956,
          1957,
          1958,
          1959,
          1960,
          1961,
          1962,
          1963,
          1964,
          1965,
          1966,
          1967,
          1968,
          1969,
          1970,
          1971,
          1972,
          1973,
          1974,
          1975,
          1976,
          1977,
          1978,
          1979,
          1980,
          1981,
          1982,
          1983,
          1984,
          1985,
          1986,
          1987,
          1988,
          1989,
          1990,
          1991,
          1992,
          1993,
          1994,
          1995,
          1996,
          1997,
          1998,
          1999,
          2000,
          2001,
          2002,
          2003,
          2004,
          2005,
          2006,
          2007,
          2008,
          2009,
          2010
         ],
         "xaxis": "x",
         "y": [
          0,
          0,
          0,
          0,
          0,
          0,
          0,
          0,
          0,
          0,
          0,
          0,
          0,
          0,
          0,
          0,
          0,
          0,
          0,
          0,
          0,
          0,
          0,
          0,
          0,
          0,
          0,
          0,
          0,
          0,
          0,
          0,
          0,
          0,
          0,
          0,
          0,
          0,
          0,
          0,
          0,
          0,
          0,
          0,
          0,
          0,
          0,
          0,
          0,
          0,
          0,
          0,
          0,
          0,
          0,
          0,
          0,
          0,
          0,
          0,
          0,
          0,
          0,
          0,
          0,
          0,
          0,
          0,
          0,
          0,
          0,
          0,
          0,
          0,
          0,
          0,
          0,
          0,
          0,
          0,
          0,
          0,
          0,
          0,
          0,
          0,
          0,
          0,
          0,
          0,
          0,
          0,
          0,
          0,
          0,
          0,
          0,
          0,
          0,
          0,
          0,
          0,
          0,
          0,
          0,
          0,
          0,
          0,
          0,
          0,
          0,
          0,
          0,
          0,
          0,
          0,
          0,
          0,
          0,
          0,
          0,
          0,
          0,
          0,
          0,
          0,
          0,
          0,
          0,
          0,
          0,
          0,
          0,
          0,
          0.022,
          0.037,
          0.048,
          0.048,
          0.081,
          0.132,
          0.297,
          0.297,
          0.48,
          1.799,
          2.433,
          3.338,
          4.258,
          4.778,
          6.049,
          5.518,
          2.33,
          3.909,
          5.826,
          7.896,
          8.911,
          10.263,
          11.717,
          12.93,
          13.403,
          15.385,
          17.411,
          16.865,
          17.954,
          19.606,
          19.551,
          19.606,
          23.255,
          25.344,
          24.725,
          25.443,
          28.052,
          27.986,
          23.97,
          29.045,
          30.631,
          32.185,
          34.438,
          33.841,
          34.77,
          35.802,
          33.696,
          29.464,
          26.623,
          28.491,
          32.539,
          35.91,
          39.016,
          41.844,
          44.013,
          46.853,
          49.649,
          54.023,
          58.823,
          60.12,
          66.633,
          67.527,
          68.159,
          67.935,
          71.733,
          77.324,
          93.452,
          99.862,
          108.882,
          110.796,
          116.157,
          128.058,
          133.509,
          139.953,
          148.305,
          147.911,
          156.64,
          162.079,
          166.426,
          176.448,
          193.764,
          213.785,
          221.262,
          237.258,
          257.6,
          278.139,
          302.943,
          332.204,
          352.239,
          378.421,
          388.865,
          387.829,
          420.857,
          433.845,
          463.267,
          499.992,
          536.49,
          549.365,
          572.577,
          595.413,
          650.254,
          666.655,
          690.671,
          690.763,
          726.007,
          699.179,
          659.297,
          688.954,
          668.606,
          708.741,
          719.465,
          771.882,
          783.332,
          812.606,
          837.844,
          830.411,
          886.403,
          884,
          892.559,
          967.17,
          1036.637,
          1057.361,
          1090.145,
          1132.287,
          1181.175,
          1171.78,
          1214.749
         ],
         "yaxis": "y"
        },
        {
         "hovertemplate": "country=Antarctica<br>year=%{x}<br>co2=%{y}<extra></extra>",
         "legendgroup": "Antarctica",
         "line": {
          "color": "#EF553B",
          "dash": "solid"
         },
         "marker": {
          "symbol": "circle"
         },
         "mode": "lines",
         "name": "Antarctica",
         "showlegend": true,
         "type": "scattergl",
         "x": [
          1851,
          1852,
          1853,
          1854,
          1855,
          1856,
          1857,
          1858,
          1859,
          1860,
          1861,
          1862,
          1863,
          1864,
          1865,
          1866,
          1867,
          1868,
          1869,
          1870,
          1871,
          1872,
          1873,
          1874,
          1875,
          1876,
          1877,
          1878,
          1879,
          1880,
          1881,
          1882,
          1883,
          1884,
          1885,
          1886,
          1887,
          1888,
          1889,
          1890,
          1891,
          1892,
          1893,
          1894,
          1895,
          1896,
          1897,
          1898,
          1899,
          1900,
          1901,
          1902,
          1903,
          1904,
          1905,
          1906,
          1907,
          1908,
          1909,
          1910,
          1911,
          1912,
          1913,
          1914,
          1915,
          1916,
          1917,
          1918,
          1919,
          1920,
          1921,
          1922,
          1923,
          1924,
          1925,
          1926,
          1927,
          1928,
          1929,
          1930,
          1931,
          1932,
          1933,
          1934,
          1935,
          1936,
          1937,
          1938,
          1939,
          1940,
          1941,
          1942,
          1943,
          1944,
          1945,
          1946,
          1947,
          1948,
          1949,
          1950,
          1951,
          1952,
          1953,
          1954,
          1955,
          1956,
          1957,
          1958,
          1959,
          1960,
          1961,
          1962,
          1963,
          1964,
          1965,
          1966,
          1967,
          1968,
          1969,
          1970,
          1971,
          1972,
          1973,
          1974,
          1975,
          1976,
          1977,
          1978,
          1979,
          1980,
          1981,
          1982,
          1983,
          1984,
          1985,
          1986,
          1987,
          1988,
          1989,
          1990,
          1991,
          1992,
          1993,
          1994,
          1995,
          1996,
          1997,
          1998,
          1999,
          2000,
          2001,
          2002,
          2003,
          2004,
          2005,
          2006,
          2007,
          2008,
          2009,
          2010
         ],
         "xaxis": "x",
         "y": [
          0,
          0,
          0,
          0,
          0,
          0,
          0,
          0,
          0,
          0,
          0,
          0,
          0,
          0,
          0,
          0,
          0,
          0,
          0,
          0,
          0,
          0,
          0,
          0,
          0,
          0,
          0,
          0,
          0,
          0,
          0,
          0,
          0,
          0,
          0,
          0,
          0,
          0,
          0,
          0,
          0,
          0,
          0,
          0,
          0,
          0,
          0,
          0,
          0,
          0,
          0,
          0,
          0,
          0,
          0,
          0,
          0,
          0,
          0,
          0,
          0,
          0,
          0,
          0,
          0,
          0,
          0,
          0,
          0,
          0,
          0,
          0,
          0,
          0,
          0,
          0,
          0,
          0,
          0,
          0,
          0,
          0,
          0,
          0,
          0,
          0,
          0,
          0,
          0,
          0,
          0,
          0,
          0,
          0,
          0,
          0,
          0,
          0,
          0,
          0,
          0,
          0,
          0,
          0,
          0,
          0,
          0,
          0,
          0,
          0,
          0,
          0,
          0,
          0,
          0,
          0,
          0,
          0,
          0,
          0,
          0,
          0,
          0,
          0,
          0,
          0,
          0,
          0,
          0,
          0,
          0,
          0,
          0,
          0,
          0,
          0,
          0.004,
          0.007,
          0.007,
          0.011,
          0.015,
          0.015,
          0.015,
          0.015,
          0.004,
          0.004,
          0.004,
          0.004,
          0.004,
          0.004,
          0.004,
          0.004,
          0.004,
          0.007,
          0.007,
          0.007,
          0.011,
          0,
          0,
          0
         ],
         "yaxis": "y"
        },
        {
         "hovertemplate": "country=Asia<br>year=%{x}<br>co2=%{y}<extra></extra>",
         "legendgroup": "Asia",
         "line": {
          "color": "#00cc96",
          "dash": "solid"
         },
         "marker": {
          "symbol": "circle"
         },
         "mode": "lines",
         "name": "Asia",
         "showlegend": true,
         "type": "scattergl",
         "x": [
          1750,
          1751,
          1752,
          1753,
          1754,
          1755,
          1756,
          1757,
          1758,
          1759,
          1760,
          1761,
          1762,
          1763,
          1764,
          1765,
          1766,
          1767,
          1768,
          1769,
          1770,
          1771,
          1772,
          1773,
          1774,
          1775,
          1776,
          1777,
          1778,
          1779,
          1780,
          1781,
          1782,
          1783,
          1784,
          1785,
          1786,
          1787,
          1788,
          1789,
          1790,
          1791,
          1792,
          1793,
          1794,
          1795,
          1796,
          1797,
          1798,
          1799,
          1800,
          1801,
          1802,
          1803,
          1804,
          1805,
          1806,
          1807,
          1808,
          1809,
          1810,
          1811,
          1812,
          1813,
          1814,
          1815,
          1816,
          1817,
          1818,
          1819,
          1820,
          1821,
          1822,
          1823,
          1824,
          1825,
          1826,
          1827,
          1828,
          1829,
          1830,
          1831,
          1832,
          1833,
          1834,
          1835,
          1836,
          1837,
          1838,
          1839,
          1840,
          1841,
          1842,
          1843,
          1844,
          1845,
          1846,
          1847,
          1848,
          1849,
          1850,
          1851,
          1852,
          1853,
          1854,
          1855,
          1856,
          1857,
          1858,
          1859,
          1860,
          1861,
          1862,
          1863,
          1864,
          1865,
          1866,
          1867,
          1868,
          1869,
          1870,
          1871,
          1872,
          1873,
          1874,
          1875,
          1876,
          1877,
          1878,
          1879,
          1880,
          1881,
          1882,
          1883,
          1884,
          1885,
          1886,
          1887,
          1888,
          1889,
          1890,
          1891,
          1892,
          1893,
          1894,
          1895,
          1896,
          1897,
          1898,
          1899,
          1900,
          1901,
          1902,
          1903,
          1904,
          1905,
          1906,
          1907,
          1908,
          1909,
          1910,
          1911,
          1912,
          1913,
          1914,
          1915,
          1916,
          1917,
          1918,
          1919,
          1920,
          1921,
          1922,
          1923,
          1924,
          1925,
          1926,
          1927,
          1928,
          1929,
          1930,
          1931,
          1932,
          1933,
          1934,
          1935,
          1936,
          1937,
          1938,
          1939,
          1940,
          1941,
          1942,
          1943,
          1944,
          1945,
          1946,
          1947,
          1948,
          1949,
          1950,
          1951,
          1952,
          1953,
          1954,
          1955,
          1956,
          1957,
          1958,
          1959,
          1960,
          1961,
          1962,
          1963,
          1964,
          1965,
          1966,
          1967,
          1968,
          1969,
          1970,
          1971,
          1972,
          1973,
          1974,
          1975,
          1976,
          1977,
          1978,
          1979,
          1980,
          1981,
          1982,
          1983,
          1984,
          1985,
          1986,
          1987,
          1988,
          1989,
          1990,
          1991,
          1992,
          1993,
          1994,
          1995,
          1996,
          1997,
          1998,
          1999,
          2000,
          2001,
          2002,
          2003,
          2004,
          2005,
          2006,
          2007,
          2008,
          2009,
          2010
         ],
         "xaxis": "x",
         "y": [
          0,
          0,
          0,
          0,
          0,
          0,
          0,
          0,
          0,
          0,
          0,
          0,
          0,
          0,
          0,
          0,
          0,
          0,
          0,
          0,
          0,
          0,
          0,
          0,
          0,
          0,
          0,
          0,
          0,
          0,
          0,
          0,
          0,
          0,
          0,
          0,
          0,
          0,
          0,
          0,
          0,
          0,
          0,
          0,
          0,
          0,
          0,
          0,
          0,
          0,
          0,
          0,
          0,
          0,
          0,
          0,
          0,
          0,
          0,
          0,
          0,
          0,
          0,
          0,
          0,
          0,
          0,
          0,
          0,
          0,
          0,
          0,
          0,
          0,
          0,
          0,
          0,
          0,
          0,
          0,
          0.002,
          0.003,
          0.002,
          0.002,
          0,
          0,
          0,
          0,
          0,
          0,
          0,
          0,
          0,
          0,
          0,
          0,
          0,
          0,
          0,
          0,
          0.015,
          0,
          0,
          0,
          0,
          0.045,
          0,
          0,
          0.457,
          0.703,
          0.731,
          0.609,
          0.651,
          0.715,
          0.695,
          0.83,
          1.205,
          0.637,
          0.527,
          0.748,
          0.677,
          0.9,
          0.973,
          0.931,
          1.635,
          2.703,
          2.81,
          2.891,
          5.46,
          5.673,
          6.191,
          6.35,
          6.879,
          7.607,
          8.192,
          8.539,
          9.115,
          10.538,
          11.719,
          13.784,
          15.089,
          17.206,
          18.277,
          20.417,
          22.752,
          26.309,
          28.035,
          30.493,
          36.495,
          38.655,
          44.009,
          50.37,
          52.412,
          55.068,
          61.913,
          63.008,
          70.288,
          97.204,
          105.992,
          109.212,
          110.783,
          117.765,
          119.78,
          137.369,
          142.878,
          136.662,
          149.904,
          161.998,
          166.879,
          183.562,
          175.431,
          171.8,
          181.282,
          199.214,
          213.285,
          215.449,
          218.821,
          236.806,
          248.41,
          258.363,
          257.944,
          248.702,
          248.792,
          273.091,
          309.642,
          337.3,
          364.187,
          385.525,
          394.76,
          418.879,
          471.838,
          478.42,
          447.414,
          440.126,
          440.591,
          328.129,
          315.654,
          380.436,
          384.024,
          458.599,
          475.177,
          455.045,
          504.698,
          540.253,
          592.035,
          674.786,
          749.28,
          843.53,
          1137.921,
          1373.618,
          1538.406,
          1393.256,
          1342.288,
          1422.811,
          1507.063,
          1649.484,
          1796.642,
          1824.612,
          2015.469,
          2288.907,
          2696.106,
          2950.439,
          3120.408,
          3351.738,
          3411.388,
          3576.808,
          3801.749,
          4046.414,
          4227.558,
          4401.187,
          4395.949,
          4369.496,
          4519.137,
          4701.174,
          4975.358,
          5266.603,
          5492.772,
          5732.141,
          6194.507,
          6410.467,
          6611.225,
          7414.699,
          7256.959,
          7589.25,
          7920.648,
          8241.792,
          8573.008,
          8687.989,
          8419.528,
          8880.381,
          9300.388,
          9465.591,
          10011.79,
          10993.457,
          11682.397,
          12525.343,
          13367.104,
          14076.977,
          14820.116,
          15368.629,
          16536.73
         ],
         "yaxis": "y"
        },
        {
         "hovertemplate": "country=Europe<br>year=%{x}<br>co2=%{y}<extra></extra>",
         "legendgroup": "Europe",
         "line": {
          "color": "#ab63fa",
          "dash": "solid"
         },
         "marker": {
          "symbol": "circle"
         },
         "mode": "lines",
         "name": "Europe",
         "showlegend": true,
         "type": "scattergl",
         "x": [
          1750,
          1751,
          1752,
          1753,
          1754,
          1755,
          1756,
          1757,
          1758,
          1759,
          1760,
          1761,
          1762,
          1763,
          1764,
          1765,
          1766,
          1767,
          1768,
          1769,
          1770,
          1771,
          1772,
          1773,
          1774,
          1775,
          1776,
          1777,
          1778,
          1779,
          1780,
          1781,
          1782,
          1783,
          1784,
          1785,
          1786,
          1787,
          1788,
          1789,
          1790,
          1791,
          1792,
          1793,
          1794,
          1795,
          1796,
          1797,
          1798,
          1799,
          1800,
          1801,
          1802,
          1803,
          1804,
          1805,
          1806,
          1807,
          1808,
          1809,
          1810,
          1811,
          1812,
          1813,
          1814,
          1815,
          1816,
          1817,
          1818,
          1819,
          1820,
          1821,
          1822,
          1823,
          1824,
          1825,
          1826,
          1827,
          1828,
          1829,
          1830,
          1831,
          1832,
          1833,
          1834,
          1835,
          1836,
          1837,
          1838,
          1839,
          1840,
          1841,
          1842,
          1843,
          1844,
          1845,
          1846,
          1847,
          1848,
          1849,
          1850,
          1851,
          1852,
          1853,
          1854,
          1855,
          1856,
          1857,
          1858,
          1859,
          1860,
          1861,
          1862,
          1863,
          1864,
          1865,
          1866,
          1867,
          1868,
          1869,
          1870,
          1871,
          1872,
          1873,
          1874,
          1875,
          1876,
          1877,
          1878,
          1879,
          1880,
          1881,
          1882,
          1883,
          1884,
          1885,
          1886,
          1887,
          1888,
          1889,
          1890,
          1891,
          1892,
          1893,
          1894,
          1895,
          1896,
          1897,
          1898,
          1899,
          1900,
          1901,
          1902,
          1903,
          1904,
          1905,
          1906,
          1907,
          1908,
          1909,
          1910,
          1911,
          1912,
          1913,
          1914,
          1915,
          1916,
          1917,
          1918,
          1919,
          1920,
          1921,
          1922,
          1923,
          1924,
          1925,
          1926,
          1927,
          1928,
          1929,
          1930,
          1931,
          1932,
          1933,
          1934,
          1935,
          1936,
          1937,
          1938,
          1939,
          1940,
          1941,
          1942,
          1943,
          1944,
          1945,
          1946,
          1947,
          1948,
          1949,
          1950,
          1951,
          1952,
          1953,
          1954,
          1955,
          1956,
          1957,
          1958,
          1959,
          1960,
          1961,
          1962,
          1963,
          1964,
          1965,
          1966,
          1967,
          1968,
          1969,
          1970,
          1971,
          1972,
          1973,
          1974,
          1975,
          1976,
          1977,
          1978,
          1979,
          1980,
          1981,
          1982,
          1983,
          1984,
          1985,
          1986,
          1987,
          1988,
          1989,
          1990,
          1991,
          1992,
          1993,
          1994,
          1995,
          1996,
          1997,
          1998,
          1999,
          2000,
          2001,
          2002,
          2003,
          2004,
          2005,
          2006,
          2007,
          2008,
          2009,
          2010
         ],
         "xaxis": "x",
         "y": [
          9.351,
          9.351,
          9.354,
          9.354,
          9.358,
          9.362,
          10.006,
          10.01,
          10.014,
          10.017,
          10.017,
          10.974,
          10.977,
          10.981,
          10.985,
          10.988,
          12.26,
          12.263,
          12.267,
          12.271,
          12.274,
          13.612,
          13.615,
          13.619,
          13.623,
          13.626,
          15.037,
          15.041,
          15.044,
          15.048,
          15.055,
          16.843,
          16.847,
          16.854,
          16.858,
          16.865,
          19.148,
          19.155,
          19.159,
          19.166,
          19.174,
          21.416,
          21.892,
          21.911,
          21.878,
          21.889,
          22.948,
          24.091,
          25.091,
          26.425,
          27.835,
          27.689,
          36.49,
          31.188,
          33.973,
          33.075,
          34.709,
          36.493,
          34.669,
          34.683,
          36.959,
          39.132,
          40.52,
          40.696,
          41.564,
          42.883,
          46.998,
          48.709,
          48.859,
          49.182,
          49.893,
          50.604,
          52.597,
          55.645,
          57.506,
          59.617,
          60.101,
          64.464,
          65.04,
          64.596,
          87.029,
          82.258,
          82.083,
          83.273,
          85.1,
          86.126,
          100.042,
          99.382,
          103.01,
          106.091,
          113.053,
          116.402,
          122.583,
          125.085,
          132.113,
          144.003,
          145.058,
          157.299,
          156.991,
          165.243,
          177.03,
          174.102,
          180.676,
          186.945,
          221.855,
          221.811,
          237.075,
          238.618,
          241.802,
          254.974,
          281.813,
          300.479,
          305.041,
          321.231,
          346.628,
          371.215,
          383.594,
          401.825,
          406.195,
          425.361,
          431.415,
          459.749,
          496.539,
          522.505,
          484.553,
          534.645,
          547.135,
          545.943,
          551.759,
          569.581,
          640.735,
          657.768,
          680.192,
          718.759,
          714.137,
          716.651,
          715.978,
          743.278,
          787.497,
          824.549,
          862.562,
          893,
          879.308,
          854.865,
          927.902,
          952.609,
          996.146,
          1045.645,
          1079.144,
          1149.49,
          1205.729,
          1195.2,
          1196.062,
          1245.143,
          1268.408,
          1305.667,
          1347.4,
          1492.811,
          1517.224,
          1518.835,
          1538.614,
          1574.111,
          1632.499,
          1767.373,
          1573.934,
          1492.835,
          1561.152,
          1533.393,
          1394.104,
          1183.804,
          1373.71,
          1253.157,
          1397.917,
          1335.73,
          1541.559,
          1526.831,
          1308.482,
          1670.261,
          1676.919,
          1820.387,
          1721.367,
          1606.804,
          1493.113,
          1537.475,
          1682.503,
          1767.212,
          1876.963,
          2037.062,
          2046.48,
          2094.667,
          2228.41,
          2143.351,
          1996.628,
          2003.256,
          1889.703,
          1233.813,
          1657.086,
          1907.846,
          2056.199,
          2242.969,
          2383.495,
          2630.407,
          2714.196,
          2791.717,
          2970.267,
          3233.961,
          3445.533,
          3593.582,
          3632.047,
          3713.581,
          3964.489,
          4109.329,
          4336.349,
          4609.368,
          4839.143,
          4981.444,
          5152.955,
          5266.813,
          5512.286,
          5812.373,
          6094.25,
          6322.978,
          6551.978,
          6844.567,
          6862.789,
          6902.318,
          7277.064,
          7333.317,
          7565.874,
          7745.535,
          7749.543,
          7467.951,
          7408.063,
          7414.517,
          7465.512,
          7789.581,
          7802.543,
          7824.348,
          7863.65,
          7829.319,
          8033.274,
          7736.558,
          7095.027,
          6806.847,
          6447.159,
          6426.196,
          6473.222,
          6268.281,
          6242.856,
          6159.448,
          6158.767,
          6286.35,
          6254.075,
          6398.656,
          6431.065,
          6421.119,
          6520.084,
          6476.66,
          6402.666,
          5889.053,
          6118.725
         ],
         "yaxis": "y"
        },
        {
         "hovertemplate": "country=North America<br>year=%{x}<br>co2=%{y}<extra></extra>",
         "legendgroup": "North America",
         "line": {
          "color": "#FFA15A",
          "dash": "solid"
         },
         "marker": {
          "symbol": "circle"
         },
         "mode": "lines",
         "name": "North America",
         "showlegend": true,
         "type": "scattergl",
         "x": [
          1750,
          1751,
          1752,
          1753,
          1754,
          1755,
          1756,
          1757,
          1758,
          1759,
          1760,
          1761,
          1762,
          1763,
          1764,
          1765,
          1766,
          1767,
          1768,
          1769,
          1770,
          1771,
          1772,
          1773,
          1774,
          1775,
          1776,
          1777,
          1778,
          1779,
          1780,
          1781,
          1782,
          1783,
          1784,
          1785,
          1786,
          1787,
          1788,
          1789,
          1790,
          1791,
          1792,
          1793,
          1794,
          1795,
          1796,
          1797,
          1798,
          1799,
          1800,
          1801,
          1802,
          1803,
          1804,
          1805,
          1806,
          1807,
          1808,
          1809,
          1810,
          1811,
          1812,
          1813,
          1814,
          1815,
          1816,
          1817,
          1818,
          1819,
          1820,
          1821,
          1822,
          1823,
          1824,
          1825,
          1826,
          1827,
          1828,
          1829,
          1830,
          1831,
          1832,
          1833,
          1834,
          1835,
          1836,
          1837,
          1838,
          1839,
          1840,
          1841,
          1842,
          1843,
          1844,
          1845,
          1846,
          1847,
          1848,
          1849,
          1850,
          1851,
          1852,
          1853,
          1854,
          1855,
          1856,
          1857,
          1858,
          1859,
          1860,
          1861,
          1862,
          1863,
          1864,
          1865,
          1866,
          1867,
          1868,
          1869,
          1870,
          1871,
          1872,
          1873,
          1874,
          1875,
          1876,
          1877,
          1878,
          1879,
          1880,
          1881,
          1882,
          1883,
          1884,
          1885,
          1886,
          1887,
          1888,
          1889,
          1890,
          1891,
          1892,
          1893,
          1894,
          1895,
          1896,
          1897,
          1898,
          1899,
          1900,
          1901,
          1902,
          1903,
          1904,
          1905,
          1906,
          1907,
          1908,
          1909,
          1910,
          1911,
          1912,
          1913,
          1914,
          1915,
          1916,
          1917,
          1918,
          1919,
          1920,
          1921,
          1922,
          1923,
          1924,
          1925,
          1926,
          1927,
          1928,
          1929,
          1930,
          1931,
          1932,
          1933,
          1934,
          1935,
          1936,
          1937,
          1938,
          1939,
          1940,
          1941,
          1942,
          1943,
          1944,
          1945,
          1946,
          1947,
          1948,
          1949,
          1950,
          1951,
          1952,
          1953,
          1954,
          1955,
          1956,
          1957,
          1958,
          1959,
          1960,
          1961,
          1962,
          1963,
          1964,
          1965,
          1966,
          1967,
          1968,
          1969,
          1970,
          1971,
          1972,
          1973,
          1974,
          1975,
          1976,
          1977,
          1978,
          1979,
          1980,
          1981,
          1982,
          1983,
          1984,
          1985,
          1986,
          1987,
          1988,
          1989,
          1990,
          1991,
          1992,
          1993,
          1994,
          1995,
          1996,
          1997,
          1998,
          1999,
          2000,
          2001,
          2002,
          2003,
          2004,
          2005,
          2006,
          2007,
          2008,
          2009,
          2010
         ],
         "xaxis": "x",
         "y": [
          0,
          0,
          0,
          0,
          0,
          0,
          0,
          0,
          0,
          0,
          0,
          0,
          0,
          0,
          0,
          0,
          0,
          0,
          0,
          0,
          0,
          0,
          0,
          0,
          0,
          0,
          0,
          0,
          0,
          0,
          0,
          0,
          0,
          0,
          0,
          0.004,
          0.004,
          0.004,
          0.004,
          0.004,
          0.004,
          0.004,
          0.004,
          0.004,
          0.004,
          0.004,
          0.004,
          0.004,
          0.004,
          0.004,
          0.256,
          0.271,
          0.293,
          0.3,
          0.337,
          0.344,
          0.337,
          0.381,
          0.396,
          0.407,
          0.421,
          0.451,
          0.487,
          0.524,
          0.564,
          0.605,
          0.667,
          0.722,
          0.784,
          0.766,
          0.795,
          0.832,
          0.868,
          0.905,
          1.019,
          1.14,
          1.319,
          1.451,
          1.598,
          1.799,
          2.092,
          2.268,
          3.026,
          3.532,
          3.386,
          4.32,
          4.734,
          5.309,
          5.034,
          5.522,
          5.877,
          6.218,
          6.921,
          7.768,
          9.31,
          11.208,
          12.736,
          15.103,
          16.825,
          18.269,
          19.852,
          24.703,
          26.875,
          30.265,
          33.284,
          38.311,
          40.216,
          41.271,
          41.912,
          45.635,
          47.819,
          46.137,
          48.009,
          55.513,
          59.5,
          59.84,
          60.474,
          74.46,
          83.297,
          94.381,
          99.844,
          104.801,
          128.152,
          141.115,
          135.92,
          137.624,
          134.678,
          149.198,
          145.838,
          177.653,
          203.916,
          215.784,
          242.011,
          261.313,
          276.189,
          280.406,
          296.26,
          317.53,
          387.186,
          346.835,
          414.161,
          441.886,
          464.918,
          469.48,
          439.769,
          493.974,
          496.11,
          515.775,
          561.766,
          645.459,
          684.367,
          746.685,
          791.569,
          923.924,
          916.873,
          1023.577,
          1074.779,
          1253.117,
          1103.992,
          1214.811,
          1327.425,
          1327.462,
          1419.667,
          1533.79,
          1396.793,
          1443.461,
          1613.036,
          1782.873,
          1868.648,
          1596.982,
          1899.938,
          1595.441,
          1591.5,
          2062.964,
          1845.232,
          1892.464,
          2038.049,
          1989.375,
          1953.542,
          2090.135,
          1865.708,
          1582.641,
          1349.432,
          1441.268,
          1542.144,
          1600.23,
          1830.101,
          1921.54,
          1637.473,
          1801.381,
          2020.248,
          2199.556,
          2360.994,
          2442.646,
          2620.185,
          2528.343,
          2437.711,
          2676.702,
          2790.327,
          2352.856,
          2744.778,
          2840.785,
          2768.315,
          2832.062,
          2718.353,
          2966.39,
          3124.206,
          3103.421,
          3022.85,
          3115.07,
          3189.289,
          3184.527,
          3309.561,
          3442.484,
          3621.234,
          3771.646,
          3956.489,
          4127.169,
          4289.585,
          4501.899,
          4862.633,
          4916.293,
          5162.334,
          5397.348,
          5251.511,
          5128.156,
          5434.76,
          5591.238,
          5677.21,
          5792.579,
          5621.263,
          5495.717,
          5263.806,
          5203.724,
          5462.064,
          5465.377,
          5450.29,
          5656.673,
          5906.294,
          6018.308,
          5993.93,
          5940.2,
          6065.396,
          6171.408,
          6295.624,
          6357.527,
          6582.797,
          6701.182,
          6772.838,
          6867.972,
          7113.878,
          7021.613,
          7073.592,
          7186.932,
          7285.651,
          7332.227,
          7267.868,
          7379.332,
          7160.439,
          6673.073,
          6879.333
         ],
         "yaxis": "y"
        },
        {
         "hovertemplate": "country=Oceania<br>year=%{x}<br>co2=%{y}<extra></extra>",
         "legendgroup": "Oceania",
         "line": {
          "color": "#19d3f3",
          "dash": "solid"
         },
         "marker": {
          "symbol": "circle"
         },
         "mode": "lines",
         "name": "Oceania",
         "showlegend": true,
         "type": "scattergl",
         "x": [
          1750,
          1751,
          1752,
          1753,
          1754,
          1755,
          1756,
          1757,
          1758,
          1759,
          1760,
          1761,
          1762,
          1763,
          1764,
          1765,
          1766,
          1767,
          1768,
          1769,
          1770,
          1771,
          1772,
          1773,
          1774,
          1775,
          1776,
          1777,
          1778,
          1779,
          1780,
          1781,
          1782,
          1783,
          1784,
          1785,
          1786,
          1787,
          1788,
          1789,
          1790,
          1791,
          1792,
          1793,
          1794,
          1795,
          1796,
          1797,
          1798,
          1799,
          1800,
          1801,
          1802,
          1803,
          1804,
          1805,
          1806,
          1807,
          1808,
          1809,
          1810,
          1811,
          1812,
          1813,
          1814,
          1815,
          1816,
          1817,
          1818,
          1819,
          1820,
          1821,
          1822,
          1823,
          1824,
          1825,
          1826,
          1827,
          1828,
          1829,
          1830,
          1831,
          1832,
          1833,
          1834,
          1835,
          1836,
          1837,
          1838,
          1839,
          1840,
          1841,
          1842,
          1843,
          1844,
          1845,
          1846,
          1847,
          1848,
          1849,
          1850,
          1851,
          1852,
          1853,
          1854,
          1855,
          1856,
          1857,
          1858,
          1859,
          1860,
          1861,
          1862,
          1863,
          1864,
          1865,
          1866,
          1867,
          1868,
          1869,
          1870,
          1871,
          1872,
          1873,
          1874,
          1875,
          1876,
          1877,
          1878,
          1879,
          1880,
          1881,
          1882,
          1883,
          1884,
          1885,
          1886,
          1887,
          1888,
          1889,
          1890,
          1891,
          1892,
          1893,
          1894,
          1895,
          1896,
          1897,
          1898,
          1899,
          1900,
          1901,
          1902,
          1903,
          1904,
          1905,
          1906,
          1907,
          1908,
          1909,
          1910,
          1911,
          1912,
          1913,
          1914,
          1915,
          1916,
          1917,
          1918,
          1919,
          1920,
          1921,
          1922,
          1923,
          1924,
          1925,
          1926,
          1927,
          1928,
          1929,
          1930,
          1931,
          1932,
          1933,
          1934,
          1935,
          1936,
          1937,
          1938,
          1939,
          1940,
          1941,
          1942,
          1943,
          1944,
          1945,
          1946,
          1947,
          1948,
          1949,
          1950,
          1951,
          1952,
          1953,
          1954,
          1955,
          1956,
          1957,
          1958,
          1959,
          1960,
          1961,
          1962,
          1963,
          1964,
          1965,
          1966,
          1967,
          1968,
          1969,
          1970,
          1971,
          1972,
          1973,
          1974,
          1975,
          1976,
          1977,
          1978,
          1979,
          1980,
          1981,
          1982,
          1983,
          1984,
          1985,
          1986,
          1987,
          1988,
          1989,
          1990,
          1991,
          1992,
          1993,
          1994,
          1995,
          1996,
          1997,
          1998,
          1999,
          2000,
          2001,
          2002,
          2003,
          2004,
          2005,
          2006,
          2007,
          2008,
          2009,
          2010
         ],
         "xaxis": "x",
         "y": [
          0,
          0,
          0,
          0,
          0,
          0,
          0,
          0,
          0,
          0,
          0,
          0,
          0,
          0,
          0,
          0,
          0,
          0,
          0,
          0,
          0,
          0,
          0,
          0,
          0,
          0,
          0,
          0,
          0,
          0,
          0,
          0,
          0,
          0,
          0,
          0,
          0,
          0,
          0,
          0,
          0,
          0,
          0,
          0,
          0,
          0,
          0,
          0,
          0,
          0,
          0,
          0,
          0,
          0,
          0,
          0,
          0,
          0,
          0,
          0,
          0,
          0,
          0,
          0,
          0,
          0,
          0,
          0,
          0,
          0,
          0,
          0,
          0,
          0,
          0,
          0,
          0,
          0,
          0,
          0,
          0,
          0,
          0,
          0,
          0,
          0,
          0,
          0,
          0,
          0,
          0,
          0,
          0,
          0,
          0,
          0,
          0,
          0,
          0,
          0,
          0,
          0,
          0,
          0,
          0,
          0,
          0,
          0,
          0,
          0,
          0.278,
          0.509,
          0.355,
          0.399,
          0.267,
          0.421,
          0.696,
          0.894,
          0.733,
          0.641,
          0.601,
          0.692,
          0.707,
          0.868,
          0.89,
          0.828,
          0.931,
          1.066,
          1.323,
          1.96,
          2.862,
          2.503,
          2.84,
          3.353,
          3.631,
          4.034,
          4.067,
          4.272,
          4.891,
          4.738,
          4.968,
          5.5,
          5.654,
          5.507,
          5.969,
          6.214,
          6.273,
          6.852,
          7.636,
          7.962,
          12.608,
          14.18,
          14.436,
          14.389,
          14.978,
          15.587,
          18.221,
          19.562,
          20.907,
          18.818,
          22.339,
          23.849,
          25.648,
          26.604,
          29.561,
          26.725,
          24.311,
          25.377,
          27.484,
          25.868,
          29.29,
          26.652,
          27.905,
          28.685,
          31.06,
          32.324,
          32.126,
          33.39,
          31.001,
          28.546,
          26.894,
          23.784,
          23.88,
          25.126,
          26.68,
          29.379,
          31.225,
          33.236,
          32.281,
          36.603,
          33.797,
          39.546,
          41.598,
          40.36,
          39.678,
          38.314,
          40.952,
          43.465,
          43.923,
          43.255,
          63.714,
          67.687,
          70.254,
          68.667,
          77.701,
          81.152,
          84.276,
          86.298,
          88.946,
          95.053,
          100.973,
          103.677,
          107.209,
          114.488,
          124.049,
          136.725,
          136.762,
          145.475,
          151.161,
          159.429,
          165.833,
          172.156,
          177.757,
          194.303,
          196.738,
          199.432,
          198.478,
          213.262,
          224.616,
          226.508,
          243.549,
          252.115,
          257.184,
          247.744,
          260.625,
          268.315,
          268.046,
          285.6,
          291.92,
          308.59,
          309.475,
          311.595,
          318.629,
          322.878,
          328.003,
          339.448,
          347.963,
          358.386,
          371.039,
          381.939,
          389.394,
          399.522,
          404.741,
          415.201,
          428.969,
          433.884,
          439.969,
          448.335,
          452.336,
          452.653,
          451.557
         ],
         "yaxis": "y"
        },
        {
         "hovertemplate": "country=South America<br>year=%{x}<br>co2=%{y}<extra></extra>",
         "legendgroup": "South America",
         "line": {
          "color": "#FF6692",
          "dash": "solid"
         },
         "marker": {
          "symbol": "circle"
         },
         "mode": "lines",
         "name": "South America",
         "showlegend": true,
         "type": "scattergl",
         "x": [
          1750,
          1751,
          1752,
          1753,
          1754,
          1755,
          1756,
          1757,
          1758,
          1759,
          1760,
          1761,
          1762,
          1763,
          1764,
          1765,
          1766,
          1767,
          1768,
          1769,
          1770,
          1771,
          1772,
          1773,
          1774,
          1775,
          1776,
          1777,
          1778,
          1779,
          1780,
          1781,
          1782,
          1783,
          1784,
          1785,
          1786,
          1787,
          1788,
          1789,
          1790,
          1791,
          1792,
          1793,
          1794,
          1795,
          1796,
          1797,
          1798,
          1799,
          1800,
          1801,
          1802,
          1803,
          1804,
          1805,
          1806,
          1807,
          1808,
          1809,
          1810,
          1811,
          1812,
          1813,
          1814,
          1815,
          1816,
          1817,
          1818,
          1819,
          1820,
          1821,
          1822,
          1823,
          1824,
          1825,
          1826,
          1827,
          1828,
          1829,
          1830,
          1831,
          1832,
          1833,
          1834,
          1835,
          1836,
          1837,
          1838,
          1839,
          1840,
          1841,
          1842,
          1843,
          1844,
          1845,
          1846,
          1847,
          1848,
          1849,
          1850,
          1851,
          1852,
          1853,
          1854,
          1855,
          1856,
          1857,
          1858,
          1859,
          1860,
          1861,
          1862,
          1863,
          1864,
          1865,
          1866,
          1867,
          1868,
          1869,
          1870,
          1871,
          1872,
          1873,
          1874,
          1875,
          1876,
          1877,
          1878,
          1879,
          1880,
          1881,
          1882,
          1883,
          1884,
          1885,
          1886,
          1887,
          1888,
          1889,
          1890,
          1891,
          1892,
          1893,
          1894,
          1895,
          1896,
          1897,
          1898,
          1899,
          1900,
          1901,
          1902,
          1903,
          1904,
          1905,
          1906,
          1907,
          1908,
          1909,
          1910,
          1911,
          1912,
          1913,
          1914,
          1915,
          1916,
          1917,
          1918,
          1919,
          1920,
          1921,
          1922,
          1923,
          1924,
          1925,
          1926,
          1927,
          1928,
          1929,
          1930,
          1931,
          1932,
          1933,
          1934,
          1935,
          1936,
          1937,
          1938,
          1939,
          1940,
          1941,
          1942,
          1943,
          1944,
          1945,
          1946,
          1947,
          1948,
          1949,
          1950,
          1951,
          1952,
          1953,
          1954,
          1955,
          1956,
          1957,
          1958,
          1959,
          1960,
          1961,
          1962,
          1963,
          1964,
          1965,
          1966,
          1967,
          1968,
          1969,
          1970,
          1971,
          1972,
          1973,
          1974,
          1975,
          1976,
          1977,
          1978,
          1979,
          1980,
          1981,
          1982,
          1983,
          1984,
          1985,
          1986,
          1987,
          1988,
          1989,
          1990,
          1991,
          1992,
          1993,
          1994,
          1995,
          1996,
          1997,
          1998,
          1999,
          2000,
          2001,
          2002,
          2003,
          2004,
          2005,
          2006,
          2007,
          2008,
          2009,
          2010
         ],
         "xaxis": "x",
         "y": [
          0,
          0,
          0,
          0,
          0,
          0,
          0,
          0,
          0,
          0,
          0,
          0,
          0,
          0,
          0,
          0,
          0,
          0,
          0,
          0,
          0,
          0,
          0,
          0,
          0,
          0,
          0,
          0,
          0,
          0,
          0,
          0,
          0,
          0,
          0,
          0,
          0,
          0,
          0,
          0,
          0,
          0,
          0,
          0,
          0,
          0,
          0,
          0,
          0,
          0,
          0,
          0,
          0,
          0,
          0,
          0,
          0,
          0,
          0,
          0,
          0,
          0,
          0,
          0,
          0,
          0,
          0,
          0,
          0,
          0,
          0,
          0,
          0,
          0,
          0,
          0,
          0,
          0,
          0,
          0,
          0,
          0,
          0,
          0,
          0,
          0,
          0,
          0,
          0,
          0,
          0,
          0,
          0,
          0,
          0,
          0,
          0,
          0,
          0,
          0,
          0,
          0,
          0,
          0,
          0,
          0,
          0,
          0,
          0,
          0,
          0,
          0,
          0,
          0,
          0,
          0,
          0,
          0,
          0,
          0,
          0,
          0,
          0,
          0,
          0,
          0,
          0,
          0,
          0,
          0,
          0,
          0,
          0,
          0,
          0.004,
          0.004,
          0.007,
          1.092,
          0.898,
          1.762,
          1.381,
          0.986,
          1.451,
          1.601,
          2.034,
          2.829,
          2.88,
          2.759,
          3.177,
          3.715,
          3.166,
          6.401,
          7.379,
          7.676,
          8.665,
          9.211,
          12.329,
          12.685,
          14.887,
          13.407,
          17.246,
          19.163,
          19.991,
          21.123,
          17.195,
          15.088,
          13.619,
          10.867,
          10.999,
          12.901,
          14.641,
          14.429,
          17.162,
          19.76,
          24.333,
          26.384,
          27.381,
          30.081,
          31.428,
          34.424,
          29.122,
          25.546,
          28.96,
          32.899,
          37.257,
          41.081,
          39.597,
          50.162,
          46.273,
          47.06,
          50.717,
          50.753,
          48.166,
          48.57,
          53.866,
          54.137,
          118.776,
          62.107,
          69.504,
          70.825,
          112.577,
          131.287,
          141.474,
          140.643,
          151.056,
          170.08,
          184.182,
          192.918,
          178.755,
          196.996,
          199.163,
          201.766,
          215.625,
          219.363,
          230.117,
          240.054,
          251.936,
          267.278,
          287.533,
          311.131,
          337.688,
          346.379,
          362.354,
          392.424,
          416.231,
          411.325,
          419.089,
          434.581,
          461.794,
          494.203,
          508.003,
          489.327,
          490.54,
          485.664,
          491.32,
          501.64,
          529.492,
          557.025,
          580.029,
          579.499,
          599.904,
          607.539,
          619.454,
          654.171,
          671.66,
          701.796,
          728.112,
          768.432,
          821.018,
          839.313,
          821.225,
          832.13,
          847.045,
          858.202,
          867.599,
          901.994,
          912.943,
          940.783,
          1007.551,
          991.982,
          1082.467
         ],
         "yaxis": "y"
        },
        {
         "hovertemplate": "country=World<br>year=%{x}<br>co2=%{y}<extra></extra>",
         "legendgroup": "World",
         "line": {
          "color": "#B6E880",
          "dash": "solid"
         },
         "marker": {
          "symbol": "circle"
         },
         "mode": "lines",
         "name": "World",
         "showlegend": true,
         "type": "scattergl",
         "x": [
          1750,
          1751,
          1752,
          1753,
          1754,
          1755,
          1756,
          1757,
          1758,
          1759,
          1760,
          1761,
          1762,
          1763,
          1764,
          1765,
          1766,
          1767,
          1768,
          1769,
          1770,
          1771,
          1772,
          1773,
          1774,
          1775,
          1776,
          1777,
          1778,
          1779,
          1780,
          1781,
          1782,
          1783,
          1784,
          1785,
          1786,
          1787,
          1788,
          1789,
          1790,
          1791,
          1792,
          1793,
          1794,
          1795,
          1796,
          1797,
          1798,
          1799,
          1800,
          1801,
          1802,
          1803,
          1804,
          1805,
          1806,
          1807,
          1808,
          1809,
          1810,
          1811,
          1812,
          1813,
          1814,
          1815,
          1816,
          1817,
          1818,
          1819,
          1820,
          1821,
          1822,
          1823,
          1824,
          1825,
          1826,
          1827,
          1828,
          1829,
          1830,
          1831,
          1832,
          1833,
          1834,
          1835,
          1836,
          1837,
          1838,
          1839,
          1840,
          1841,
          1842,
          1843,
          1844,
          1845,
          1846,
          1847,
          1848,
          1849,
          1850,
          1851,
          1852,
          1853,
          1854,
          1855,
          1856,
          1857,
          1858,
          1859,
          1860,
          1861,
          1862,
          1863,
          1864,
          1865,
          1866,
          1867,
          1868,
          1869,
          1870,
          1871,
          1872,
          1873,
          1874,
          1875,
          1876,
          1877,
          1878,
          1879,
          1880,
          1881,
          1882,
          1883,
          1884,
          1885,
          1886,
          1887,
          1888,
          1889,
          1890,
          1891,
          1892,
          1893,
          1894,
          1895,
          1896,
          1897,
          1898,
          1899,
          1900,
          1901,
          1902,
          1903,
          1904,
          1905,
          1906,
          1907,
          1908,
          1909,
          1910,
          1911,
          1912,
          1913,
          1914,
          1915,
          1916,
          1917,
          1918,
          1919,
          1920,
          1921,
          1922,
          1923,
          1924,
          1925,
          1926,
          1927,
          1928,
          1929,
          1930,
          1931,
          1932,
          1933,
          1934,
          1935,
          1936,
          1937,
          1938,
          1939,
          1940,
          1941,
          1942,
          1943,
          1944,
          1945,
          1946,
          1947,
          1948,
          1949,
          1950,
          1951,
          1952,
          1953,
          1954,
          1955,
          1956,
          1957,
          1958,
          1959,
          1960,
          1961,
          1962,
          1963,
          1964,
          1965,
          1966,
          1967,
          1968,
          1969,
          1970,
          1971,
          1972,
          1973,
          1974,
          1975,
          1976,
          1977,
          1978,
          1979,
          1980,
          1981,
          1982,
          1983,
          1984,
          1985,
          1986,
          1987,
          1988,
          1989,
          1990,
          1991,
          1992,
          1993,
          1994,
          1995,
          1996,
          1997,
          1998,
          1999,
          2000,
          2001,
          2002,
          2003,
          2004,
          2005,
          2006,
          2007,
          2008,
          2009,
          2010
         ],
         "xaxis": "x",
         "y": [
          9.351,
          9.351,
          9.354,
          9.354,
          9.358,
          9.362,
          10.006,
          10.01,
          10.014,
          10.017,
          10.017,
          10.974,
          10.977,
          10.981,
          10.985,
          10.988,
          12.26,
          12.263,
          12.267,
          12.271,
          12.274,
          13.612,
          13.615,
          13.619,
          13.623,
          13.626,
          15.037,
          15.041,
          15.044,
          15.048,
          15.055,
          16.843,
          16.847,
          16.854,
          16.858,
          16.869,
          19.152,
          19.159,
          19.163,
          19.17,
          19.177,
          21.42,
          21.896,
          21.914,
          21.881,
          21.892,
          22.951,
          24.094,
          25.095,
          26.428,
          28.092,
          27.96,
          36.783,
          31.488,
          34.31,
          33.419,
          35.046,
          36.874,
          35.064,
          35.09,
          37.38,
          39.582,
          41.007,
          41.22,
          42.129,
          43.488,
          47.665,
          49.431,
          49.644,
          49.948,
          50.688,
          51.435,
          53.465,
          56.55,
          58.525,
          60.756,
          61.42,
          65.915,
          66.637,
          66.395,
          89.123,
          84.528,
          85.111,
          86.807,
          88.486,
          90.446,
          104.776,
          104.691,
          108.044,
          111.613,
          118.93,
          122.619,
          129.504,
          132.853,
          141.423,
          155.211,
          157.794,
          172.402,
          173.816,
          183.511,
          196.896,
          198.805,
          207.551,
          217.209,
          255.139,
          260.166,
          277.292,
          279.889,
          284.171,
          301.312,
          330.641,
          347.735,
          354.057,
          377.859,
          407.09,
          432.307,
          445.97,
          477.815,
          490.753,
          521.131,
          532.537,
          566.143,
          626.372,
          665.419,
          622.997,
          675.799,
          685.553,
          699.099,
          704.379,
          754.867,
          853.705,
          882.405,
          931.922,
          991.032,
          1002.174,
          1009.671,
          1025.475,
          1076.758,
          1192.272,
          1191.8,
          1298.458,
          1358.874,
          1370.088,
          1353.669,
          1400.858,
          1485.273,
          1533.701,
          1606.301,
          1694.266,
          1850.798,
          1952.209,
          2016.744,
          2067.684,
          2254.095,
          2279.749,
          2427.313,
          2534.734,
          2888.308,
          2776.404,
          2890.468,
          3033.82,
          3079.215,
          3235.538,
          3505.865,
          3179.912,
          3134.378,
          3385.277,
          3539.853,
          3492.84,
          3028.56,
          3521.062,
          3089.464,
          3239.736,
          3675.398,
          3686.099,
          3725.637,
          3659.297,
          3993.754,
          3976.071,
          4267.657,
          3934.73,
          3516.94,
          3170.801,
          3338.349,
          3630.765,
          3811.112,
          4181.088,
          4469.369,
          4201.28,
          4445.443,
          4854.658,
          4965.649,
          4953.624,
          5035.077,
          5110.656,
          4250.264,
          4638.339,
          5138.49,
          5415.709,
          5245.849,
          6003.272,
          6379.796,
          6465.727,
          6647.763,
          6789.969,
          7443.244,
          7924.253,
          8185.547,
          8417.624,
          8856.221,
          9387.668,
          9418.46,
          9751.06,
          10271.655,
          10829.612,
          11317.596,
          11866.934,
          12244.029,
          12910.892,
          13767.398,
          14898.716,
          15505.496,
          16228.729,
          17086.193,
          17017.477,
          17054.627,
          17991.887,
          18502.846,
          19077.193,
          19618.463,
          19501.264,
          19036.117,
          18884.486,
          19006.539,
          19664.754,
          20325.486,
          20627.359,
          21273.904,
          22107.795,
          22410.402,
          22757.48,
          23244.807,
          22580.023,
          22812.9,
          22969.498,
          23458.713,
          24159.383,
          24302.584,
          24213.26,
          24732.389,
          25453.623,
          25668.049,
          26281.037,
          27651.596,
          28636.695,
          29614.602,
          30593.117,
          31506.789,
          32085.836,
          31564.031,
          33364.348
         ],
         "yaxis": "y"
        }
       ],
       "layout": {
        "legend": {
         "title": {
          "text": "country"
         },
         "tracegroupgap": 0
        },
        "margin": {
         "t": 60
        },
        "template": {
         "data": {
          "bar": [
           {
            "error_x": {
             "color": "#2a3f5f"
            },
            "error_y": {
             "color": "#2a3f5f"
            },
            "marker": {
             "line": {
              "color": "#E5ECF6",
              "width": 0.5
             },
             "pattern": {
              "fillmode": "overlay",
              "size": 10,
              "solidity": 0.2
             }
            },
            "type": "bar"
           }
          ],
          "barpolar": [
           {
            "marker": {
             "line": {
              "color": "#E5ECF6",
              "width": 0.5
             },
             "pattern": {
              "fillmode": "overlay",
              "size": 10,
              "solidity": 0.2
             }
            },
            "type": "barpolar"
           }
          ],
          "carpet": [
           {
            "aaxis": {
             "endlinecolor": "#2a3f5f",
             "gridcolor": "white",
             "linecolor": "white",
             "minorgridcolor": "white",
             "startlinecolor": "#2a3f5f"
            },
            "baxis": {
             "endlinecolor": "#2a3f5f",
             "gridcolor": "white",
             "linecolor": "white",
             "minorgridcolor": "white",
             "startlinecolor": "#2a3f5f"
            },
            "type": "carpet"
           }
          ],
          "choropleth": [
           {
            "colorbar": {
             "outlinewidth": 0,
             "ticks": ""
            },
            "type": "choropleth"
           }
          ],
          "contour": [
           {
            "colorbar": {
             "outlinewidth": 0,
             "ticks": ""
            },
            "colorscale": [
             [
              0,
              "#0d0887"
             ],
             [
              0.1111111111111111,
              "#46039f"
             ],
             [
              0.2222222222222222,
              "#7201a8"
             ],
             [
              0.3333333333333333,
              "#9c179e"
             ],
             [
              0.4444444444444444,
              "#bd3786"
             ],
             [
              0.5555555555555556,
              "#d8576b"
             ],
             [
              0.6666666666666666,
              "#ed7953"
             ],
             [
              0.7777777777777778,
              "#fb9f3a"
             ],
             [
              0.8888888888888888,
              "#fdca26"
             ],
             [
              1,
              "#f0f921"
             ]
            ],
            "type": "contour"
           }
          ],
          "contourcarpet": [
           {
            "colorbar": {
             "outlinewidth": 0,
             "ticks": ""
            },
            "type": "contourcarpet"
           }
          ],
          "heatmap": [
           {
            "colorbar": {
             "outlinewidth": 0,
             "ticks": ""
            },
            "colorscale": [
             [
              0,
              "#0d0887"
             ],
             [
              0.1111111111111111,
              "#46039f"
             ],
             [
              0.2222222222222222,
              "#7201a8"
             ],
             [
              0.3333333333333333,
              "#9c179e"
             ],
             [
              0.4444444444444444,
              "#bd3786"
             ],
             [
              0.5555555555555556,
              "#d8576b"
             ],
             [
              0.6666666666666666,
              "#ed7953"
             ],
             [
              0.7777777777777778,
              "#fb9f3a"
             ],
             [
              0.8888888888888888,
              "#fdca26"
             ],
             [
              1,
              "#f0f921"
             ]
            ],
            "type": "heatmap"
           }
          ],
          "heatmapgl": [
           {
            "colorbar": {
             "outlinewidth": 0,
             "ticks": ""
            },
            "colorscale": [
             [
              0,
              "#0d0887"
             ],
             [
              0.1111111111111111,
              "#46039f"
             ],
             [
              0.2222222222222222,
              "#7201a8"
             ],
             [
              0.3333333333333333,
              "#9c179e"
             ],
             [
              0.4444444444444444,
              "#bd3786"
             ],
             [
              0.5555555555555556,
              "#d8576b"
             ],
             [
              0.6666666666666666,
              "#ed7953"
             ],
             [
              0.7777777777777778,
              "#fb9f3a"
             ],
             [
              0.8888888888888888,
              "#fdca26"
             ],
             [
              1,
              "#f0f921"
             ]
            ],
            "type": "heatmapgl"
           }
          ],
          "histogram": [
           {
            "marker": {
             "pattern": {
              "fillmode": "overlay",
              "size": 10,
              "solidity": 0.2
             }
            },
            "type": "histogram"
           }
          ],
          "histogram2d": [
           {
            "colorbar": {
             "outlinewidth": 0,
             "ticks": ""
            },
            "colorscale": [
             [
              0,
              "#0d0887"
             ],
             [
              0.1111111111111111,
              "#46039f"
             ],
             [
              0.2222222222222222,
              "#7201a8"
             ],
             [
              0.3333333333333333,
              "#9c179e"
             ],
             [
              0.4444444444444444,
              "#bd3786"
             ],
             [
              0.5555555555555556,
              "#d8576b"
             ],
             [
              0.6666666666666666,
              "#ed7953"
             ],
             [
              0.7777777777777778,
              "#fb9f3a"
             ],
             [
              0.8888888888888888,
              "#fdca26"
             ],
             [
              1,
              "#f0f921"
             ]
            ],
            "type": "histogram2d"
           }
          ],
          "histogram2dcontour": [
           {
            "colorbar": {
             "outlinewidth": 0,
             "ticks": ""
            },
            "colorscale": [
             [
              0,
              "#0d0887"
             ],
             [
              0.1111111111111111,
              "#46039f"
             ],
             [
              0.2222222222222222,
              "#7201a8"
             ],
             [
              0.3333333333333333,
              "#9c179e"
             ],
             [
              0.4444444444444444,
              "#bd3786"
             ],
             [
              0.5555555555555556,
              "#d8576b"
             ],
             [
              0.6666666666666666,
              "#ed7953"
             ],
             [
              0.7777777777777778,
              "#fb9f3a"
             ],
             [
              0.8888888888888888,
              "#fdca26"
             ],
             [
              1,
              "#f0f921"
             ]
            ],
            "type": "histogram2dcontour"
           }
          ],
          "mesh3d": [
           {
            "colorbar": {
             "outlinewidth": 0,
             "ticks": ""
            },
            "type": "mesh3d"
           }
          ],
          "parcoords": [
           {
            "line": {
             "colorbar": {
              "outlinewidth": 0,
              "ticks": ""
             }
            },
            "type": "parcoords"
           }
          ],
          "pie": [
           {
            "automargin": true,
            "type": "pie"
           }
          ],
          "scatter": [
           {
            "fillpattern": {
             "fillmode": "overlay",
             "size": 10,
             "solidity": 0.2
            },
            "type": "scatter"
           }
          ],
          "scatter3d": [
           {
            "line": {
             "colorbar": {
              "outlinewidth": 0,
              "ticks": ""
             }
            },
            "marker": {
             "colorbar": {
              "outlinewidth": 0,
              "ticks": ""
             }
            },
            "type": "scatter3d"
           }
          ],
          "scattercarpet": [
           {
            "marker": {
             "colorbar": {
              "outlinewidth": 0,
              "ticks": ""
             }
            },
            "type": "scattercarpet"
           }
          ],
          "scattergeo": [
           {
            "marker": {
             "colorbar": {
              "outlinewidth": 0,
              "ticks": ""
             }
            },
            "type": "scattergeo"
           }
          ],
          "scattergl": [
           {
            "marker": {
             "colorbar": {
              "outlinewidth": 0,
              "ticks": ""
             }
            },
            "type": "scattergl"
           }
          ],
          "scattermapbox": [
           {
            "marker": {
             "colorbar": {
              "outlinewidth": 0,
              "ticks": ""
             }
            },
            "type": "scattermapbox"
           }
          ],
          "scatterpolar": [
           {
            "marker": {
             "colorbar": {
              "outlinewidth": 0,
              "ticks": ""
             }
            },
            "type": "scatterpolar"
           }
          ],
          "scatterpolargl": [
           {
            "marker": {
             "colorbar": {
              "outlinewidth": 0,
              "ticks": ""
             }
            },
            "type": "scatterpolargl"
           }
          ],
          "scatterternary": [
           {
            "marker": {
             "colorbar": {
              "outlinewidth": 0,
              "ticks": ""
             }
            },
            "type": "scatterternary"
           }
          ],
          "surface": [
           {
            "colorbar": {
             "outlinewidth": 0,
             "ticks": ""
            },
            "colorscale": [
             [
              0,
              "#0d0887"
             ],
             [
              0.1111111111111111,
              "#46039f"
             ],
             [
              0.2222222222222222,
              "#7201a8"
             ],
             [
              0.3333333333333333,
              "#9c179e"
             ],
             [
              0.4444444444444444,
              "#bd3786"
             ],
             [
              0.5555555555555556,
              "#d8576b"
             ],
             [
              0.6666666666666666,
              "#ed7953"
             ],
             [
              0.7777777777777778,
              "#fb9f3a"
             ],
             [
              0.8888888888888888,
              "#fdca26"
             ],
             [
              1,
              "#f0f921"
             ]
            ],
            "type": "surface"
           }
          ],
          "table": [
           {
            "cells": {
             "fill": {
              "color": "#EBF0F8"
             },
             "line": {
              "color": "white"
             }
            },
            "header": {
             "fill": {
              "color": "#C8D4E3"
             },
             "line": {
              "color": "white"
             }
            },
            "type": "table"
           }
          ]
         },
         "layout": {
          "annotationdefaults": {
           "arrowcolor": "#2a3f5f",
           "arrowhead": 0,
           "arrowwidth": 1
          },
          "autotypenumbers": "strict",
          "coloraxis": {
           "colorbar": {
            "outlinewidth": 0,
            "ticks": ""
           }
          },
          "colorscale": {
           "diverging": [
            [
             0,
             "#8e0152"
            ],
            [
             0.1,
             "#c51b7d"
            ],
            [
             0.2,
             "#de77ae"
            ],
            [
             0.3,
             "#f1b6da"
            ],
            [
             0.4,
             "#fde0ef"
            ],
            [
             0.5,
             "#f7f7f7"
            ],
            [
             0.6,
             "#e6f5d0"
            ],
            [
             0.7,
             "#b8e186"
            ],
            [
             0.8,
             "#7fbc41"
            ],
            [
             0.9,
             "#4d9221"
            ],
            [
             1,
             "#276419"
            ]
           ],
           "sequential": [
            [
             0,
             "#0d0887"
            ],
            [
             0.1111111111111111,
             "#46039f"
            ],
            [
             0.2222222222222222,
             "#7201a8"
            ],
            [
             0.3333333333333333,
             "#9c179e"
            ],
            [
             0.4444444444444444,
             "#bd3786"
            ],
            [
             0.5555555555555556,
             "#d8576b"
            ],
            [
             0.6666666666666666,
             "#ed7953"
            ],
            [
             0.7777777777777778,
             "#fb9f3a"
            ],
            [
             0.8888888888888888,
             "#fdca26"
            ],
            [
             1,
             "#f0f921"
            ]
           ],
           "sequentialminus": [
            [
             0,
             "#0d0887"
            ],
            [
             0.1111111111111111,
             "#46039f"
            ],
            [
             0.2222222222222222,
             "#7201a8"
            ],
            [
             0.3333333333333333,
             "#9c179e"
            ],
            [
             0.4444444444444444,
             "#bd3786"
            ],
            [
             0.5555555555555556,
             "#d8576b"
            ],
            [
             0.6666666666666666,
             "#ed7953"
            ],
            [
             0.7777777777777778,
             "#fb9f3a"
            ],
            [
             0.8888888888888888,
             "#fdca26"
            ],
            [
             1,
             "#f0f921"
            ]
           ]
          },
          "colorway": [
           "#636efa",
           "#EF553B",
           "#00cc96",
           "#ab63fa",
           "#FFA15A",
           "#19d3f3",
           "#FF6692",
           "#B6E880",
           "#FF97FF",
           "#FECB52"
          ],
          "font": {
           "color": "#2a3f5f"
          },
          "geo": {
           "bgcolor": "white",
           "lakecolor": "white",
           "landcolor": "#E5ECF6",
           "showlakes": true,
           "showland": true,
           "subunitcolor": "white"
          },
          "hoverlabel": {
           "align": "left"
          },
          "hovermode": "closest",
          "mapbox": {
           "style": "light"
          },
          "paper_bgcolor": "white",
          "plot_bgcolor": "#E5ECF6",
          "polar": {
           "angularaxis": {
            "gridcolor": "white",
            "linecolor": "white",
            "ticks": ""
           },
           "bgcolor": "#E5ECF6",
           "radialaxis": {
            "gridcolor": "white",
            "linecolor": "white",
            "ticks": ""
           }
          },
          "scene": {
           "xaxis": {
            "backgroundcolor": "#E5ECF6",
            "gridcolor": "white",
            "gridwidth": 2,
            "linecolor": "white",
            "showbackground": true,
            "ticks": "",
            "zerolinecolor": "white"
           },
           "yaxis": {
            "backgroundcolor": "#E5ECF6",
            "gridcolor": "white",
            "gridwidth": 2,
            "linecolor": "white",
            "showbackground": true,
            "ticks": "",
            "zerolinecolor": "white"
           },
           "zaxis": {
            "backgroundcolor": "#E5ECF6",
            "gridcolor": "white",
            "gridwidth": 2,
            "linecolor": "white",
            "showbackground": true,
            "ticks": "",
            "zerolinecolor": "white"
           }
          },
          "shapedefaults": {
           "line": {
            "color": "#2a3f5f"
           }
          },
          "ternary": {
           "aaxis": {
            "gridcolor": "white",
            "linecolor": "white",
            "ticks": ""
           },
           "baxis": {
            "gridcolor": "white",
            "linecolor": "white",
            "ticks": ""
           },
           "bgcolor": "#E5ECF6",
           "caxis": {
            "gridcolor": "white",
            "linecolor": "white",
            "ticks": ""
           }
          },
          "title": {
           "x": 0.05
          },
          "xaxis": {
           "automargin": true,
           "gridcolor": "white",
           "linecolor": "white",
           "ticks": "",
           "title": {
            "standoff": 15
           },
           "zerolinecolor": "white",
           "zerolinewidth": 2
          },
          "yaxis": {
           "automargin": true,
           "gridcolor": "white",
           "linecolor": "white",
           "ticks": "",
           "title": {
            "standoff": 15
           },
           "zerolinecolor": "white",
           "zerolinewidth": 2
          }
         }
        },
        "xaxis": {
         "anchor": "y",
         "domain": [
          0,
          1
         ],
         "title": {
          "text": "year"
         }
        },
        "yaxis": {
         "anchor": "x",
         "domain": [
          0,
          1
         ],
         "title": {
          "text": "co2"
         }
        }
       }
      }
     },
     "metadata": {},
     "output_type": "display_data"
    }
   ],
   "source": [
    "fig_0.show()"
   ]
  },
  {
   "cell_type": "code",
   "execution_count": 13,
   "metadata": {},
   "outputs": [],
   "source": [
    "%%mnn widget --type plot --var fig_1     --tab \"Emission\" --header \"CO2 vs GDP\"\n",
    "\n",
    "df_1 = df[(df['year'] == year_slider) &  (-df['country'].isin(continents)) & (df['gdp_per_capita'] != 0)& (df['co2_per_capita'] != 0)& (df['co2'] != 0)]\n",
    "fig_1 = px.scatter(df_1, x=\"gdp_per_capita\", y= yaxis_co2 , hover_data = \"country\")\n",
    "# fig_1.update_traces(textposition=\"top right\")"
   ]
  },
  {
   "cell_type": "code",
   "execution_count": 14,
   "metadata": {},
   "outputs": [
    {
     "data": {
      "application/vnd.plotly.v1+json": {
       "config": {
        "plotlyServerURL": "https://plot.ly"
       },
       "data": [
        {
         "customdata": [
          [
           "Afghanistan"
          ],
          [
           "Albania"
          ],
          [
           "Algeria"
          ],
          [
           "Angola"
          ],
          [
           "Argentina"
          ],
          [
           "Armenia"
          ],
          [
           "Australia"
          ],
          [
           "Austria"
          ],
          [
           "Azerbaijan"
          ],
          [
           "Bahrain"
          ],
          [
           "Bangladesh"
          ],
          [
           "Barbados"
          ],
          [
           "Belarus"
          ],
          [
           "Belgium"
          ],
          [
           "Benin"
          ],
          [
           "Bolivia"
          ],
          [
           "Bosnia and Herzegovina"
          ],
          [
           "Botswana"
          ],
          [
           "Brazil"
          ],
          [
           "Bulgaria"
          ],
          [
           "Burkina Faso"
          ],
          [
           "Burundi"
          ],
          [
           "Cambodia"
          ],
          [
           "Cameroon"
          ],
          [
           "Canada"
          ],
          [
           "Cape Verde"
          ],
          [
           "Central African Republic"
          ],
          [
           "Chad"
          ],
          [
           "Chile"
          ],
          [
           "China"
          ],
          [
           "Colombia"
          ],
          [
           "Comoros"
          ],
          [
           "Congo"
          ],
          [
           "Costa Rica"
          ],
          [
           "Cote d'Ivoire"
          ],
          [
           "Croatia"
          ],
          [
           "Cuba"
          ],
          [
           "Cyprus"
          ],
          [
           "Czechia"
          ],
          [
           "Democratic Republic of Congo"
          ],
          [
           "Denmark"
          ],
          [
           "Djibouti"
          ],
          [
           "Dominica"
          ],
          [
           "Dominican Republic"
          ],
          [
           "Ecuador"
          ],
          [
           "Egypt"
          ],
          [
           "El Salvador"
          ],
          [
           "Equatorial Guinea"
          ],
          [
           "Estonia"
          ],
          [
           "Eswatini"
          ],
          [
           "Ethiopia"
          ],
          [
           "Finland"
          ],
          [
           "France"
          ],
          [
           "Gabon"
          ],
          [
           "Gambia"
          ],
          [
           "Georgia"
          ],
          [
           "Germany"
          ],
          [
           "Ghana"
          ],
          [
           "Greece"
          ],
          [
           "Guatemala"
          ],
          [
           "Guinea"
          ],
          [
           "Guinea-Bissau"
          ],
          [
           "Haiti"
          ],
          [
           "Honduras"
          ],
          [
           "Hong Kong"
          ],
          [
           "Hungary"
          ],
          [
           "Iceland"
          ],
          [
           "India"
          ],
          [
           "Indonesia"
          ],
          [
           "Iran"
          ],
          [
           "Iraq"
          ],
          [
           "Ireland"
          ],
          [
           "Israel"
          ],
          [
           "Italy"
          ],
          [
           "Jamaica"
          ],
          [
           "Japan"
          ],
          [
           "Jordan"
          ],
          [
           "Kazakhstan"
          ],
          [
           "Kenya"
          ],
          [
           "Kuwait"
          ],
          [
           "Kyrgyzstan"
          ],
          [
           "Laos"
          ],
          [
           "Latvia"
          ],
          [
           "Lebanon"
          ],
          [
           "Lesotho"
          ],
          [
           "Liberia"
          ],
          [
           "Libya"
          ],
          [
           "Lithuania"
          ],
          [
           "Luxembourg"
          ],
          [
           "Madagascar"
          ],
          [
           "Malawi"
          ],
          [
           "Malaysia"
          ],
          [
           "Mali"
          ],
          [
           "Malta"
          ],
          [
           "Mauritania"
          ],
          [
           "Mauritius"
          ],
          [
           "Mexico"
          ],
          [
           "Moldova"
          ],
          [
           "Mongolia"
          ],
          [
           "Montenegro"
          ],
          [
           "Morocco"
          ],
          [
           "Mozambique"
          ],
          [
           "Myanmar"
          ],
          [
           "Namibia"
          ],
          [
           "Nepal"
          ],
          [
           "Netherlands"
          ],
          [
           "New Zealand"
          ],
          [
           "Nicaragua"
          ],
          [
           "Niger"
          ],
          [
           "Nigeria"
          ],
          [
           "North Korea"
          ],
          [
           "North Macedonia"
          ],
          [
           "Norway"
          ],
          [
           "Oman"
          ],
          [
           "Pakistan"
          ],
          [
           "Palestine"
          ],
          [
           "Panama"
          ],
          [
           "Paraguay"
          ],
          [
           "Peru"
          ],
          [
           "Philippines"
          ],
          [
           "Poland"
          ],
          [
           "Portugal"
          ],
          [
           "Qatar"
          ],
          [
           "Romania"
          ],
          [
           "Russia"
          ],
          [
           "Rwanda"
          ],
          [
           "Saint Lucia"
          ],
          [
           "Sao Tome and Principe"
          ],
          [
           "Saudi Arabia"
          ],
          [
           "Senegal"
          ],
          [
           "Serbia"
          ],
          [
           "Seychelles"
          ],
          [
           "Sierra Leone"
          ],
          [
           "Singapore"
          ],
          [
           "Slovakia"
          ],
          [
           "Slovenia"
          ],
          [
           "South Africa"
          ],
          [
           "South Korea"
          ],
          [
           "Spain"
          ],
          [
           "Sri Lanka"
          ],
          [
           "Sweden"
          ],
          [
           "Switzerland"
          ],
          [
           "Syria"
          ],
          [
           "Taiwan"
          ],
          [
           "Tajikistan"
          ],
          [
           "Tanzania"
          ],
          [
           "Thailand"
          ],
          [
           "Togo"
          ],
          [
           "Trinidad and Tobago"
          ],
          [
           "Tunisia"
          ],
          [
           "Turkey"
          ],
          [
           "Turkmenistan"
          ],
          [
           "Uganda"
          ],
          [
           "Ukraine"
          ],
          [
           "United Arab Emirates"
          ],
          [
           "United Kingdom"
          ],
          [
           "United States"
          ],
          [
           "Uruguay"
          ],
          [
           "Uzbekistan"
          ],
          [
           "Venezuela"
          ],
          [
           "Vietnam"
          ],
          [
           "Yemen"
          ],
          [
           "Zambia"
          ],
          [
           "Zimbabwe"
          ]
         ],
         "hovertemplate": "gdp_per_capita=%{x}<br>co2=%{y}<br>country=%{customdata[0]}<extra></extra>",
         "legendgroup": "",
         "marker": {
          "color": "#636efa",
          "symbol": "circle"
         },
         "mode": "markers",
         "name": "",
         "orientation": "v",
         "showlegend": false,
         "type": "scatter",
         "x": [
          1681.4464531549002,
          9472.86657179476,
          12569.765418831834,
          5434.8881401268845,
          19099.36514644092,
          8310.64764164904,
          45145.567398874235,
          40527.803654959345,
          15621.21092802659,
          35140.26490889091,
          2697.3108690265703,
          12445.302125460019,
          17082.783797564716,
          37893.50240247517,
          1802.2134224658034,
          5003.016453530507,
          9387.065625530524,
          11932.511473629154,
          14345.07674924915,
          14594.393507818675,
          1283.646600195038,
          718.6642035401527,
          2435.9343543169807,
          2556.9315097602157,
          41439.34685109413,
          5892.2710952593825,
          946.4359551989178,
          1670.513392565147,
          18900.715465610017,
          9537.821154884126,
          10975.97937312891,
          1541.6764060289743,
          5590.287051731648,
          11770.754222294338,
          2763.845044232871,
          18107.79693271194,
          6561.632069666141,
          23835.702421808404,
          25886.46010425476,
          696.2290494260841,
          42908.027891944475,
          2050.6939423807066,
          9307.144747364595,
          10972.077715523996,
          9203.402535134237,
          10258.653770687564,
          7174.108286846061,
          25002.942187480014,
          20241.35697822438,
          6666.155039520841,
          1055.0308566100912,
          37615.62463261747,
          37493.93760738324,
          13958.941224942537,
          1605.9265156786512,
          10779.68656032552,
          41276.23251511268,
          2691.6706144449977,
          26551.77326944229,
          6626.4081843202075,
          1203.6375470171151,
          1285.986955295535,
          1510.7084182550986,
          4071.6913572650415,
          41909.730235542214,
          20058.71888262464,
          36222.79135280481,
          4283.780605086887,
          8261.193371114872,
          17465.073804150466,
          10175.388152329388,
          48925.586552213346,
          28850.777342350808,
          34463.55125022291,
          6931.118833726422,
          34853.75718787631,
          11118.295691852985,
          20052.328183355636,
          2603.4812631160307,
          71559.55658899137,
          3836.2681981647333,
          4143.010796838738,
          17110.568685681003,
          17404.087695281574,
          2196.341269715714,
          811.1067110651405,
          28886.134911770518,
          18400.642126319002,
          54231.35906917123,
          1294.691309007958,
          1147.254779553194,
          17904.3409740492,
          1291.421876862421,
          23519.704574002168,
          2795.676540929538,
          16405.688886949516,
          14553.68081356125,
          4704.007534148626,
          8063.2194090937855,
          14314.439218569745,
          6922.510055763051,
          868.5032125709009,
          3841.2698880208673,
          8288.084371985566,
          2112.8471168016345,
          43807.797396432274,
          31204.343710404948,
          3748.5769495072864,
          762.4569902649309,
          5032.951865659253,
          1725.8643987329722,
          10965.153279065902,
          78478.05949878388,
          47684.480154341814,
          4142.271491629589,
          4451.365396691567,
          14279.051296189282,
          7972.220030516842,
          9431.464496371756,
          5932.540011368105,
          20524.43551791475,
          25272.204656397127,
          136794.32172520531,
          16070.118543932564,
          21637.578883241655,
          1333.0258313292654,
          9473.169558350395,
          2988.837664833053,
          39420.6751951334,
          2303.8501199668513,
          11480.711006331669,
          19182.806197524453,
          1158.2589299266597,
          58346.20295163147,
          21769.601800301978,
          25800.753961271457,
          11166.089446875354,
          32016.505513486194,
          32184.622241628887,
          8146.747829311346,
          42619.23564479953,
          58292.53828496567,
          6230.916390054813,
          37092.215713618185,
          2923.3063572378387,
          2064.683080926645,
          12831.369424047474,
          1193.8886263892941,
          26338.494861720617,
          10324.403992523954,
          17434.694745098022,
          13501.605929413105,
          1831.3351765663451,
          9619.10400187168,
          60523.529733811614,
          34907.15981708618,
          49072.82680053111,
          16293.465732361805,
          6819.629918172893,
          16656.198388676366,
          4686.541773178795,
          4774.828782347713,
          3008.2899237570505,
          1395.5370267420594
         ],
         "xaxis": "x",
         "y": [
          8.365,
          4.784,
          117.813,
          28.865,
          186.733,
          4.253,
          405.103,
          72.006,
          30.633,
          29.075,
          53.992,
          1.464,
          62.445,
          114.558,
          4.679,
          15.499,
          21.146,
          4.537,
          440.269,
          47.859,
          2.036,
          0.297,
          5.078,
          6.662,
          556.561,
          0.557,
          0.169,
          1.158,
          71.311,
          8616.652,
          76.278,
          0.161,
          1.962,
          7.493,
          6.064,
          21.016,
          34.2,
          8.103,
          117.482,
          1.962,
          49.204,
          0.517,
          0.172,
          20.553,
          34.826,
          200.841,
          6.319,
          6.786,
          19.003,
          0.997,
          6.337,
          64.081,
          376.645,
          4.783,
          0.425,
          6.208,
          832.541,
          9.71,
          97.354,
          11.098,
          2.484,
          0.238,
          2.137,
          7.997,
          40.063,
          52.069,
          3.617,
          1676.495,
          451.546,
          569.772,
          110.066,
          41.794,
          68.287,
          436.117,
          7.677,
          1215.058,
          20.615,
          246.983,
          11.745,
          89.272,
          6.314,
          3.005,
          8.554,
          19.997,
          2.275,
          0.757,
          60.653,
          13.947,
          11.202,
          1.872,
          1.025,
          215.935,
          2.088,
          2.589,
          2.045,
          3.913,
          463.783,
          4.831,
          13.772,
          2.422,
          54.365,
          2.635,
          13.079,
          2.84,
          4.824,
          181.527,
          34.811,
          4.468,
          1.17,
          112.314,
          50.091,
          8.5,
          45.691,
          50.315,
          153.909,
          2.034,
          9.072,
          5.022,
          57.173,
          82.953,
          334.917,
          53.001,
          71.92,
          84.633,
          1626.188,
          0.573,
          0.487,
          0.099,
          517.716,
          6.862,
          45.696,
          0.443,
          0.542,
          55.066,
          38.404,
          16.46,
          462.807,
          594.339,
          284.283,
          13.051,
          53.287,
          45.046,
          60.717,
          270.148,
          2.536,
          6.927,
          261.786,
          2.596,
          46.957,
          27.101,
          316.036,
          57.11,
          3.57,
          294.111,
          180.622,
          511.905,
          5681.392,
          6.298,
          104.157,
          184.084,
          138.585,
          23.151,
          3.12,
          8.754
         ],
         "yaxis": "y"
        }
       ],
       "layout": {
        "legend": {
         "tracegroupgap": 0
        },
        "margin": {
         "t": 60
        },
        "template": {
         "data": {
          "bar": [
           {
            "error_x": {
             "color": "#2a3f5f"
            },
            "error_y": {
             "color": "#2a3f5f"
            },
            "marker": {
             "line": {
              "color": "#E5ECF6",
              "width": 0.5
             },
             "pattern": {
              "fillmode": "overlay",
              "size": 10,
              "solidity": 0.2
             }
            },
            "type": "bar"
           }
          ],
          "barpolar": [
           {
            "marker": {
             "line": {
              "color": "#E5ECF6",
              "width": 0.5
             },
             "pattern": {
              "fillmode": "overlay",
              "size": 10,
              "solidity": 0.2
             }
            },
            "type": "barpolar"
           }
          ],
          "carpet": [
           {
            "aaxis": {
             "endlinecolor": "#2a3f5f",
             "gridcolor": "white",
             "linecolor": "white",
             "minorgridcolor": "white",
             "startlinecolor": "#2a3f5f"
            },
            "baxis": {
             "endlinecolor": "#2a3f5f",
             "gridcolor": "white",
             "linecolor": "white",
             "minorgridcolor": "white",
             "startlinecolor": "#2a3f5f"
            },
            "type": "carpet"
           }
          ],
          "choropleth": [
           {
            "colorbar": {
             "outlinewidth": 0,
             "ticks": ""
            },
            "type": "choropleth"
           }
          ],
          "contour": [
           {
            "colorbar": {
             "outlinewidth": 0,
             "ticks": ""
            },
            "colorscale": [
             [
              0,
              "#0d0887"
             ],
             [
              0.1111111111111111,
              "#46039f"
             ],
             [
              0.2222222222222222,
              "#7201a8"
             ],
             [
              0.3333333333333333,
              "#9c179e"
             ],
             [
              0.4444444444444444,
              "#bd3786"
             ],
             [
              0.5555555555555556,
              "#d8576b"
             ],
             [
              0.6666666666666666,
              "#ed7953"
             ],
             [
              0.7777777777777778,
              "#fb9f3a"
             ],
             [
              0.8888888888888888,
              "#fdca26"
             ],
             [
              1,
              "#f0f921"
             ]
            ],
            "type": "contour"
           }
          ],
          "contourcarpet": [
           {
            "colorbar": {
             "outlinewidth": 0,
             "ticks": ""
            },
            "type": "contourcarpet"
           }
          ],
          "heatmap": [
           {
            "colorbar": {
             "outlinewidth": 0,
             "ticks": ""
            },
            "colorscale": [
             [
              0,
              "#0d0887"
             ],
             [
              0.1111111111111111,
              "#46039f"
             ],
             [
              0.2222222222222222,
              "#7201a8"
             ],
             [
              0.3333333333333333,
              "#9c179e"
             ],
             [
              0.4444444444444444,
              "#bd3786"
             ],
             [
              0.5555555555555556,
              "#d8576b"
             ],
             [
              0.6666666666666666,
              "#ed7953"
             ],
             [
              0.7777777777777778,
              "#fb9f3a"
             ],
             [
              0.8888888888888888,
              "#fdca26"
             ],
             [
              1,
              "#f0f921"
             ]
            ],
            "type": "heatmap"
           }
          ],
          "heatmapgl": [
           {
            "colorbar": {
             "outlinewidth": 0,
             "ticks": ""
            },
            "colorscale": [
             [
              0,
              "#0d0887"
             ],
             [
              0.1111111111111111,
              "#46039f"
             ],
             [
              0.2222222222222222,
              "#7201a8"
             ],
             [
              0.3333333333333333,
              "#9c179e"
             ],
             [
              0.4444444444444444,
              "#bd3786"
             ],
             [
              0.5555555555555556,
              "#d8576b"
             ],
             [
              0.6666666666666666,
              "#ed7953"
             ],
             [
              0.7777777777777778,
              "#fb9f3a"
             ],
             [
              0.8888888888888888,
              "#fdca26"
             ],
             [
              1,
              "#f0f921"
             ]
            ],
            "type": "heatmapgl"
           }
          ],
          "histogram": [
           {
            "marker": {
             "pattern": {
              "fillmode": "overlay",
              "size": 10,
              "solidity": 0.2
             }
            },
            "type": "histogram"
           }
          ],
          "histogram2d": [
           {
            "colorbar": {
             "outlinewidth": 0,
             "ticks": ""
            },
            "colorscale": [
             [
              0,
              "#0d0887"
             ],
             [
              0.1111111111111111,
              "#46039f"
             ],
             [
              0.2222222222222222,
              "#7201a8"
             ],
             [
              0.3333333333333333,
              "#9c179e"
             ],
             [
              0.4444444444444444,
              "#bd3786"
             ],
             [
              0.5555555555555556,
              "#d8576b"
             ],
             [
              0.6666666666666666,
              "#ed7953"
             ],
             [
              0.7777777777777778,
              "#fb9f3a"
             ],
             [
              0.8888888888888888,
              "#fdca26"
             ],
             [
              1,
              "#f0f921"
             ]
            ],
            "type": "histogram2d"
           }
          ],
          "histogram2dcontour": [
           {
            "colorbar": {
             "outlinewidth": 0,
             "ticks": ""
            },
            "colorscale": [
             [
              0,
              "#0d0887"
             ],
             [
              0.1111111111111111,
              "#46039f"
             ],
             [
              0.2222222222222222,
              "#7201a8"
             ],
             [
              0.3333333333333333,
              "#9c179e"
             ],
             [
              0.4444444444444444,
              "#bd3786"
             ],
             [
              0.5555555555555556,
              "#d8576b"
             ],
             [
              0.6666666666666666,
              "#ed7953"
             ],
             [
              0.7777777777777778,
              "#fb9f3a"
             ],
             [
              0.8888888888888888,
              "#fdca26"
             ],
             [
              1,
              "#f0f921"
             ]
            ],
            "type": "histogram2dcontour"
           }
          ],
          "mesh3d": [
           {
            "colorbar": {
             "outlinewidth": 0,
             "ticks": ""
            },
            "type": "mesh3d"
           }
          ],
          "parcoords": [
           {
            "line": {
             "colorbar": {
              "outlinewidth": 0,
              "ticks": ""
             }
            },
            "type": "parcoords"
           }
          ],
          "pie": [
           {
            "automargin": true,
            "type": "pie"
           }
          ],
          "scatter": [
           {
            "fillpattern": {
             "fillmode": "overlay",
             "size": 10,
             "solidity": 0.2
            },
            "type": "scatter"
           }
          ],
          "scatter3d": [
           {
            "line": {
             "colorbar": {
              "outlinewidth": 0,
              "ticks": ""
             }
            },
            "marker": {
             "colorbar": {
              "outlinewidth": 0,
              "ticks": ""
             }
            },
            "type": "scatter3d"
           }
          ],
          "scattercarpet": [
           {
            "marker": {
             "colorbar": {
              "outlinewidth": 0,
              "ticks": ""
             }
            },
            "type": "scattercarpet"
           }
          ],
          "scattergeo": [
           {
            "marker": {
             "colorbar": {
              "outlinewidth": 0,
              "ticks": ""
             }
            },
            "type": "scattergeo"
           }
          ],
          "scattergl": [
           {
            "marker": {
             "colorbar": {
              "outlinewidth": 0,
              "ticks": ""
             }
            },
            "type": "scattergl"
           }
          ],
          "scattermapbox": [
           {
            "marker": {
             "colorbar": {
              "outlinewidth": 0,
              "ticks": ""
             }
            },
            "type": "scattermapbox"
           }
          ],
          "scatterpolar": [
           {
            "marker": {
             "colorbar": {
              "outlinewidth": 0,
              "ticks": ""
             }
            },
            "type": "scatterpolar"
           }
          ],
          "scatterpolargl": [
           {
            "marker": {
             "colorbar": {
              "outlinewidth": 0,
              "ticks": ""
             }
            },
            "type": "scatterpolargl"
           }
          ],
          "scatterternary": [
           {
            "marker": {
             "colorbar": {
              "outlinewidth": 0,
              "ticks": ""
             }
            },
            "type": "scatterternary"
           }
          ],
          "surface": [
           {
            "colorbar": {
             "outlinewidth": 0,
             "ticks": ""
            },
            "colorscale": [
             [
              0,
              "#0d0887"
             ],
             [
              0.1111111111111111,
              "#46039f"
             ],
             [
              0.2222222222222222,
              "#7201a8"
             ],
             [
              0.3333333333333333,
              "#9c179e"
             ],
             [
              0.4444444444444444,
              "#bd3786"
             ],
             [
              0.5555555555555556,
              "#d8576b"
             ],
             [
              0.6666666666666666,
              "#ed7953"
             ],
             [
              0.7777777777777778,
              "#fb9f3a"
             ],
             [
              0.8888888888888888,
              "#fdca26"
             ],
             [
              1,
              "#f0f921"
             ]
            ],
            "type": "surface"
           }
          ],
          "table": [
           {
            "cells": {
             "fill": {
              "color": "#EBF0F8"
             },
             "line": {
              "color": "white"
             }
            },
            "header": {
             "fill": {
              "color": "#C8D4E3"
             },
             "line": {
              "color": "white"
             }
            },
            "type": "table"
           }
          ]
         },
         "layout": {
          "annotationdefaults": {
           "arrowcolor": "#2a3f5f",
           "arrowhead": 0,
           "arrowwidth": 1
          },
          "autotypenumbers": "strict",
          "coloraxis": {
           "colorbar": {
            "outlinewidth": 0,
            "ticks": ""
           }
          },
          "colorscale": {
           "diverging": [
            [
             0,
             "#8e0152"
            ],
            [
             0.1,
             "#c51b7d"
            ],
            [
             0.2,
             "#de77ae"
            ],
            [
             0.3,
             "#f1b6da"
            ],
            [
             0.4,
             "#fde0ef"
            ],
            [
             0.5,
             "#f7f7f7"
            ],
            [
             0.6,
             "#e6f5d0"
            ],
            [
             0.7,
             "#b8e186"
            ],
            [
             0.8,
             "#7fbc41"
            ],
            [
             0.9,
             "#4d9221"
            ],
            [
             1,
             "#276419"
            ]
           ],
           "sequential": [
            [
             0,
             "#0d0887"
            ],
            [
             0.1111111111111111,
             "#46039f"
            ],
            [
             0.2222222222222222,
             "#7201a8"
            ],
            [
             0.3333333333333333,
             "#9c179e"
            ],
            [
             0.4444444444444444,
             "#bd3786"
            ],
            [
             0.5555555555555556,
             "#d8576b"
            ],
            [
             0.6666666666666666,
             "#ed7953"
            ],
            [
             0.7777777777777778,
             "#fb9f3a"
            ],
            [
             0.8888888888888888,
             "#fdca26"
            ],
            [
             1,
             "#f0f921"
            ]
           ],
           "sequentialminus": [
            [
             0,
             "#0d0887"
            ],
            [
             0.1111111111111111,
             "#46039f"
            ],
            [
             0.2222222222222222,
             "#7201a8"
            ],
            [
             0.3333333333333333,
             "#9c179e"
            ],
            [
             0.4444444444444444,
             "#bd3786"
            ],
            [
             0.5555555555555556,
             "#d8576b"
            ],
            [
             0.6666666666666666,
             "#ed7953"
            ],
            [
             0.7777777777777778,
             "#fb9f3a"
            ],
            [
             0.8888888888888888,
             "#fdca26"
            ],
            [
             1,
             "#f0f921"
            ]
           ]
          },
          "colorway": [
           "#636efa",
           "#EF553B",
           "#00cc96",
           "#ab63fa",
           "#FFA15A",
           "#19d3f3",
           "#FF6692",
           "#B6E880",
           "#FF97FF",
           "#FECB52"
          ],
          "font": {
           "color": "#2a3f5f"
          },
          "geo": {
           "bgcolor": "white",
           "lakecolor": "white",
           "landcolor": "#E5ECF6",
           "showlakes": true,
           "showland": true,
           "subunitcolor": "white"
          },
          "hoverlabel": {
           "align": "left"
          },
          "hovermode": "closest",
          "mapbox": {
           "style": "light"
          },
          "paper_bgcolor": "white",
          "plot_bgcolor": "#E5ECF6",
          "polar": {
           "angularaxis": {
            "gridcolor": "white",
            "linecolor": "white",
            "ticks": ""
           },
           "bgcolor": "#E5ECF6",
           "radialaxis": {
            "gridcolor": "white",
            "linecolor": "white",
            "ticks": ""
           }
          },
          "scene": {
           "xaxis": {
            "backgroundcolor": "#E5ECF6",
            "gridcolor": "white",
            "gridwidth": 2,
            "linecolor": "white",
            "showbackground": true,
            "ticks": "",
            "zerolinecolor": "white"
           },
           "yaxis": {
            "backgroundcolor": "#E5ECF6",
            "gridcolor": "white",
            "gridwidth": 2,
            "linecolor": "white",
            "showbackground": true,
            "ticks": "",
            "zerolinecolor": "white"
           },
           "zaxis": {
            "backgroundcolor": "#E5ECF6",
            "gridcolor": "white",
            "gridwidth": 2,
            "linecolor": "white",
            "showbackground": true,
            "ticks": "",
            "zerolinecolor": "white"
           }
          },
          "shapedefaults": {
           "line": {
            "color": "#2a3f5f"
           }
          },
          "ternary": {
           "aaxis": {
            "gridcolor": "white",
            "linecolor": "white",
            "ticks": ""
           },
           "baxis": {
            "gridcolor": "white",
            "linecolor": "white",
            "ticks": ""
           },
           "bgcolor": "#E5ECF6",
           "caxis": {
            "gridcolor": "white",
            "linecolor": "white",
            "ticks": ""
           }
          },
          "title": {
           "x": 0.05
          },
          "xaxis": {
           "automargin": true,
           "gridcolor": "white",
           "linecolor": "white",
           "ticks": "",
           "title": {
            "standoff": 15
           },
           "zerolinecolor": "white",
           "zerolinewidth": 2
          },
          "yaxis": {
           "automargin": true,
           "gridcolor": "white",
           "linecolor": "white",
           "ticks": "",
           "title": {
            "standoff": 15
           },
           "zerolinecolor": "white",
           "zerolinewidth": 2
          }
         }
        },
        "xaxis": {
         "anchor": "y",
         "domain": [
          0,
          1
         ],
         "title": {
          "text": "gdp_per_capita"
         }
        },
        "yaxis": {
         "anchor": "x",
         "domain": [
          0,
          1
         ],
         "title": {
          "text": "co2"
         }
        }
       }
      }
     },
     "metadata": {},
     "output_type": "display_data"
    }
   ],
   "source": [
    "fig_1.show()"
   ]
  },
  {
   "cell_type": "code",
   "execution_count": 15,
   "metadata": {},
   "outputs": [],
   "source": [
    "emission_types=['coal_co2', 'oil_co2', 'gas_co2']"
   ]
  },
  {
   "cell_type": "code",
   "execution_count": 16,
   "metadata": {},
   "outputs": [],
   "source": [
    "%%mnn widget --type select emission_types --tab \"Emission\" --header \"Select Emission Source\" --var source --position -1 0 1\n",
    "source = emission_types[0]"
   ]
  },
  {
   "cell_type": "code",
   "execution_count": 17,
   "metadata": {},
   "outputs": [],
   "source": [
    "%%mnn widget --type plot --var fig_2  --tab \"Emission\" --header \"CO2 source by continent\"  --position -1 1 4\n",
    "\n",
    "df_2 = df[(df['year'] == year_slider) &  (df['country'].isin(continents))]\n",
    "\n",
    "fig_2 = px.bar(df_2, x='country' , y = source)"
   ]
  }
 ],
 "metadata": {
  "kernelspec": {
   "display_name": "manganite-env",
   "language": "python",
   "name": "python3"
  },
  "language_info": {
   "codemirror_mode": {
    "name": "ipython",
    "version": 3
   },
   "file_extension": ".py",
   "mimetype": "text/x-python",
   "name": "python",
   "nbconvert_exporter": "python",
   "pygments_lexer": "ipython3",
   "version": "3.11.4"
  },
  "orig_nbformat": 4
 },
 "nbformat": 4,
 "nbformat_minor": 2
}
