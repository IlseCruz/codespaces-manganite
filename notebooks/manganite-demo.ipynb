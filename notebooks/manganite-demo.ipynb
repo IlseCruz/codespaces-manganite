{
 "cells": [
  {
   "cell_type": "code",
   "execution_count": 26,
   "id": "f11fb0aa-9798-42c4-8045-89a17119a7b5",
   "metadata": {},
   "outputs": [
    {
     "name": "stdout",
     "output_type": "stream",
     "text": [
      "The manganite extension is already loaded. To reload it, use:\n",
      "  %reload_ext manganite\n"
     ]
    }
   ],
   "source": [
    "import manganite\n",
    "%load_ext manganite"
   ]
  },
  {
   "cell_type": "markdown",
   "id": "93cd20ee-490f-449e-8d26-dce9f1940993",
   "metadata": {},
   "source": [
    "# Widget Showcase\n",
    "\n",
    "This notebook presents all widget types available in Manganite. Feel free to copy their code and use it in your own dashboards.\n",
    "\n",
    "The `%%mnn widget` magic command has the following structure:\n",
    "\n",
    "```bash\n",
    "%%mnn widget --type TYPE [PARAMS] --tab TAB [--position ROW COL SPAN] --header HEADER --var VAR_NAME\n",
    "```\n",
    "\n",
    "where `TYPE` and optional `PARAMS` define the widget, `TAB`, `ROW`, `COL` and `SPAN` determine where to place it, and `HEADER` gives it a title above. `VAR_NAME` has to refer to an existing variable (can be defined in the same cell) of matching type (`bool` for a checkbox, `int` or `float` for a slider, etc.)\n",
    "\n",
    "`PARAMS` can take various forms, depending on widget type. Select boxes and radio buttons accept a variable holding their options (a collection of strings, can be any of `list`, `tuple`, `set`). Sliders take three numeric parameters, in the format of `MIN:MAX:STEP`."
   ]
  },
  {
   "cell_type": "code",
   "execution_count": 27,
   "id": "6f124879-338f-4da6-ac9c-ae6a0593d621",
   "metadata": {},
   "outputs": [],
   "source": [
    "import datetime\n",
    "import pandas as pd\n",
    "list_of_options = ['option a', 'option b', 'option c']"
   ]
  },
  {
   "cell_type": "code",
   "execution_count": 28,
   "id": "605179e0-d800-46a8-86ed-f23172d778c3",
   "metadata": {},
   "outputs": [],
   "source": [
    "%%mnn widget --type checkbox --tab \"Options\" --header \"Checkbox\" --var b_1\n",
    "b_1 = True"
   ]
  },
  {
   "cell_type": "code",
   "execution_count": 29,
   "id": "b10f338c-584b-4766-9ee3-268efadaf2f7",
   "metadata": {},
   "outputs": [],
   "source": [
    "%%mnn widget --type switch --tab \"Options\" --header \"Switch\" --var b_2\n",
    "b_2 = False"
   ]
  },
  {
   "cell_type": "code",
   "execution_count": 30,
   "id": "5cd14108-e3a2-4d3f-b319-a2fa908f6735",
   "metadata": {
    "editable": true,
    "slideshow": {
     "slide_type": ""
    },
    "tags": []
   },
   "outputs": [],
   "source": [
    "%%mnn widget --type select list_of_options --tab \"Options\" --header \"Select\" --var s\n",
    "s = list_of_options[0]"
   ]
  },
  {
   "cell_type": "code",
   "execution_count": 31,
   "id": "8ec0923b-8fda-418c-a2b7-a7d9d85cbd2c",
   "metadata": {},
   "outputs": [],
   "source": [
    "%%mnn widget --type radio list_of_options --tab \"Options\" --header \"Radio buttons\" --var r\n",
    "r = list_of_options[1]"
   ]
  },
  {
   "cell_type": "code",
   "execution_count": 32,
   "id": "aa3169ae-6060-45f6-ae92-f7d8869288a0",
   "metadata": {},
   "outputs": [],
   "source": [
    "%%mnn widget --type slider 0:100:1 --tab \"Numbers\" --header \"Int slider\" --var i\n",
    "i = 42"
   ]
  },
  {
   "cell_type": "code",
   "execution_count": 33,
   "id": "1fe24fc2-6db7-46e0-b5bf-7adf4978987a",
   "metadata": {},
   "outputs": [],
   "source": [
    "%%mnn widget --type text --tab \"Numbers\" --header \"Int input\" --var j\n",
    "j = -128"
   ]
  },
  {
   "cell_type": "code",
   "execution_count": 34,
   "id": "94e20a08-e77d-4d15-a299-e69dc1b4a29c",
   "metadata": {},
   "outputs": [],
   "source": [
    "%%mnn widget --type slider 2:4:0.01 --tab \"Numbers\" --header \"Float slider\" --var f\n",
    "f = 3.14"
   ]
  },
  {
   "cell_type": "code",
   "execution_count": 35,
   "id": "892d031c-caad-4430-af09-10e5269368ad",
   "metadata": {
    "editable": true,
    "slideshow": {
     "slide_type": ""
    },
    "tags": []
   },
   "outputs": [],
   "source": [
    "%%mnn widget --type text --tab \"Numbers\" --header \"Float input\" --var g\n",
    "g = 9.99"
   ]
  },
  {
   "cell_type": "code",
   "execution_count": 36,
   "id": "cd7001ff-f6dc-4286-9794-d3666dec0a90",
   "metadata": {},
   "outputs": [],
   "source": [
    "%%mnn widget --type date --tab \"Dates\" --header \"Date\" --var d\n",
    "d = datetime.date.today()"
   ]
  },
  {
   "cell_type": "code",
   "execution_count": 37,
   "id": "20734b96-2c9c-46d9-8547-d717ce8f5c13",
   "metadata": {},
   "outputs": [],
   "source": [
    "%%mnn widget --type datetime --tab \"Dates\" --header \"Datetime\" --var dt\n",
    "dt = datetime.datetime.now()"
   ]
  },
  {
   "cell_type": "code",
   "execution_count": 38,
   "id": "fffdb0a9-8115-4675-952d-5983545dc478",
   "metadata": {},
   "outputs": [],
   "source": [
    "%%mnn widget --type table --tab \"Pandas\" --position 0 0 6 --header \"DataFrame\" --var df\n",
    "df = pd.read_csv('notebooks/data/supplier-sourcing.csv', index_col=0)"
   ]
  },
  {
   "cell_type": "code",
   "execution_count": 39,
   "id": "9e7adf12",
   "metadata": {},
   "outputs": [
    {
     "data": {
      "text/html": [
       "<div>\n",
       "<style scoped>\n",
       "    .dataframe tbody tr th:only-of-type {\n",
       "        vertical-align: middle;\n",
       "    }\n",
       "\n",
       "    .dataframe tbody tr th {\n",
       "        vertical-align: top;\n",
       "    }\n",
       "\n",
       "    .dataframe thead th {\n",
       "        text-align: right;\n",
       "    }\n",
       "</style>\n",
       "<table border=\"1\" class=\"dataframe\">\n",
       "  <thead>\n",
       "    <tr style=\"text-align: right;\">\n",
       "      <th></th>\n",
       "      <th>Price ($/mt)</th>\n",
       "      <th>In Union? (0/1)</th>\n",
       "      <th>Rail Transport? (0/1)</th>\n",
       "      <th>Volatility (%)</th>\n",
       "      <th>Capacity (mt/yr)</th>\n",
       "    </tr>\n",
       "    <tr>\n",
       "      <th>Supplier</th>\n",
       "      <th></th>\n",
       "      <th></th>\n",
       "      <th></th>\n",
       "      <th></th>\n",
       "      <th></th>\n",
       "    </tr>\n",
       "  </thead>\n",
       "  <tbody>\n",
       "    <tr>\n",
       "      <th>Ashley</th>\n",
       "      <td>49500</td>\n",
       "      <td>1</td>\n",
       "      <td>1</td>\n",
       "      <td>0.15</td>\n",
       "      <td>300</td>\n",
       "    </tr>\n",
       "    <tr>\n",
       "      <th>Bedford</th>\n",
       "      <td>50000</td>\n",
       "      <td>1</td>\n",
       "      <td>0</td>\n",
       "      <td>0.16</td>\n",
       "      <td>600</td>\n",
       "    </tr>\n",
       "    <tr>\n",
       "      <th>Consol</th>\n",
       "      <td>61000</td>\n",
       "      <td>0</td>\n",
       "      <td>1</td>\n",
       "      <td>0.18</td>\n",
       "      <td>510</td>\n",
       "    </tr>\n",
       "    <tr>\n",
       "      <th>Dunby</th>\n",
       "      <td>63500</td>\n",
       "      <td>1</td>\n",
       "      <td>0</td>\n",
       "      <td>0.20</td>\n",
       "      <td>655</td>\n",
       "    </tr>\n",
       "    <tr>\n",
       "      <th>Earlam</th>\n",
       "      <td>66500</td>\n",
       "      <td>0</td>\n",
       "      <td>0</td>\n",
       "      <td>0.21</td>\n",
       "      <td>575</td>\n",
       "    </tr>\n",
       "    <tr>\n",
       "      <th>Florence</th>\n",
       "      <td>71000</td>\n",
       "      <td>1</td>\n",
       "      <td>0</td>\n",
       "      <td>0.22</td>\n",
       "      <td>680</td>\n",
       "    </tr>\n",
       "    <tr>\n",
       "      <th>Gaston</th>\n",
       "      <td>72500</td>\n",
       "      <td>0</td>\n",
       "      <td>1</td>\n",
       "      <td>0.23</td>\n",
       "      <td>450</td>\n",
       "    </tr>\n",
       "    <tr>\n",
       "      <th>Hopt</th>\n",
       "      <td>80000</td>\n",
       "      <td>0</td>\n",
       "      <td>1</td>\n",
       "      <td>0.25</td>\n",
       "      <td>490</td>\n",
       "    </tr>\n",
       "  </tbody>\n",
       "</table>\n",
       "</div>"
      ],
      "text/plain": [
       "          Price ($/mt)  In Union? (0/1)  Rail Transport? (0/1)  \\\n",
       "Supplier                                                         \n",
       "Ashley           49500                1                      1   \n",
       "Bedford          50000                1                      0   \n",
       "Consol           61000                0                      1   \n",
       "Dunby            63500                1                      0   \n",
       "Earlam           66500                0                      0   \n",
       "Florence         71000                1                      0   \n",
       "Gaston           72500                0                      1   \n",
       "Hopt             80000                0                      1   \n",
       "\n",
       "          Volatility (%)  Capacity (mt/yr)  \n",
       "Supplier                                    \n",
       "Ashley              0.15               300  \n",
       "Bedford             0.16               600  \n",
       "Consol              0.18               510  \n",
       "Dunby               0.20               655  \n",
       "Earlam              0.21               575  \n",
       "Florence            0.22               680  \n",
       "Gaston              0.23               450  \n",
       "Hopt                0.25               490  "
      ]
     },
     "execution_count": 39,
     "metadata": {},
     "output_type": "execute_result"
    }
   ],
   "source": [
    "df"
   ]
  },
  {
   "cell_type": "code",
   "execution_count": null,
   "id": "7cd3e714",
   "metadata": {},
   "outputs": [],
   "source": []
  }
 ],
 "metadata": {
  "kernelspec": {
   "display_name": "Python 3 (ipykernel)",
   "language": "python",
   "name": "python3"
  },
  "language_info": {
   "codemirror_mode": {
    "name": "ipython",
    "version": 3
   },
   "file_extension": ".py",
   "mimetype": "text/x-python",
   "name": "python",
   "nbconvert_exporter": "python",
   "pygments_lexer": "ipython3",
   "version": "3.11.4"
  }
 },
 "nbformat": 4,
 "nbformat_minor": 5
}
