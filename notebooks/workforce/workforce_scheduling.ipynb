{
 "cells": [
  {
   "cell_type": "code",
   "execution_count": 22,
   "metadata": {},
   "outputs": [
    {
     "data": {
      "application/javascript": "(function(root) {\n  function now() {\n    return new Date();\n  }\n\n  var force = true;\n  var py_version = '3.2.2'.replace('rc', '-rc.').replace('.dev', '-dev.');\n  var is_dev = py_version.indexOf(\"+\") !== -1 || py_version.indexOf(\"-\") !== -1;\n  var reloading = false;\n  var Bokeh = root.Bokeh;\n  var bokeh_loaded = Bokeh != null && (Bokeh.version === py_version || (Bokeh.versions !== undefined && Bokeh.versions.has(py_version)));\n\n  if (typeof (root._bokeh_timeout) === \"undefined\" || force) {\n    root._bokeh_timeout = Date.now() + 5000;\n    root._bokeh_failed_load = false;\n  }\n\n  function run_callbacks() {\n    try {\n      root._bokeh_onload_callbacks.forEach(function(callback) {\n        if (callback != null)\n          callback();\n      });\n    } finally {\n      delete root._bokeh_onload_callbacks;\n    }\n    console.debug(\"Bokeh: all callbacks have finished\");\n  }\n\n  function load_libs(css_urls, js_urls, js_modules, js_exports, callback) {\n    if (css_urls == null) css_urls = [];\n    if (js_urls == null) js_urls = [];\n    if (js_modules == null) js_modules = [];\n    if (js_exports == null) js_exports = {};\n\n    root._bokeh_onload_callbacks.push(callback);\n\n    if (root._bokeh_is_loading > 0) {\n      console.debug(\"Bokeh: BokehJS is being loaded, scheduling callback at\", now());\n      return null;\n    }\n    if (js_urls.length === 0 && js_modules.length === 0 && Object.keys(js_exports).length === 0) {\n      run_callbacks();\n      return null;\n    }\n    if (!reloading) {\n      console.debug(\"Bokeh: BokehJS not loaded, scheduling load and callback at\", now());\n    }\n\n    function on_load() {\n      root._bokeh_is_loading--;\n      if (root._bokeh_is_loading === 0) {\n        console.debug(\"Bokeh: all BokehJS libraries/stylesheets loaded\");\n        run_callbacks()\n      }\n    }\n    window._bokeh_on_load = on_load\n\n    function on_error() {\n      console.error(\"failed to load \" + url);\n    }\n\n    var skip = [];\n    if (window.requirejs) {\n      window.requirejs.config({'packages': {}, 'paths': {'xtermjs': 'https://cdn.jsdelivr.net/npm/xterm@4.14.1/lib/xterm', 'xtermjsweblinks': 'https://cdn.jsdelivr.net/npm/xterm-addon-web-links@0.4.0/lib/xterm-addon-web-links', 'tabulator': 'https://cdn.jsdelivr.net/npm/tabulator-tables@5.5.0/dist/js/tabulator', 'moment': 'https://cdn.jsdelivr.net/npm/luxon/build/global/luxon.min', 'plotly': 'https://cdn.plot.ly/plotly-2.18.0.min', 'mathjax': '//cdnjs.cloudflare.com/ajax/libs/mathjax/2.7.5/MathJax.js?config=TeX-AMS_HTML', 'jspanel': 'https://cdn.jsdelivr.net/npm/jspanel4@4.12.0/dist/jspanel', 'jspanel-modal': 'https://cdn.jsdelivr.net/npm/jspanel4@4.12.0/dist/extensions/modal/jspanel.modal', 'jspanel-tooltip': 'https://cdn.jsdelivr.net/npm/jspanel4@4.12.0/dist/extensions/tooltip/jspanel.tooltip', 'jspanel-hint': 'https://cdn.jsdelivr.net/npm/jspanel4@4.12.0/dist/extensions/hint/jspanel.hint', 'jspanel-layout': 'https://cdn.jsdelivr.net/npm/jspanel4@4.12.0/dist/extensions/layout/jspanel.layout', 'jspanel-contextmenu': 'https://cdn.jsdelivr.net/npm/jspanel4@4.12.0/dist/extensions/contextmenu/jspanel.contextmenu', 'jspanel-dock': 'https://cdn.jsdelivr.net/npm/jspanel4@4.12.0/dist/extensions/dock/jspanel.dock', 'gridstack': 'https://cdn.jsdelivr.net/npm/gridstack@7.2.3/dist/gridstack-all', 'notyf': 'https://cdn.jsdelivr.net/npm/notyf@3/notyf.min'}, 'shim': {'xtermjsweblinks': {'exports': 'WebLinksAddon', 'deps': ['xtermjs']}, 'mathjax': {'exports': 'MathJax'}, 'jspanel': {'exports': 'jsPanel'}, 'gridstack': {'exports': 'GridStack'}}});\n      require([\"xtermjs\"], function(xtermjs) {\n\twindow.xtermjs = xtermjs\n\ton_load()\n      })\n      require([\"xtermjsweblinks\"], function(WebLinksAddon) {\n\twindow.WebLinksAddon = WebLinksAddon\n\ton_load()\n      })\n      require([\"tabulator\"], function(Tabulator) {\n\twindow.Tabulator = Tabulator\n\ton_load()\n      })\n      require([\"moment\"], function(moment) {\n\twindow.moment = moment\n\ton_load()\n      })\n      require([\"plotly\"], function(Plotly) {\n\twindow.Plotly = Plotly\n\ton_load()\n      })\n      require([\"mathjax\"], function() {\n\ton_load()\n      })\n      require([\"jspanel\"], function(jsPanel) {\n\twindow.jsPanel = jsPanel\n\ton_load()\n      })\n      require([\"jspanel-modal\"], function() {\n\ton_load()\n      })\n      require([\"jspanel-tooltip\"], function() {\n\ton_load()\n      })\n      require([\"jspanel-hint\"], function() {\n\ton_load()\n      })\n      require([\"jspanel-layout\"], function() {\n\ton_load()\n      })\n      require([\"jspanel-contextmenu\"], function() {\n\ton_load()\n      })\n      require([\"jspanel-dock\"], function() {\n\ton_load()\n      })\n      require([\"gridstack\"], function(GridStack) {\n\twindow.GridStack = GridStack\n\ton_load()\n      })\n      require([\"notyf\"], function() {\n\ton_load()\n      })\n      root._bokeh_is_loading = css_urls.length + 15;\n    } else {\n      root._bokeh_is_loading = css_urls.length + js_urls.length + js_modules.length + Object.keys(js_exports).length;\n    }\n\n    var existing_stylesheets = []\n    var links = document.getElementsByTagName('link')\n    for (var i = 0; i < links.length; i++) {\n      var link = links[i]\n      if (link.href != null) {\n\texisting_stylesheets.push(link.href)\n      }\n    }\n    for (var i = 0; i < css_urls.length; i++) {\n      var url = css_urls[i];\n      if (existing_stylesheets.indexOf(url) !== -1) {\n\ton_load()\n\tcontinue;\n      }\n      const element = document.createElement(\"link\");\n      element.onload = on_load;\n      element.onerror = on_error;\n      element.rel = \"stylesheet\";\n      element.type = \"text/css\";\n      element.href = url;\n      console.debug(\"Bokeh: injecting link tag for BokehJS stylesheet: \", url);\n      document.body.appendChild(element);\n    }    if (((window['xtermjs'] !== undefined) && (!(window['xtermjs'] instanceof HTMLElement))) || window.requirejs) {\n      var urls = ['https://cdn.holoviz.org/panel/1.2.1/dist/bundled/terminal/xterm@4.14.1/lib/xterm.js', 'https://cdn.holoviz.org/panel/1.2.1/dist/bundled/terminal/xterm-addon-web-links@0.4.0/lib/xterm-addon-web-links.js'];\n      for (var i = 0; i < urls.length; i++) {\n        skip.push(urls[i])\n      }\n    }    if (((window['Tabulator'] !== undefined) && (!(window['Tabulator'] instanceof HTMLElement))) || window.requirejs) {\n      var urls = ['https://cdn.holoviz.org/panel/1.2.1/dist/bundled/datatabulator/tabulator-tables@5.5.0/dist/js/tabulator.js'];\n      for (var i = 0; i < urls.length; i++) {\n        skip.push(urls[i])\n      }\n    }    if (((window['moment'] !== undefined) && (!(window['moment'] instanceof HTMLElement))) || window.requirejs) {\n      var urls = ['https://cdn.holoviz.org/panel/1.2.1/dist/bundled/datatabulator/luxon/build/global/luxon.min.js'];\n      for (var i = 0; i < urls.length; i++) {\n        skip.push(urls[i])\n      }\n    }    if (((window['Plotly'] !== undefined) && (!(window['Plotly'] instanceof HTMLElement))) || window.requirejs) {\n      var urls = ['https://cdn.holoviz.org/panel/1.2.1/dist/bundled/plotlyplot/plotly-2.18.0.min.js'];\n      for (var i = 0; i < urls.length; i++) {\n        skip.push(urls[i])\n      }\n    }    if (((window['MathJax'] !== undefined) && (!(window['MathJax'] instanceof HTMLElement))) || window.requirejs) {\n      var urls = ['https://cdnjs.cloudflare.com/ajax/libs/mathjax/2.7.5/MathJax.js?config=TeX-MML-AM_CHTML'];\n      for (var i = 0; i < urls.length; i++) {\n        skip.push(urls[i])\n      }\n    }    if (((window['jsPanel'] !== undefined) && (!(window['jsPanel'] instanceof HTMLElement))) || window.requirejs) {\n      var urls = ['https://cdn.holoviz.org/panel/1.2.1/dist/bundled/floatpanel/jspanel4@4.12.0/dist/jspanel.js', 'https://cdn.holoviz.org/panel/1.2.1/dist/bundled/floatpanel/jspanel4@4.12.0/dist/extensions/modal/jspanel.modal.js', 'https://cdn.holoviz.org/panel/1.2.1/dist/bundled/floatpanel/jspanel4@4.12.0/dist/extensions/tooltip/jspanel.tooltip.js', 'https://cdn.holoviz.org/panel/1.2.1/dist/bundled/floatpanel/jspanel4@4.12.0/dist/extensions/hint/jspanel.hint.js', 'https://cdn.holoviz.org/panel/1.2.1/dist/bundled/floatpanel/jspanel4@4.12.0/dist/extensions/layout/jspanel.layout.js', 'https://cdn.holoviz.org/panel/1.2.1/dist/bundled/floatpanel/jspanel4@4.12.0/dist/extensions/contextmenu/jspanel.contextmenu.js', 'https://cdn.holoviz.org/panel/1.2.1/dist/bundled/floatpanel/jspanel4@4.12.0/dist/extensions/dock/jspanel.dock.js'];\n      for (var i = 0; i < urls.length; i++) {\n        skip.push(urls[i])\n      }\n    }    if (((window['GridStack'] !== undefined) && (!(window['GridStack'] instanceof HTMLElement))) || window.requirejs) {\n      var urls = ['https://cdn.holoviz.org/panel/1.2.1/dist/bundled/gridstack/gridstack@7.2.3/dist/gridstack-all.js'];\n      for (var i = 0; i < urls.length; i++) {\n        skip.push(urls[i])\n      }\n    }    if (((window['Notyf'] !== undefined) && (!(window['Notyf'] instanceof HTMLElement))) || window.requirejs) {\n      var urls = ['https://cdn.holoviz.org/panel/1.2.1/dist/bundled/notificationarea/notyf@3/notyf.min.js'];\n      for (var i = 0; i < urls.length; i++) {\n        skip.push(urls[i])\n      }\n    }    var existing_scripts = []\n    var scripts = document.getElementsByTagName('script')\n    for (var i = 0; i < scripts.length; i++) {\n      var script = scripts[i]\n      if (script.src != null) {\n\texisting_scripts.push(script.src)\n      }\n    }\n    for (var i = 0; i < js_urls.length; i++) {\n      var url = js_urls[i];\n      if (skip.indexOf(url) !== -1 || existing_scripts.indexOf(url) !== -1) {\n\tif (!window.requirejs) {\n\t  on_load();\n\t}\n\tcontinue;\n      }\n      var element = document.createElement('script');\n      element.onload = on_load;\n      element.onerror = on_error;\n      element.async = false;\n      element.src = url;\n      console.debug(\"Bokeh: injecting script tag for BokehJS library: \", url);\n      document.head.appendChild(element);\n    }\n    for (var i = 0; i < js_modules.length; i++) {\n      var url = js_modules[i];\n      if (skip.indexOf(url) !== -1 || existing_scripts.indexOf(url) !== -1) {\n\tif (!window.requirejs) {\n\t  on_load();\n\t}\n\tcontinue;\n      }\n      var element = document.createElement('script');\n      element.onload = on_load;\n      element.onerror = on_error;\n      element.async = false;\n      element.src = url;\n      element.type = \"module\";\n      console.debug(\"Bokeh: injecting script tag for BokehJS library: \", url);\n      document.head.appendChild(element);\n    }\n    for (const name in js_exports) {\n      var url = js_exports[name];\n      if (skip.indexOf(url) >= 0 || root[name] != null) {\n\tif (!window.requirejs) {\n\t  on_load();\n\t}\n\tcontinue;\n      }\n      var element = document.createElement('script');\n      element.onerror = on_error;\n      element.async = false;\n      element.type = \"module\";\n      console.debug(\"Bokeh: injecting script tag for BokehJS library: \", url);\n      element.textContent = `\n      import ${name} from \"${url}\"\n      window.${name} = ${name}\n      window._bokeh_on_load()\n      `\n      document.head.appendChild(element);\n    }\n    if (!js_urls.length && !js_modules.length) {\n      on_load()\n    }\n  };\n\n  function inject_raw_css(css) {\n    const element = document.createElement(\"style\");\n    element.appendChild(document.createTextNode(css));\n    document.body.appendChild(element);\n  }\n\n  var js_urls = [\"https://cdnjs.cloudflare.com/ajax/libs/mathjax/2.7.5/MathJax.js?config=TeX-MML-AM_CHTML\", \"https://cdn.holoviz.org/panel/1.2.1/dist/bundled/jquery/jquery.slim.min.js\", \"https://cdn.holoviz.org/panel/1.2.1/dist/bundled/plotlyplot/plotly-2.18.0.min.js\", \"https://cdn.holoviz.org/panel/1.2.1/dist/bundled/datatabulator/tabulator-tables@5.5.0/dist/js/tabulator.js\", \"https://cdn.holoviz.org/panel/1.2.1/dist/bundled/datatabulator/luxon/build/global/luxon.min.js\", \"https://cdn.holoviz.org/panel/1.2.1/dist/bundled/terminal/xterm@4.14.1/lib/xterm.js\", \"https://cdn.holoviz.org/panel/1.2.1/dist/bundled/terminal/xterm-addon-web-links@0.4.0/lib/xterm-addon-web-links.js\", \"https://cdn.bokeh.org/bokeh/release/bokeh-3.2.2.min.js\", \"https://cdn.bokeh.org/bokeh/release/bokeh-gl-3.2.2.min.js\", \"https://cdn.bokeh.org/bokeh/release/bokeh-widgets-3.2.2.min.js\", \"https://cdn.bokeh.org/bokeh/release/bokeh-tables-3.2.2.min.js\", \"https://cdn.holoviz.org/panel/1.2.1/dist/bundled/gridstack/gridstack@7.2.3/dist/gridstack-all.js\", \"https://cdn.holoviz.org/panel/1.2.1/dist/panel.min.js\"];\n  var js_modules = [];\n  var js_exports = {};\n  var css_urls = [\"https://cdn.holoviz.org/panel/1.2.1/dist/bundled/datatabulator/tabulator-tables@5.5.0/dist/css/tabulator_simple.min.css\", \"https://cdn.holoviz.org/panel/1.2.1/dist/bundled/terminal/xterm@4.11.0/css/xterm.css\", \"https://cdn.holoviz.org/panel/1.2.1/dist/bundled/gridstack/gridstack@7.2.3/dist/gridstack.min.css\", \"https://cdn.holoviz.org/panel/1.2.1/dist/bundled/gridstack/gridstack@7.2.3/dist/gridstack-extra.min.css\"];\n  var inline_js = [    function(Bokeh) {\n      inject_raw_css(\".tabulator{position:relative;border:1px solid #999;font-size:14px;text-align:left;overflow:hidden;-webkit-transform:translateZ(0);-moz-transform:translateZ(0);-ms-transform:translateZ(0);-o-transform:translateZ(0);transform:translateZ(0)}.tabulator[tabulator-layout=fitDataFill] .tabulator-tableholder .tabulator-table{min-width:100%}.tabulator[tabulator-layout=fitDataTable]{display:inline-block}.tabulator.tabulator-block-select{user-select:none}.tabulator .tabulator-header{position:relative;box-sizing:border-box;width:100%;border-bottom:1px solid #999;background-color:#fff;color:#555;font-weight:700;white-space:nowrap;overflow:hidden;-moz-user-select:none;-khtml-user-select:none;-webkit-user-select:none;-o-user-select:none}.tabulator .tabulator-header.tabulator-header-hidden{display:none}.tabulator .tabulator-header .tabulator-header-contents{position:relative;overflow:hidden}.tabulator .tabulator-header .tabulator-header-contents .tabulator-headers{display:inline-block}.tabulator .tabulator-header .tabulator-col{display:inline-flex;position:relative;box-sizing:border-box;flex-direction:column;justify-content:flex-start;border-right:1px solid #ddd;background:#fff;text-align:left;vertical-align:bottom;overflow:hidden}.tabulator .tabulator-header .tabulator-col.tabulator-moving{position:absolute;border:1px solid #999;background:#e6e6e6;pointer-events:none}.tabulator .tabulator-header .tabulator-col .tabulator-col-content{box-sizing:border-box;position:relative;padding:4px}.tabulator .tabulator-header .tabulator-col .tabulator-col-content .tabulator-header-popup-button{padding:0 8px}.tabulator .tabulator-header .tabulator-col .tabulator-col-content .tabulator-header-popup-button:hover{cursor:pointer;opacity:.6}.tabulator .tabulator-header .tabulator-col .tabulator-col-content .tabulator-col-title-holder{position:relative}.tabulator .tabulator-header .tabulator-col .tabulator-col-content .tabulator-col-title{box-sizing:border-box;width:100%;white-space:nowrap;overflow:hidden;text-overflow:ellipsis;vertical-align:bottom}.tabulator .tabulator-header .tabulator-col .tabulator-col-content .tabulator-col-title.tabulator-col-title-wrap{white-space:normal;text-overflow:clip}.tabulator .tabulator-header .tabulator-col .tabulator-col-content .tabulator-col-title .tabulator-title-editor{box-sizing:border-box;width:100%;border:1px solid #999;padding:1px;background:#fff}.tabulator .tabulator-header .tabulator-col .tabulator-col-content .tabulator-col-title .tabulator-header-popup-button+.tabulator-title-editor{width:calc(100% - 22px)}.tabulator .tabulator-header .tabulator-col .tabulator-col-content .tabulator-col-sorter{display:flex;align-items:center;position:absolute;top:0;bottom:0;right:4px}.tabulator .tabulator-header .tabulator-col .tabulator-col-content .tabulator-col-sorter .tabulator-arrow{width:0;height:0;border-left:6px solid transparent;border-right:6px solid transparent;border-bottom:6px solid #bbb}.tabulator .tabulator-header .tabulator-col.tabulator-col-group .tabulator-col-group-cols{position:relative;display:flex;border-top:1px solid #ddd;overflow:hidden;margin-right:-1px}.tabulator .tabulator-header .tabulator-col .tabulator-header-filter{position:relative;box-sizing:border-box;margin-top:2px;width:100%;text-align:center}.tabulator .tabulator-header .tabulator-col .tabulator-header-filter textarea{height:auto!important}.tabulator .tabulator-header .tabulator-col .tabulator-header-filter svg{margin-top:3px}.tabulator .tabulator-header .tabulator-col .tabulator-header-filter input::-ms-clear{width:0;height:0}.tabulator .tabulator-header .tabulator-col.tabulator-sortable .tabulator-col-title{padding-right:25px}@media (hover:hover) and (pointer:fine){.tabulator .tabulator-header .tabulator-col.tabulator-sortable.tabulator-col-sorter-element:hover{cursor:pointer;background-color:#e6e6e6}}.tabulator .tabulator-header .tabulator-col.tabulator-sortable[aria-sort=none] .tabulator-col-content .tabulator-col-sorter{color:#bbb}@media (hover:hover) and (pointer:fine){.tabulator .tabulator-header .tabulator-col.tabulator-sortable[aria-sort=none] .tabulator-col-content .tabulator-col-sorter.tabulator-col-sorter-element .tabulator-arrow:hover{cursor:pointer;border-bottom:6px solid #555}}.tabulator .tabulator-header .tabulator-col.tabulator-sortable[aria-sort=none] .tabulator-col-content .tabulator-col-sorter .tabulator-arrow{border-top:none;border-bottom:6px solid #bbb}.tabulator .tabulator-header .tabulator-col.tabulator-sortable[aria-sort=ascending] .tabulator-col-content .tabulator-col-sorter{color:#666}@media (hover:hover) and (pointer:fine){.tabulator .tabulator-header .tabulator-col.tabulator-sortable[aria-sort=ascending] .tabulator-col-content .tabulator-col-sorter.tabulator-col-sorter-element .tabulator-arrow:hover{cursor:pointer;border-bottom:6px solid #555}}.tabulator .tabulator-header .tabulator-col.tabulator-sortable[aria-sort=ascending] .tabulator-col-content .tabulator-col-sorter .tabulator-arrow{border-top:none;border-bottom:6px solid #666}.tabulator .tabulator-header .tabulator-col.tabulator-sortable[aria-sort=descending] .tabulator-col-content .tabulator-col-sorter{color:#666}@media (hover:hover) and (pointer:fine){.tabulator .tabulator-header .tabulator-col.tabulator-sortable[aria-sort=descending] .tabulator-col-content .tabulator-col-sorter.tabulator-col-sorter-element .tabulator-arrow:hover{cursor:pointer;border-top:6px solid #555}}.tabulator .tabulator-header .tabulator-col.tabulator-sortable[aria-sort=descending] .tabulator-col-content .tabulator-col-sorter .tabulator-arrow{border-bottom:none;border-top:6px solid #666;color:#666}.tabulator .tabulator-header .tabulator-col.tabulator-col-vertical .tabulator-col-content .tabulator-col-title{writing-mode:vertical-rl;text-orientation:mixed;display:flex;align-items:center;justify-content:center}.tabulator .tabulator-header .tabulator-col.tabulator-col-vertical.tabulator-col-vertical-flip .tabulator-col-title{transform:rotate(180deg)}.tabulator .tabulator-header .tabulator-col.tabulator-col-vertical.tabulator-sortable .tabulator-col-title{padding-right:0;padding-top:20px}.tabulator .tabulator-header .tabulator-col.tabulator-col-vertical.tabulator-sortable.tabulator-col-vertical-flip .tabulator-col-title{padding-right:0;padding-bottom:20px}.tabulator .tabulator-header .tabulator-col.tabulator-col-vertical.tabulator-sortable .tabulator-col-sorter{justify-content:center;left:0;right:0;top:4px;bottom:auto}.tabulator .tabulator-header .tabulator-frozen{position:sticky;left:0;z-index:10}.tabulator .tabulator-header .tabulator-frozen.tabulator-frozen-left{border-right:2px solid #ddd}.tabulator .tabulator-header .tabulator-frozen.tabulator-frozen-right{border-left:2px solid #ddd}.tabulator .tabulator-header .tabulator-calcs-holder{box-sizing:border-box;background:#fff!important;border-top:1px solid #ddd;border-bottom:1px solid #ddd}.tabulator .tabulator-header .tabulator-calcs-holder .tabulator-row{background:#fff!important}.tabulator .tabulator-header .tabulator-calcs-holder .tabulator-row .tabulator-col-resize-handle,.tabulator .tabulator-header .tabulator-frozen-rows-holder:empty{display:none}.tabulator .tabulator-tableholder{position:relative;width:100%;white-space:nowrap;overflow:auto;-webkit-overflow-scrolling:touch}.tabulator .tabulator-tableholder:focus{outline:none}.tabulator .tabulator-tableholder .tabulator-placeholder{box-sizing:border-box;display:flex;align-items:center;justify-content:center;width:100%}.tabulator .tabulator-tableholder .tabulator-placeholder[tabulator-render-mode=virtual]{min-height:100%;min-width:100%}.tabulator .tabulator-tableholder .tabulator-placeholder .tabulator-placeholder-contents{display:inline-block;text-align:center;padding:10px;color:#ccc;font-weight:700;font-size:20px;white-space:normal}.tabulator .tabulator-tableholder .tabulator-table{position:relative;display:inline-block;background-color:#fff;white-space:nowrap;overflow:visible;color:#333}.tabulator .tabulator-tableholder .tabulator-table .tabulator-row.tabulator-calcs{font-weight:700;background:#f2f2f2!important}.tabulator .tabulator-tableholder .tabulator-table .tabulator-row.tabulator-calcs.tabulator-calcs-top{border-bottom:2px solid #ddd}.tabulator .tabulator-tableholder .tabulator-table .tabulator-row.tabulator-calcs.tabulator-calcs-bottom{border-top:2px solid #ddd}.tabulator .tabulator-footer{border-top:1px solid #999;background-color:#fff;color:#555;font-weight:700;white-space:nowrap;user-select:none;-moz-user-select:none;-khtml-user-select:none;-webkit-user-select:none;-o-user-select:none}.tabulator .tabulator-footer .tabulator-footer-contents{display:flex;flex-direction:row;align-items:center;justify-content:space-between;padding:5px 10px}.tabulator .tabulator-footer .tabulator-footer-contents:empty{display:none}.tabulator .tabulator-footer .tabulator-calcs-holder{box-sizing:border-box;width:100%;text-align:left;background:#fff!important;border-bottom:1px solid #ddd;border-top:1px solid #ddd;overflow:hidden}.tabulator .tabulator-footer .tabulator-calcs-holder .tabulator-row{display:inline-block;background:#fff!important}.tabulator .tabulator-footer .tabulator-calcs-holder .tabulator-row .tabulator-col-resize-handle{display:none}.tabulator .tabulator-footer .tabulator-calcs-holder:only-child{margin-bottom:-5px;border-bottom:none}.tabulator .tabulator-footer>*+.tabulator-page-counter{margin-left:10px}.tabulator .tabulator-footer .tabulator-page-counter{font-weight:400}.tabulator .tabulator-footer .tabulator-paginator{flex:1;text-align:right;color:#555;font-family:inherit;font-weight:inherit;font-size:inherit}.tabulator .tabulator-footer .tabulator-page-size{display:inline-block;margin:0 5px;padding:2px 5px;border:1px solid #aaa;border-radius:3px}.tabulator .tabulator-footer .tabulator-pages{margin:0 7px}.tabulator .tabulator-footer .tabulator-page{display:inline-block;margin:0 2px;padding:2px 5px;border:1px solid #aaa;border-radius:3px;background:hsla(0,0%,100%,.2)}.tabulator .tabulator-footer .tabulator-page.active{color:#d00}.tabulator .tabulator-footer .tabulator-page:disabled{opacity:.5}@media (hover:hover) and (pointer:fine){.tabulator .tabulator-footer .tabulator-page:not(.disabled):hover{cursor:pointer;background:rgba(0,0,0,.2);color:#fff}}.tabulator .tabulator-col-resize-handle{position:relative;display:inline-block;width:6px;margin-left:-3px;margin-right:-3px;z-index:10;vertical-align:middle}@media (hover:hover) and (pointer:fine){.tabulator .tabulator-col-resize-handle:hover{cursor:ew-resize}}.tabulator .tabulator-col-resize-handle:last-of-type{width:3px;margin-right:0}.tabulator .tabulator-alert{position:absolute;display:flex;align-items:center;top:0;left:0;z-index:100;height:100%;width:100%;background:rgba(0,0,0,.4);text-align:center}.tabulator .tabulator-alert .tabulator-alert-msg{display:inline-block;margin:0 auto;padding:10px 20px;border-radius:10px;background:#fff;font-weight:700;font-size:16px}.tabulator .tabulator-alert .tabulator-alert-msg.tabulator-alert-state-msg{border:4px solid #333;color:#000}.tabulator .tabulator-alert .tabulator-alert-msg.tabulator-alert-state-error{border:4px solid #d00;color:#590000}.tabulator-row{position:relative;box-sizing:border-box;min-height:22px}.tabulator-row,.tabulator-row.tabulator-row-even{background-color:#fff}@media (hover:hover) and (pointer:fine){.tabulator-row.tabulator-selectable:hover{background-color:#bbb;cursor:pointer}}.tabulator-row.tabulator-selected{background-color:#9abcea}@media (hover:hover) and (pointer:fine){.tabulator-row.tabulator-selected:hover{background-color:#769bcc;cursor:pointer}}.tabulator-row.tabulator-row-moving{border:1px solid #000;background:#fff}.tabulator-row.tabulator-moving{position:absolute;border-top:1px solid #ddd;border-bottom:1px solid #ddd;pointer-events:none;z-index:15}.tabulator-row .tabulator-row-resize-handle{position:absolute;right:0;bottom:0;left:0;height:5px}.tabulator-row .tabulator-row-resize-handle.prev{top:0;bottom:auto}@media (hover:hover) and (pointer:fine){.tabulator-row .tabulator-row-resize-handle:hover{cursor:ns-resize}}.tabulator-row .tabulator-responsive-collapse{box-sizing:border-box;padding:5px;border-top:1px solid #ddd;border-bottom:1px solid #ddd}.tabulator-row .tabulator-responsive-collapse:empty{display:none}.tabulator-row .tabulator-responsive-collapse table{font-size:14px}.tabulator-row .tabulator-responsive-collapse table tr td{position:relative}.tabulator-row .tabulator-responsive-collapse table tr td:first-of-type{padding-right:10px}.tabulator-row .tabulator-cell{display:inline-block;position:relative;box-sizing:border-box;padding:4px;border-right:1px solid #ddd;vertical-align:middle;white-space:nowrap;overflow:hidden;text-overflow:ellipsis}.tabulator-row .tabulator-cell.tabulator-frozen{display:inline-block;position:sticky;left:0;background-color:inherit;z-index:10}.tabulator-row .tabulator-cell.tabulator-frozen.tabulator-frozen-left{border-right:2px solid #ddd}.tabulator-row .tabulator-cell.tabulator-frozen.tabulator-frozen-right{border-left:2px solid #ddd}.tabulator-row .tabulator-cell.tabulator-editing{border:1px solid #1d68cd;outline:none;padding:0}.tabulator-row .tabulator-cell.tabulator-editing input,.tabulator-row .tabulator-cell.tabulator-editing select{border:1px;background:transparent;outline:none}.tabulator-row .tabulator-cell.tabulator-validation-fail{border:1px solid #d00}.tabulator-row .tabulator-cell.tabulator-validation-fail input,.tabulator-row .tabulator-cell.tabulator-validation-fail select{border:1px;background:transparent;color:#d00}.tabulator-row .tabulator-cell.tabulator-row-handle{display:inline-flex;align-items:center;justify-content:center;-moz-user-select:none;-khtml-user-select:none;-webkit-user-select:none;-o-user-select:none}.tabulator-row .tabulator-cell.tabulator-row-handle .tabulator-row-handle-box{width:80%}.tabulator-row .tabulator-cell.tabulator-row-handle .tabulator-row-handle-box .tabulator-row-handle-bar{width:100%;height:3px;margin-top:2px;background:#666}.tabulator-row .tabulator-cell .tabulator-data-tree-branch{display:inline-block;vertical-align:middle;height:9px;width:7px;margin-top:-9px;margin-right:5px;border-bottom-left-radius:1px;border-left:2px solid #ddd;border-bottom:2px solid #ddd}.tabulator-row .tabulator-cell .tabulator-data-tree-control{display:inline-flex;justify-content:center;align-items:center;vertical-align:middle;height:11px;width:11px;margin-right:5px;border:1px solid #333;border-radius:2px;background:rgba(0,0,0,.1);overflow:hidden}@media (hover:hover) and (pointer:fine){.tabulator-row .tabulator-cell .tabulator-data-tree-control:hover{cursor:pointer;background:rgba(0,0,0,.2)}}.tabulator-row .tabulator-cell .tabulator-data-tree-control .tabulator-data-tree-control-collapse{display:inline-block;position:relative;height:7px;width:1px;background:transparent}.tabulator-row .tabulator-cell .tabulator-data-tree-control .tabulator-data-tree-control-collapse:after{position:absolute;content:\\\"\\\";left:-3px;top:3px;height:1px;width:7px;background:#333}.tabulator-row .tabulator-cell .tabulator-data-tree-control .tabulator-data-tree-control-expand{display:inline-block;position:relative;height:7px;width:1px;background:#333}.tabulator-row .tabulator-cell .tabulator-data-tree-control .tabulator-data-tree-control-expand:after{position:absolute;content:\\\"\\\";left:-3px;top:3px;height:1px;width:7px;background:#333}.tabulator-row .tabulator-cell .tabulator-responsive-collapse-toggle{display:inline-flex;align-items:center;justify-content:center;-moz-user-select:none;-khtml-user-select:none;-webkit-user-select:none;-o-user-select:none;height:15px;width:15px;border-radius:20px;background:#666;color:#fff;font-weight:700;font-size:1.1em}@media (hover:hover) and (pointer:fine){.tabulator-row .tabulator-cell .tabulator-responsive-collapse-toggle:hover{opacity:.7;cursor:pointer}}.tabulator-row .tabulator-cell .tabulator-responsive-collapse-toggle.open .tabulator-responsive-collapse-toggle-close{display:initial}.tabulator-row .tabulator-cell .tabulator-responsive-collapse-toggle.open .tabulator-responsive-collapse-toggle-open{display:none}.tabulator-row .tabulator-cell .tabulator-responsive-collapse-toggle svg{stroke:#fff}.tabulator-row .tabulator-cell .tabulator-responsive-collapse-toggle .tabulator-responsive-collapse-toggle-close{display:none}.tabulator-row .tabulator-cell .tabulator-traffic-light{display:inline-block;height:14px;width:14px;border-radius:14px}.tabulator-row.tabulator-group{box-sizing:border-box;border-bottom:1px solid #999;border-right:1px solid #ddd;border-top:1px solid #999;padding:5px 5px 5px 10px;background:#ccc;font-weight:700;min-width:100%}@media (hover:hover) and (pointer:fine){.tabulator-row.tabulator-group:hover{cursor:pointer;background-color:rgba(0,0,0,.1)}}.tabulator-row.tabulator-group.tabulator-group-visible .tabulator-arrow{margin-right:10px;border-left:6px solid transparent;border-right:6px solid transparent;border-top:6px solid #666;border-bottom:0}.tabulator-row.tabulator-group.tabulator-group-level-1{padding-left:30px}.tabulator-row.tabulator-group.tabulator-group-level-2{padding-left:50px}.tabulator-row.tabulator-group.tabulator-group-level-3{padding-left:70px}.tabulator-row.tabulator-group.tabulator-group-level-4{padding-left:90px}.tabulator-row.tabulator-group.tabulator-group-level-5{padding-left:110px}.tabulator-row.tabulator-group .tabulator-group-toggle{display:inline-block}.tabulator-row.tabulator-group .tabulator-arrow{display:inline-block;width:0;height:0;margin-right:16px;border-top:6px solid transparent;border-bottom:6px solid transparent;border-right:0;border-left:6px solid #666;vertical-align:middle}.tabulator-row.tabulator-group span{margin-left:10px;color:#d00}.tabulator-popup-container{position:absolute;display:inline-block;box-sizing:border-box;background:#fff;border:1px solid #ddd;box-shadow:0 0 5px 0 rgba(0,0,0,.2);font-size:14px;overflow-y:auto;-webkit-overflow-scrolling:touch;z-index:10000}.tabulator-popup{padding:5px;border-radius:3px}.tabulator-tooltip{max-width:Min(500px,100%);padding:3px 5px;border-radius:2px;box-shadow:none;font-size:12px;pointer-events:none}.tabulator-menu .tabulator-menu-item{position:relative;box-sizing:border-box;padding:5px 10px;user-select:none}.tabulator-menu .tabulator-menu-item.tabulator-menu-item-disabled{opacity:.5}@media (hover:hover) and (pointer:fine){.tabulator-menu .tabulator-menu-item:not(.tabulator-menu-item-disabled):hover{cursor:pointer;background:#fff}}.tabulator-menu .tabulator-menu-item.tabulator-menu-item-submenu{padding-right:25px}.tabulator-menu .tabulator-menu-item.tabulator-menu-item-submenu:after{display:inline-block;position:absolute;top:calc(5px + .4em);right:10px;height:7px;width:7px;content:\\\"\\\";border-color:#ddd;border-style:solid;border-width:1px 1px 0 0;vertical-align:top;transform:rotate(45deg)}.tabulator-menu .tabulator-menu-separator{border-top:1px solid #ddd}.tabulator-edit-list{max-height:200px;font-size:14px;overflow-y:auto;-webkit-overflow-scrolling:touch}.tabulator-edit-list .tabulator-edit-list-item{padding:4px;color:#333;outline:none}.tabulator-edit-list .tabulator-edit-list-item.active{color:#fff;background:#1d68cd}.tabulator-edit-list .tabulator-edit-list-item.active.focused{outline:1px solid hsla(0,0%,100%,.5)}.tabulator-edit-list .tabulator-edit-list-item.focused{outline:1px solid #1d68cd}@media (hover:hover) and (pointer:fine){.tabulator-edit-list .tabulator-edit-list-item:hover{cursor:pointer;color:#fff;background:#1d68cd}}.tabulator-edit-list .tabulator-edit-list-placeholder{padding:4px;color:#333;text-align:center}.tabulator-edit-list .tabulator-edit-list-group{border-bottom:1px solid #ddd;padding:6px 4px 4px;color:#333;font-weight:700}.tabulator-edit-list .tabulator-edit-list-group.tabulator-edit-list-group-level-2,.tabulator-edit-list .tabulator-edit-list-item.tabulator-edit-list-group-level-2{padding-left:12px}.tabulator-edit-list .tabulator-edit-list-group.tabulator-edit-list-group-level-3,.tabulator-edit-list .tabulator-edit-list-item.tabulator-edit-list-group-level-3{padding-left:20px}.tabulator-edit-list .tabulator-edit-list-group.tabulator-edit-list-group-level-4,.tabulator-edit-list .tabulator-edit-list-item.tabulator-edit-list-group-level-4{padding-left:28px}.tabulator-edit-list .tabulator-edit-list-group.tabulator-edit-list-group-level-5,.tabulator-edit-list .tabulator-edit-list-item.tabulator-edit-list-group-level-5{padding-left:36px}.tabulator.tabulator-ltr{direction:ltr}.tabulator.tabulator-rtl{text-align:initial;direction:rtl}.tabulator.tabulator-rtl .tabulator-header .tabulator-col{text-align:initial;border-left:1px solid #ddd;border-right:initial}.tabulator.tabulator-rtl .tabulator-header .tabulator-col.tabulator-col-group .tabulator-col-group-cols{margin-right:0;margin-left:-1px}.tabulator.tabulator-rtl .tabulator-header .tabulator-col.tabulator-sortable .tabulator-col-title{padding-right:0;padding-left:25px}.tabulator.tabulator-rtl .tabulator-header .tabulator-col .tabulator-col-content .tabulator-col-sorter{left:8px;right:auto}.tabulator.tabulator-rtl .tabulator-row .tabulator-cell{border-right:initial;border-left:1px solid #ddd}.tabulator.tabulator-rtl .tabulator-row .tabulator-cell .tabulator-data-tree-branch{margin-right:0;margin-left:5px;border-bottom-left-radius:0;border-bottom-right-radius:1px;border-left:initial;border-right:2px solid #ddd}.tabulator.tabulator-rtl .tabulator-row .tabulator-cell .tabulator-data-tree-control{margin-right:0;margin-left:5px}.tabulator.tabulator-rtl .tabulator-row .tabulator-cell.tabulator-frozen.tabulator-frozen-left{border-left:2px solid #ddd}.tabulator.tabulator-rtl .tabulator-row .tabulator-cell.tabulator-frozen.tabulator-frozen-right{border-right:2px solid #ddd}.tabulator.tabulator-rtl .tabulator-row .tabulator-col-resize-handle:last-of-type{width:3px;margin-left:0;margin-right:-3px}.tabulator.tabulator-rtl .tabulator-footer .tabulator-calcs-holder{text-align:initial}.tabulator-print-fullscreen{position:absolute;top:0;bottom:0;left:0;right:0;z-index:10000}body.tabulator-print-fullscreen-hide>:not(.tabulator-print-fullscreen){display:none!important}.tabulator-print-table{border-collapse:collapse}.tabulator-print-table .tabulator-data-tree-branch{display:inline-block;vertical-align:middle;height:9px;width:7px;margin-top:-9px;margin-right:5px;border-bottom-left-radius:1px;border-left:2px solid #ddd;border-bottom:2px solid #ddd}.tabulator-print-table .tabulator-print-table-group{box-sizing:border-box;border-bottom:1px solid #999;border-right:1px solid #ddd;border-top:1px solid #999;padding:5px 5px 5px 10px;background:#ccc;font-weight:700;min-width:100%}@media (hover:hover) and (pointer:fine){.tabulator-print-table .tabulator-print-table-group:hover{cursor:pointer;background-color:rgba(0,0,0,.1)}}.tabulator-print-table .tabulator-print-table-group.tabulator-group-visible .tabulator-arrow{margin-right:10px;border-left:6px solid transparent;border-right:6px solid transparent;border-top:6px solid #666;border-bottom:0}.tabulator-print-table .tabulator-print-table-group.tabulator-group-level-1 td{padding-left:30px!important}.tabulator-print-table .tabulator-print-table-group.tabulator-group-level-2 td{padding-left:50px!important}.tabulator-print-table .tabulator-print-table-group.tabulator-group-level-3 td{padding-left:70px!important}.tabulator-print-table .tabulator-print-table-group.tabulator-group-level-4 td{padding-left:90px!important}.tabulator-print-table .tabulator-print-table-group.tabulator-group-level-5 td{padding-left:110px!important}.tabulator-print-table .tabulator-print-table-group .tabulator-group-toggle{display:inline-block}.tabulator-print-table .tabulator-print-table-group .tabulator-arrow{display:inline-block;width:0;height:0;margin-right:16px;border-top:6px solid transparent;border-bottom:6px solid transparent;border-right:0;border-left:6px solid #666;vertical-align:middle}.tabulator-print-table .tabulator-print-table-group span{color:#d00}.tabulator-print-table .tabulator-data-tree-control{display:inline-flex;justify-content:center;align-items:center;vertical-align:middle;height:11px;width:11px;margin-right:5px;border:1px solid #333;border-radius:2px;background:rgba(0,0,0,.1);overflow:hidden}@media (hover:hover) and (pointer:fine){.tabulator-print-table .tabulator-data-tree-control:hover{cursor:pointer;background:rgba(0,0,0,.2)}}.tabulator-print-table .tabulator-data-tree-control .tabulator-data-tree-control-collapse{display:inline-block;position:relative;height:7px;width:1px;background:transparent}.tabulator-print-table .tabulator-data-tree-control .tabulator-data-tree-control-collapse:after{position:absolute;content:\\\"\\\";left:-3px;top:3px;height:1px;width:7px;background:#333}.tabulator-print-table .tabulator-data-tree-control .tabulator-data-tree-control-expand{display:inline-block;position:relative;height:7px;width:1px;background:#333}.tabulator-print-table .tabulator-data-tree-control .tabulator-data-tree-control-expand:after{position:absolute;content:\\\"\\\";left:-3px;top:3px;height:1px;width:7px;background:#333}.tabulator{border:none;background-color:#fff}.tabulator .tabulator-header .tabulator-calcs-holder{background:#f2f2f2!important;border-bottom:1px solid #999}.tabulator .tabulator-header .tabulator-calcs-holder .tabulator-row{background:#f2f2f2!important}.tabulator .tabulator-tableholder .tabulator-placeholder span{color:#000}.tabulator .tabulator-footer .tabulator-calcs-holder{background:#f2f2f2!important;border-bottom:1px solid #fff}.tabulator .tabulator-footer .tabulator-calcs-holder .tabulator-row{background:#f2f2f2!important}.tabulator-row{border-bottom:1px solid #ddd}.tabulator-row .tabulator-cell:last-of-type{border-right:none}.tabulator-row.tabulator-group span{color:#666}.tabulator-print-table .tabulator-print-table-group span{margin-left:10px;color:#666}\\n/*# sourceMappingURL=tabulator_simple.min.css.map */\");\n    },    function(Bokeh) {\n      inject_raw_css(\"/**\\n * Copyright (c) 2014 The xterm.js authors. All rights reserved.\\n * Copyright (c) 2012-2013, Christopher Jeffrey (MIT License)\\n * https://github.com/chjj/term.js\\n * @license MIT\\n *\\n * Permission is hereby granted, free of charge, to any person obtaining a copy\\n * of this software and associated documentation files (the \\\"Software\\\"), to deal\\n * in the Software without restriction, including without limitation the rights\\n * to use, copy, modify, merge, publish, distribute, sublicense, and/or sell\\n * copies of the Software, and to permit persons to whom the Software is\\n * furnished to do so, subject to the following conditions:\\n *\\n * The above copyright notice and this permission notice shall be included in\\n * all copies or substantial portions of the Software.\\n *\\n * THE SOFTWARE IS PROVIDED \\\"AS IS\\\", WITHOUT WARRANTY OF ANY KIND, EXPRESS OR\\n * IMPLIED, INCLUDING BUT NOT LIMITED TO THE WARRANTIES OF MERCHANTABILITY,\\n * FITNESS FOR A PARTICULAR PURPOSE AND NONINFRINGEMENT. IN NO EVENT SHALL THE\\n * AUTHORS OR COPYRIGHT HOLDERS BE LIABLE FOR ANY CLAIM, DAMAGES OR OTHER\\n * LIABILITY, WHETHER IN AN ACTION OF CONTRACT, TORT OR OTHERWISE, ARISING FROM,\\n * OUT OF OR IN CONNECTION WITH THE SOFTWARE OR THE USE OR OTHER DEALINGS IN\\n * THE SOFTWARE.\\n *\\n * Originally forked from (with the author's permission):\\n *   Fabrice Bellard's javascript vt100 for jslinux:\\n *   http://bellard.org/jslinux/\\n *   Copyright (c) 2011 Fabrice Bellard\\n *   The original design remains. The terminal itself\\n *   has been extended to include xterm CSI codes, among\\n *   other features.\\n */\\n\\n/**\\n *  Default styles for xterm.js\\n */\\n\\n.xterm {\\n    font-feature-settings: \\\"liga\\\" 0;\\n    position: relative;\\n    user-select: none;\\n    -ms-user-select: none;\\n    -webkit-user-select: none;\\n}\\n\\n.xterm.focus,\\n.xterm:focus {\\n    outline: none;\\n}\\n\\n.xterm .xterm-helpers {\\n    position: absolute;\\n    top: 0;\\n    /**\\n     * The z-index of the helpers must be higher than the canvases in order for\\n     * IMEs to appear on top.\\n     */\\n    z-index: 5;\\n}\\n\\n.xterm .xterm-helper-textarea {\\n    padding: 0;\\n    border: 0;\\n    margin: 0;\\n    /* Move textarea out of the screen to the far left, so that the cursor is not visible */\\n    position: absolute;\\n    opacity: 0;\\n    left: -9999em;\\n    top: 0;\\n    width: 0;\\n    height: 0;\\n    z-index: -5;\\n    /** Prevent wrapping so the IME appears against the textarea at the correct position */\\n    white-space: nowrap;\\n    overflow: hidden;\\n    resize: none;\\n}\\n\\n.xterm .composition-view {\\n    /* TODO: Composition position got messed up somewhere */\\n    background: #000;\\n    color: #FFF;\\n    display: none;\\n    position: absolute;\\n    white-space: nowrap;\\n    z-index: 1;\\n}\\n\\n.xterm .composition-view.active {\\n    display: block;\\n}\\n\\n.xterm .xterm-viewport {\\n    /* On OS X this is required in order for the scroll bar to appear fully opaque */\\n    background-color: #000;\\n    overflow-y: scroll;\\n    cursor: default;\\n    position: absolute;\\n    right: 0;\\n    left: 0;\\n    top: 0;\\n    bottom: 0;\\n}\\n\\n.xterm .xterm-screen {\\n    position: relative;\\n}\\n\\n.xterm .xterm-screen canvas {\\n    position: absolute;\\n    left: 0;\\n    top: 0;\\n}\\n\\n.xterm .xterm-scroll-area {\\n    visibility: hidden;\\n}\\n\\n.xterm-char-measure-element {\\n    display: inline-block;\\n    visibility: hidden;\\n    position: absolute;\\n    top: 0;\\n    left: -9999em;\\n    line-height: normal;\\n}\\n\\n.xterm {\\n    cursor: text;\\n}\\n\\n.xterm.enable-mouse-events {\\n    /* When mouse events are enabled (eg. tmux), revert to the standard pointer cursor */\\n    cursor: default;\\n}\\n\\n.xterm.xterm-cursor-pointer {\\n    cursor: pointer;\\n}\\n\\n.xterm.column-select.focus {\\n    /* Column selection mode */\\n    cursor: crosshair;\\n}\\n\\n.xterm .xterm-accessibility,\\n.xterm .xterm-message {\\n    position: absolute;\\n    left: 0;\\n    top: 0;\\n    bottom: 0;\\n    right: 0;\\n    z-index: 10;\\n    color: transparent;\\n}\\n\\n.xterm .live-region {\\n    position: absolute;\\n    left: -9999px;\\n    width: 1px;\\n    height: 1px;\\n    overflow: hidden;\\n}\\n\\n.xterm-dim {\\n    opacity: 0.5;\\n}\\n\\n.xterm-underline {\\n    text-decoration: underline;\\n}\\n\");\n    },    function(Bokeh) {\n      inject_raw_css(\":root .grid-stack-item>.ui-resizable-handle{filter:none}.grid-stack{position:relative}.grid-stack.grid-stack-rtl{direction:ltr}.grid-stack.grid-stack-rtl>.grid-stack-item{direction:rtl}.grid-stack .grid-stack-placeholder>.placeholder-content{background-color:rgba(0,0,0,.1);margin:0;position:absolute;width:auto;z-index:0!important;text-align:center}.grid-stack>.grid-stack-item{min-width:8.3333333333%;position:absolute;padding:0}.grid-stack>.grid-stack-item>.grid-stack-item-content{margin:0;position:absolute;width:auto;overflow-x:hidden;overflow-y:auto}.grid-stack>.grid-stack-item>.ui-resizable-handle{position:absolute;font-size:.1px;display:block;-ms-touch-action:none;touch-action:none}.grid-stack>.grid-stack-item.ui-resizable-autohide>.ui-resizable-handle,.grid-stack>.grid-stack-item.ui-resizable-disabled>.ui-resizable-handle{display:none}.grid-stack>.grid-stack-item>.ui-resizable-se,.grid-stack>.grid-stack-item>.ui-resizable-sw{background-image:url(data:image/svg+xml;base64,PD94bWwgdmVyc2lvbj0iMS4wIiBlbmNvZGluZz0iaXNvLTg4NTktMSI/Pgo8IS0tIEdlbmVyYXRvcjogQWRvYmUgSWxsdXN0cmF0b3IgMTYuMC4wLCBTVkcgRXhwb3J0IFBsdWctSW4gLiBTVkcgVmVyc2lvbjogNi4wMCBCdWlsZCAwKSAgLS0+CjwhRE9DVFlQRSBzdmcgUFVCTElDICItLy9XM0MvL0RURCBTVkcgMS4xLy9FTiIgImh0dHA6Ly93d3cudzMub3JnL0dyYXBoaWNzL1NWRy8xLjEvRFREL3N2ZzExLmR0ZCI+CjxzdmcgeG1sbnM9Imh0dHA6Ly93d3cudzMub3JnLzIwMDAvc3ZnIiB4bWxuczp4bGluaz0iaHR0cDovL3d3dy53My5vcmcvMTk5OS94bGluayIgdmVyc2lvbj0iMS4xIiBpZD0iQ2FwYV8xIiB4PSIwcHgiIHk9IjBweCIgd2lkdGg9IjE2cHgiIGhlaWdodD0iMTZweCIgdmlld0JveD0iMCAwIDUxMS42MjYgNTExLjYyNyIgc3R5bGU9ImVuYWJsZS1iYWNrZ3JvdW5kOm5ldyAwIDAgNTExLjYyNiA1MTEuNjI3OyIgeG1sOnNwYWNlPSJwcmVzZXJ2ZSI+CjxnPgoJPHBhdGggZD0iTTMyOC45MDYsNDAxLjk5NGgtMzYuNTUzVjEwOS42MzZoMzYuNTUzYzQuOTQ4LDAsOS4yMzYtMS44MDksMTIuODQ3LTUuNDI2YzMuNjEzLTMuNjE1LDUuNDIxLTcuODk4LDUuNDIxLTEyLjg0NSAgIGMwLTQuOTQ5LTEuODAxLTkuMjMxLTUuNDI4LTEyLjg1MWwtNzMuMDg3LTczLjA5QzI2NS4wNDQsMS44MDksMjYwLjc2LDAsMjU1LjgxMywwYy00Ljk0OCwwLTkuMjI5LDEuODA5LTEyLjg0Nyw1LjQyNCAgIGwtNzMuMDg4LDczLjA5Yy0zLjYxOCwzLjYxOS01LjQyNCw3LjkwMi01LjQyNCwxMi44NTFjMCw0Ljk0NiwxLjgwNyw5LjIyOSw1LjQyNCwxMi44NDVjMy42MTksMy42MTcsNy45MDEsNS40MjYsMTIuODUsNS40MjYgICBoMzYuNTQ1djI5Mi4zNThoLTM2LjU0MmMtNC45NTIsMC05LjIzNSwxLjgwOC0xMi44NSw1LjQyMWMtMy42MTcsMy42MjEtNS40MjQsNy45MDUtNS40MjQsMTIuODU0ICAgYzAsNC45NDUsMS44MDcsOS4yMjcsNS40MjQsMTIuODQ3bDczLjA4OSw3My4wODhjMy42MTcsMy42MTcsNy44OTgsNS40MjQsMTIuODQ3LDUuNDI0YzQuOTUsMCw5LjIzNC0xLjgwNywxMi44NDktNS40MjQgICBsNzMuMDg3LTczLjA4OGMzLjYxMy0zLjYyLDUuNDIxLTcuOTAxLDUuNDIxLTEyLjg0N2MwLTQuOTQ4LTEuODA4LTkuMjMyLTUuNDIxLTEyLjg1NCAgIEMzMzguMTQyLDQwMy44MDIsMzMzLjg1Nyw0MDEuOTk0LDMyOC45MDYsNDAxLjk5NHoiIGZpbGw9IiM2NjY2NjYiLz4KPC9nPgo8Zz4KPC9nPgo8Zz4KPC9nPgo8Zz4KPC9nPgo8Zz4KPC9nPgo8Zz4KPC9nPgo8Zz4KPC9nPgo8Zz4KPC9nPgo8Zz4KPC9nPgo8Zz4KPC9nPgo8Zz4KPC9nPgo8Zz4KPC9nPgo8Zz4KPC9nPgo8Zz4KPC9nPgo8Zz4KPC9nPgo8Zz4KPC9nPgo8L3N2Zz4K);background-repeat:no-repeat;background-position:center;-webkit-transform:rotate(45deg);-moz-transform:rotate(45deg);-ms-transform:rotate(45deg);-o-transform:rotate(45deg);transform:rotate(45deg)}.grid-stack>.grid-stack-item>.ui-resizable-se{-webkit-transform:rotate(-45deg);-moz-transform:rotate(-45deg);-ms-transform:rotate(-45deg);-o-transform:rotate(-45deg);transform:rotate(-45deg)}.grid-stack>.grid-stack-item>.ui-resizable-nw{cursor:nw-resize;width:20px;height:20px;top:0}.grid-stack>.grid-stack-item>.ui-resizable-n{cursor:n-resize;height:10px;top:0;left:25px;right:25px}.grid-stack>.grid-stack-item>.ui-resizable-ne{cursor:ne-resize;width:20px;height:20px;top:0}.grid-stack>.grid-stack-item>.ui-resizable-e{cursor:e-resize;width:10px;top:15px;bottom:15px}.grid-stack>.grid-stack-item>.ui-resizable-se{cursor:se-resize;width:20px;height:20px}.grid-stack>.grid-stack-item>.ui-resizable-s{cursor:s-resize;height:10px;left:25px;bottom:0;right:25px}.grid-stack>.grid-stack-item>.ui-resizable-sw{cursor:sw-resize;width:20px;height:20px}.grid-stack>.grid-stack-item>.ui-resizable-w{cursor:w-resize;width:10px;top:15px;bottom:15px}.grid-stack>.grid-stack-item.ui-draggable-dragging>.ui-resizable-handle{display:none!important}.grid-stack>.grid-stack-item[gs-w=\\\"0\\\"]{width:0%}.grid-stack>.grid-stack-item[gs-x=\\\"0\\\"]{left:0}.grid-stack>.grid-stack-item[gs-min-w=\\\"0\\\"]{min-width:0}.grid-stack>.grid-stack-item[gs-max-w=\\\"0\\\"]{max-width:0%}.grid-stack>.grid-stack-item[gs-w=\\\"1\\\"]{width:8.3333333333%}.grid-stack>.grid-stack-item[gs-x=\\\"1\\\"]{left:8.3333333333%}.grid-stack>.grid-stack-item[gs-min-w=\\\"1\\\"]{min-width:8.3333333333%}.grid-stack>.grid-stack-item[gs-max-w=\\\"1\\\"]{max-width:8.3333333333%}.grid-stack>.grid-stack-item[gs-w=\\\"2\\\"]{width:16.6666666667%}.grid-stack>.grid-stack-item[gs-x=\\\"2\\\"]{left:16.6666666667%}.grid-stack>.grid-stack-item[gs-min-w=\\\"2\\\"]{min-width:16.6666666667%}.grid-stack>.grid-stack-item[gs-max-w=\\\"2\\\"]{max-width:16.6666666667%}.grid-stack>.grid-stack-item[gs-w=\\\"3\\\"]{width:25%}.grid-stack>.grid-stack-item[gs-x=\\\"3\\\"]{left:25%}.grid-stack>.grid-stack-item[gs-min-w=\\\"3\\\"]{min-width:25%}.grid-stack>.grid-stack-item[gs-max-w=\\\"3\\\"]{max-width:25%}.grid-stack>.grid-stack-item[gs-w=\\\"4\\\"]{width:33.3333333333%}.grid-stack>.grid-stack-item[gs-x=\\\"4\\\"]{left:33.3333333333%}.grid-stack>.grid-stack-item[gs-min-w=\\\"4\\\"]{min-width:33.3333333333%}.grid-stack>.grid-stack-item[gs-max-w=\\\"4\\\"]{max-width:33.3333333333%}.grid-stack>.grid-stack-item[gs-w=\\\"5\\\"]{width:41.6666666667%}.grid-stack>.grid-stack-item[gs-x=\\\"5\\\"]{left:41.6666666667%}.grid-stack>.grid-stack-item[gs-min-w=\\\"5\\\"]{min-width:41.6666666667%}.grid-stack>.grid-stack-item[gs-max-w=\\\"5\\\"]{max-width:41.6666666667%}.grid-stack>.grid-stack-item[gs-w=\\\"6\\\"]{width:50%}.grid-stack>.grid-stack-item[gs-x=\\\"6\\\"]{left:50%}.grid-stack>.grid-stack-item[gs-min-w=\\\"6\\\"]{min-width:50%}.grid-stack>.grid-stack-item[gs-max-w=\\\"6\\\"]{max-width:50%}.grid-stack>.grid-stack-item[gs-w=\\\"7\\\"]{width:58.3333333333%}.grid-stack>.grid-stack-item[gs-x=\\\"7\\\"]{left:58.3333333333%}.grid-stack>.grid-stack-item[gs-min-w=\\\"7\\\"]{min-width:58.3333333333%}.grid-stack>.grid-stack-item[gs-max-w=\\\"7\\\"]{max-width:58.3333333333%}.grid-stack>.grid-stack-item[gs-w=\\\"8\\\"]{width:66.6666666667%}.grid-stack>.grid-stack-item[gs-x=\\\"8\\\"]{left:66.6666666667%}.grid-stack>.grid-stack-item[gs-min-w=\\\"8\\\"]{min-width:66.6666666667%}.grid-stack>.grid-stack-item[gs-max-w=\\\"8\\\"]{max-width:66.6666666667%}.grid-stack>.grid-stack-item[gs-w=\\\"9\\\"]{width:75%}.grid-stack>.grid-stack-item[gs-x=\\\"9\\\"]{left:75%}.grid-stack>.grid-stack-item[gs-min-w=\\\"9\\\"]{min-width:75%}.grid-stack>.grid-stack-item[gs-max-w=\\\"9\\\"]{max-width:75%}.grid-stack>.grid-stack-item[gs-w=\\\"10\\\"]{width:83.3333333333%}.grid-stack>.grid-stack-item[gs-x=\\\"10\\\"]{left:83.3333333333%}.grid-stack>.grid-stack-item[gs-min-w=\\\"10\\\"]{min-width:83.3333333333%}.grid-stack>.grid-stack-item[gs-max-w=\\\"10\\\"]{max-width:83.3333333333%}.grid-stack>.grid-stack-item[gs-w=\\\"11\\\"]{width:91.6666666667%}.grid-stack>.grid-stack-item[gs-x=\\\"11\\\"]{left:91.6666666667%}.grid-stack>.grid-stack-item[gs-min-w=\\\"11\\\"]{min-width:91.6666666667%}.grid-stack>.grid-stack-item[gs-max-w=\\\"11\\\"]{max-width:91.6666666667%}.grid-stack>.grid-stack-item[gs-w=\\\"12\\\"]{width:100%}.grid-stack>.grid-stack-item[gs-x=\\\"12\\\"]{left:100%}.grid-stack>.grid-stack-item[gs-min-w=\\\"12\\\"]{min-width:100%}.grid-stack>.grid-stack-item[gs-max-w=\\\"12\\\"]{max-width:100%}.grid-stack.grid-stack-1>.grid-stack-item{min-width:100%}.grid-stack.grid-stack-1>.grid-stack-item[gs-w=\\\"1\\\"]{width:100%}.grid-stack.grid-stack-1>.grid-stack-item[gs-x=\\\"1\\\"]{left:100%}.grid-stack.grid-stack-1>.grid-stack-item[gs-min-w=\\\"1\\\"]{min-width:100%}.grid-stack.grid-stack-1>.grid-stack-item[gs-max-w=\\\"1\\\"]{max-width:100%}.grid-stack.grid-stack-animate,.grid-stack.grid-stack-animate .grid-stack-item{-webkit-transition:left .3s,top .3s,height .3s,width .3s;-moz-transition:left .3s,top .3s,height .3s,width .3s;-ms-transition:left .3s,top .3s,height .3s,width .3s;-o-transition:left .3s,top .3s,height .3s,width .3s;transition:left .3s,top .3s,height .3s,width .3s}.grid-stack.grid-stack-animate .grid-stack-item.grid-stack-placeholder,.grid-stack.grid-stack-animate .grid-stack-item.ui-draggable-dragging,.grid-stack.grid-stack-animate .grid-stack-item.ui-resizable-resizing{-webkit-transition:left 0s,top 0s,height 0s,width 0s;-moz-transition:left 0s,top 0s,height 0s,width 0s;-ms-transition:left 0s,top 0s,height 0s,width 0s;-o-transition:left 0s,top 0s,height 0s,width 0s;transition:left 0s,top 0s,height 0s,width 0s}.ui-draggable-dragging,.ui-resizable-resizing{z-index:100}.ui-draggable-dragging>.grid-stack-item-content,.ui-resizable-resizing>.grid-stack-item-content{box-shadow:1px 4px 6px rgba(0,0,0,.2);opacity:.8}.ui-draggable-dragging{will-change:left,top;cursor:move}.ui-resizable-resizing{will-change:width,height}\");\n    },    function(Bokeh) {\n      inject_raw_css(\".grid-stack.grid-stack-2>.grid-stack-item{min-width:50%}.grid-stack.grid-stack-2>.grid-stack-item[gs-w=\\\"1\\\"]{width:50%}.grid-stack.grid-stack-2>.grid-stack-item[gs-x=\\\"1\\\"]{left:50%}.grid-stack.grid-stack-2>.grid-stack-item[gs-min-w=\\\"1\\\"]{min-width:50%}.grid-stack.grid-stack-2>.grid-stack-item[gs-max-w=\\\"1\\\"]{max-width:50%}.grid-stack.grid-stack-2>.grid-stack-item[gs-w=\\\"2\\\"]{width:100%}.grid-stack.grid-stack-2>.grid-stack-item[gs-x=\\\"2\\\"]{left:100%}.grid-stack.grid-stack-2>.grid-stack-item[gs-min-w=\\\"2\\\"]{min-width:100%}.grid-stack.grid-stack-2>.grid-stack-item[gs-max-w=\\\"2\\\"]{max-width:100%}.grid-stack.grid-stack-3>.grid-stack-item{min-width:33.3333333333%}.grid-stack.grid-stack-3>.grid-stack-item[gs-w=\\\"1\\\"]{width:33.3333333333%}.grid-stack.grid-stack-3>.grid-stack-item[gs-x=\\\"1\\\"]{left:33.3333333333%}.grid-stack.grid-stack-3>.grid-stack-item[gs-min-w=\\\"1\\\"]{min-width:33.3333333333%}.grid-stack.grid-stack-3>.grid-stack-item[gs-max-w=\\\"1\\\"]{max-width:33.3333333333%}.grid-stack.grid-stack-3>.grid-stack-item[gs-w=\\\"2\\\"]{width:66.6666666667%}.grid-stack.grid-stack-3>.grid-stack-item[gs-x=\\\"2\\\"]{left:66.6666666667%}.grid-stack.grid-stack-3>.grid-stack-item[gs-min-w=\\\"2\\\"]{min-width:66.6666666667%}.grid-stack.grid-stack-3>.grid-stack-item[gs-max-w=\\\"2\\\"]{max-width:66.6666666667%}.grid-stack.grid-stack-3>.grid-stack-item[gs-w=\\\"3\\\"]{width:100%}.grid-stack.grid-stack-3>.grid-stack-item[gs-x=\\\"3\\\"]{left:100%}.grid-stack.grid-stack-3>.grid-stack-item[gs-min-w=\\\"3\\\"]{min-width:100%}.grid-stack.grid-stack-3>.grid-stack-item[gs-max-w=\\\"3\\\"]{max-width:100%}.grid-stack.grid-stack-4>.grid-stack-item{min-width:25%}.grid-stack.grid-stack-4>.grid-stack-item[gs-w=\\\"1\\\"]{width:25%}.grid-stack.grid-stack-4>.grid-stack-item[gs-x=\\\"1\\\"]{left:25%}.grid-stack.grid-stack-4>.grid-stack-item[gs-min-w=\\\"1\\\"]{min-width:25%}.grid-stack.grid-stack-4>.grid-stack-item[gs-max-w=\\\"1\\\"]{max-width:25%}.grid-stack.grid-stack-4>.grid-stack-item[gs-w=\\\"2\\\"]{width:50%}.grid-stack.grid-stack-4>.grid-stack-item[gs-x=\\\"2\\\"]{left:50%}.grid-stack.grid-stack-4>.grid-stack-item[gs-min-w=\\\"2\\\"]{min-width:50%}.grid-stack.grid-stack-4>.grid-stack-item[gs-max-w=\\\"2\\\"]{max-width:50%}.grid-stack.grid-stack-4>.grid-stack-item[gs-w=\\\"3\\\"]{width:75%}.grid-stack.grid-stack-4>.grid-stack-item[gs-x=\\\"3\\\"]{left:75%}.grid-stack.grid-stack-4>.grid-stack-item[gs-min-w=\\\"3\\\"]{min-width:75%}.grid-stack.grid-stack-4>.grid-stack-item[gs-max-w=\\\"3\\\"]{max-width:75%}.grid-stack.grid-stack-4>.grid-stack-item[gs-w=\\\"4\\\"]{width:100%}.grid-stack.grid-stack-4>.grid-stack-item[gs-x=\\\"4\\\"]{left:100%}.grid-stack.grid-stack-4>.grid-stack-item[gs-min-w=\\\"4\\\"]{min-width:100%}.grid-stack.grid-stack-4>.grid-stack-item[gs-max-w=\\\"4\\\"]{max-width:100%}.grid-stack.grid-stack-5>.grid-stack-item{min-width:20%}.grid-stack.grid-stack-5>.grid-stack-item[gs-w=\\\"1\\\"]{width:20%}.grid-stack.grid-stack-5>.grid-stack-item[gs-x=\\\"1\\\"]{left:20%}.grid-stack.grid-stack-5>.grid-stack-item[gs-min-w=\\\"1\\\"]{min-width:20%}.grid-stack.grid-stack-5>.grid-stack-item[gs-max-w=\\\"1\\\"]{max-width:20%}.grid-stack.grid-stack-5>.grid-stack-item[gs-w=\\\"2\\\"]{width:40%}.grid-stack.grid-stack-5>.grid-stack-item[gs-x=\\\"2\\\"]{left:40%}.grid-stack.grid-stack-5>.grid-stack-item[gs-min-w=\\\"2\\\"]{min-width:40%}.grid-stack.grid-stack-5>.grid-stack-item[gs-max-w=\\\"2\\\"]{max-width:40%}.grid-stack.grid-stack-5>.grid-stack-item[gs-w=\\\"3\\\"]{width:60%}.grid-stack.grid-stack-5>.grid-stack-item[gs-x=\\\"3\\\"]{left:60%}.grid-stack.grid-stack-5>.grid-stack-item[gs-min-w=\\\"3\\\"]{min-width:60%}.grid-stack.grid-stack-5>.grid-stack-item[gs-max-w=\\\"3\\\"]{max-width:60%}.grid-stack.grid-stack-5>.grid-stack-item[gs-w=\\\"4\\\"]{width:80%}.grid-stack.grid-stack-5>.grid-stack-item[gs-x=\\\"4\\\"]{left:80%}.grid-stack.grid-stack-5>.grid-stack-item[gs-min-w=\\\"4\\\"]{min-width:80%}.grid-stack.grid-stack-5>.grid-stack-item[gs-max-w=\\\"4\\\"]{max-width:80%}.grid-stack.grid-stack-5>.grid-stack-item[gs-w=\\\"5\\\"]{width:100%}.grid-stack.grid-stack-5>.grid-stack-item[gs-x=\\\"5\\\"]{left:100%}.grid-stack.grid-stack-5>.grid-stack-item[gs-min-w=\\\"5\\\"]{min-width:100%}.grid-stack.grid-stack-5>.grid-stack-item[gs-max-w=\\\"5\\\"]{max-width:100%}.grid-stack.grid-stack-6>.grid-stack-item{min-width:16.6666666667%}.grid-stack.grid-stack-6>.grid-stack-item[gs-w=\\\"1\\\"]{width:16.6666666667%}.grid-stack.grid-stack-6>.grid-stack-item[gs-x=\\\"1\\\"]{left:16.6666666667%}.grid-stack.grid-stack-6>.grid-stack-item[gs-min-w=\\\"1\\\"]{min-width:16.6666666667%}.grid-stack.grid-stack-6>.grid-stack-item[gs-max-w=\\\"1\\\"]{max-width:16.6666666667%}.grid-stack.grid-stack-6>.grid-stack-item[gs-w=\\\"2\\\"]{width:33.3333333333%}.grid-stack.grid-stack-6>.grid-stack-item[gs-x=\\\"2\\\"]{left:33.3333333333%}.grid-stack.grid-stack-6>.grid-stack-item[gs-min-w=\\\"2\\\"]{min-width:33.3333333333%}.grid-stack.grid-stack-6>.grid-stack-item[gs-max-w=\\\"2\\\"]{max-width:33.3333333333%}.grid-stack.grid-stack-6>.grid-stack-item[gs-w=\\\"3\\\"]{width:50%}.grid-stack.grid-stack-6>.grid-stack-item[gs-x=\\\"3\\\"]{left:50%}.grid-stack.grid-stack-6>.grid-stack-item[gs-min-w=\\\"3\\\"]{min-width:50%}.grid-stack.grid-stack-6>.grid-stack-item[gs-max-w=\\\"3\\\"]{max-width:50%}.grid-stack.grid-stack-6>.grid-stack-item[gs-w=\\\"4\\\"]{width:66.6666666667%}.grid-stack.grid-stack-6>.grid-stack-item[gs-x=\\\"4\\\"]{left:66.6666666667%}.grid-stack.grid-stack-6>.grid-stack-item[gs-min-w=\\\"4\\\"]{min-width:66.6666666667%}.grid-stack.grid-stack-6>.grid-stack-item[gs-max-w=\\\"4\\\"]{max-width:66.6666666667%}.grid-stack.grid-stack-6>.grid-stack-item[gs-w=\\\"5\\\"]{width:83.3333333333%}.grid-stack.grid-stack-6>.grid-stack-item[gs-x=\\\"5\\\"]{left:83.3333333333%}.grid-stack.grid-stack-6>.grid-stack-item[gs-min-w=\\\"5\\\"]{min-width:83.3333333333%}.grid-stack.grid-stack-6>.grid-stack-item[gs-max-w=\\\"5\\\"]{max-width:83.3333333333%}.grid-stack.grid-stack-6>.grid-stack-item[gs-w=\\\"6\\\"]{width:100%}.grid-stack.grid-stack-6>.grid-stack-item[gs-x=\\\"6\\\"]{left:100%}.grid-stack.grid-stack-6>.grid-stack-item[gs-min-w=\\\"6\\\"]{min-width:100%}.grid-stack.grid-stack-6>.grid-stack-item[gs-max-w=\\\"6\\\"]{max-width:100%}.grid-stack.grid-stack-7>.grid-stack-item{min-width:14.2857142857%}.grid-stack.grid-stack-7>.grid-stack-item[gs-w=\\\"1\\\"]{width:14.2857142857%}.grid-stack.grid-stack-7>.grid-stack-item[gs-x=\\\"1\\\"]{left:14.2857142857%}.grid-stack.grid-stack-7>.grid-stack-item[gs-min-w=\\\"1\\\"]{min-width:14.2857142857%}.grid-stack.grid-stack-7>.grid-stack-item[gs-max-w=\\\"1\\\"]{max-width:14.2857142857%}.grid-stack.grid-stack-7>.grid-stack-item[gs-w=\\\"2\\\"]{width:28.5714285714%}.grid-stack.grid-stack-7>.grid-stack-item[gs-x=\\\"2\\\"]{left:28.5714285714%}.grid-stack.grid-stack-7>.grid-stack-item[gs-min-w=\\\"2\\\"]{min-width:28.5714285714%}.grid-stack.grid-stack-7>.grid-stack-item[gs-max-w=\\\"2\\\"]{max-width:28.5714285714%}.grid-stack.grid-stack-7>.grid-stack-item[gs-w=\\\"3\\\"]{width:42.8571428571%}.grid-stack.grid-stack-7>.grid-stack-item[gs-x=\\\"3\\\"]{left:42.8571428571%}.grid-stack.grid-stack-7>.grid-stack-item[gs-min-w=\\\"3\\\"]{min-width:42.8571428571%}.grid-stack.grid-stack-7>.grid-stack-item[gs-max-w=\\\"3\\\"]{max-width:42.8571428571%}.grid-stack.grid-stack-7>.grid-stack-item[gs-w=\\\"4\\\"]{width:57.1428571429%}.grid-stack.grid-stack-7>.grid-stack-item[gs-x=\\\"4\\\"]{left:57.1428571429%}.grid-stack.grid-stack-7>.grid-stack-item[gs-min-w=\\\"4\\\"]{min-width:57.1428571429%}.grid-stack.grid-stack-7>.grid-stack-item[gs-max-w=\\\"4\\\"]{max-width:57.1428571429%}.grid-stack.grid-stack-7>.grid-stack-item[gs-w=\\\"5\\\"]{width:71.4285714286%}.grid-stack.grid-stack-7>.grid-stack-item[gs-x=\\\"5\\\"]{left:71.4285714286%}.grid-stack.grid-stack-7>.grid-stack-item[gs-min-w=\\\"5\\\"]{min-width:71.4285714286%}.grid-stack.grid-stack-7>.grid-stack-item[gs-max-w=\\\"5\\\"]{max-width:71.4285714286%}.grid-stack.grid-stack-7>.grid-stack-item[gs-w=\\\"6\\\"]{width:85.7142857143%}.grid-stack.grid-stack-7>.grid-stack-item[gs-x=\\\"6\\\"]{left:85.7142857143%}.grid-stack.grid-stack-7>.grid-stack-item[gs-min-w=\\\"6\\\"]{min-width:85.7142857143%}.grid-stack.grid-stack-7>.grid-stack-item[gs-max-w=\\\"6\\\"]{max-width:85.7142857143%}.grid-stack.grid-stack-7>.grid-stack-item[gs-w=\\\"7\\\"]{width:100%}.grid-stack.grid-stack-7>.grid-stack-item[gs-x=\\\"7\\\"]{left:100%}.grid-stack.grid-stack-7>.grid-stack-item[gs-min-w=\\\"7\\\"]{min-width:100%}.grid-stack.grid-stack-7>.grid-stack-item[gs-max-w=\\\"7\\\"]{max-width:100%}.grid-stack.grid-stack-8>.grid-stack-item{min-width:12.5%}.grid-stack.grid-stack-8>.grid-stack-item[gs-w=\\\"1\\\"]{width:12.5%}.grid-stack.grid-stack-8>.grid-stack-item[gs-x=\\\"1\\\"]{left:12.5%}.grid-stack.grid-stack-8>.grid-stack-item[gs-min-w=\\\"1\\\"]{min-width:12.5%}.grid-stack.grid-stack-8>.grid-stack-item[gs-max-w=\\\"1\\\"]{max-width:12.5%}.grid-stack.grid-stack-8>.grid-stack-item[gs-w=\\\"2\\\"]{width:25%}.grid-stack.grid-stack-8>.grid-stack-item[gs-x=\\\"2\\\"]{left:25%}.grid-stack.grid-stack-8>.grid-stack-item[gs-min-w=\\\"2\\\"]{min-width:25%}.grid-stack.grid-stack-8>.grid-stack-item[gs-max-w=\\\"2\\\"]{max-width:25%}.grid-stack.grid-stack-8>.grid-stack-item[gs-w=\\\"3\\\"]{width:37.5%}.grid-stack.grid-stack-8>.grid-stack-item[gs-x=\\\"3\\\"]{left:37.5%}.grid-stack.grid-stack-8>.grid-stack-item[gs-min-w=\\\"3\\\"]{min-width:37.5%}.grid-stack.grid-stack-8>.grid-stack-item[gs-max-w=\\\"3\\\"]{max-width:37.5%}.grid-stack.grid-stack-8>.grid-stack-item[gs-w=\\\"4\\\"]{width:50%}.grid-stack.grid-stack-8>.grid-stack-item[gs-x=\\\"4\\\"]{left:50%}.grid-stack.grid-stack-8>.grid-stack-item[gs-min-w=\\\"4\\\"]{min-width:50%}.grid-stack.grid-stack-8>.grid-stack-item[gs-max-w=\\\"4\\\"]{max-width:50%}.grid-stack.grid-stack-8>.grid-stack-item[gs-w=\\\"5\\\"]{width:62.5%}.grid-stack.grid-stack-8>.grid-stack-item[gs-x=\\\"5\\\"]{left:62.5%}.grid-stack.grid-stack-8>.grid-stack-item[gs-min-w=\\\"5\\\"]{min-width:62.5%}.grid-stack.grid-stack-8>.grid-stack-item[gs-max-w=\\\"5\\\"]{max-width:62.5%}.grid-stack.grid-stack-8>.grid-stack-item[gs-w=\\\"6\\\"]{width:75%}.grid-stack.grid-stack-8>.grid-stack-item[gs-x=\\\"6\\\"]{left:75%}.grid-stack.grid-stack-8>.grid-stack-item[gs-min-w=\\\"6\\\"]{min-width:75%}.grid-stack.grid-stack-8>.grid-stack-item[gs-max-w=\\\"6\\\"]{max-width:75%}.grid-stack.grid-stack-8>.grid-stack-item[gs-w=\\\"7\\\"]{width:87.5%}.grid-stack.grid-stack-8>.grid-stack-item[gs-x=\\\"7\\\"]{left:87.5%}.grid-stack.grid-stack-8>.grid-stack-item[gs-min-w=\\\"7\\\"]{min-width:87.5%}.grid-stack.grid-stack-8>.grid-stack-item[gs-max-w=\\\"7\\\"]{max-width:87.5%}.grid-stack.grid-stack-8>.grid-stack-item[gs-w=\\\"8\\\"]{width:100%}.grid-stack.grid-stack-8>.grid-stack-item[gs-x=\\\"8\\\"]{left:100%}.grid-stack.grid-stack-8>.grid-stack-item[gs-min-w=\\\"8\\\"]{min-width:100%}.grid-stack.grid-stack-8>.grid-stack-item[gs-max-w=\\\"8\\\"]{max-width:100%}.grid-stack.grid-stack-9>.grid-stack-item{min-width:11.1111111111%}.grid-stack.grid-stack-9>.grid-stack-item[gs-w=\\\"1\\\"]{width:11.1111111111%}.grid-stack.grid-stack-9>.grid-stack-item[gs-x=\\\"1\\\"]{left:11.1111111111%}.grid-stack.grid-stack-9>.grid-stack-item[gs-min-w=\\\"1\\\"]{min-width:11.1111111111%}.grid-stack.grid-stack-9>.grid-stack-item[gs-max-w=\\\"1\\\"]{max-width:11.1111111111%}.grid-stack.grid-stack-9>.grid-stack-item[gs-w=\\\"2\\\"]{width:22.2222222222%}.grid-stack.grid-stack-9>.grid-stack-item[gs-x=\\\"2\\\"]{left:22.2222222222%}.grid-stack.grid-stack-9>.grid-stack-item[gs-min-w=\\\"2\\\"]{min-width:22.2222222222%}.grid-stack.grid-stack-9>.grid-stack-item[gs-max-w=\\\"2\\\"]{max-width:22.2222222222%}.grid-stack.grid-stack-9>.grid-stack-item[gs-w=\\\"3\\\"]{width:33.3333333333%}.grid-stack.grid-stack-9>.grid-stack-item[gs-x=\\\"3\\\"]{left:33.3333333333%}.grid-stack.grid-stack-9>.grid-stack-item[gs-min-w=\\\"3\\\"]{min-width:33.3333333333%}.grid-stack.grid-stack-9>.grid-stack-item[gs-max-w=\\\"3\\\"]{max-width:33.3333333333%}.grid-stack.grid-stack-9>.grid-stack-item[gs-w=\\\"4\\\"]{width:44.4444444444%}.grid-stack.grid-stack-9>.grid-stack-item[gs-x=\\\"4\\\"]{left:44.4444444444%}.grid-stack.grid-stack-9>.grid-stack-item[gs-min-w=\\\"4\\\"]{min-width:44.4444444444%}.grid-stack.grid-stack-9>.grid-stack-item[gs-max-w=\\\"4\\\"]{max-width:44.4444444444%}.grid-stack.grid-stack-9>.grid-stack-item[gs-w=\\\"5\\\"]{width:55.5555555556%}.grid-stack.grid-stack-9>.grid-stack-item[gs-x=\\\"5\\\"]{left:55.5555555556%}.grid-stack.grid-stack-9>.grid-stack-item[gs-min-w=\\\"5\\\"]{min-width:55.5555555556%}.grid-stack.grid-stack-9>.grid-stack-item[gs-max-w=\\\"5\\\"]{max-width:55.5555555556%}.grid-stack.grid-stack-9>.grid-stack-item[gs-w=\\\"6\\\"]{width:66.6666666667%}.grid-stack.grid-stack-9>.grid-stack-item[gs-x=\\\"6\\\"]{left:66.6666666667%}.grid-stack.grid-stack-9>.grid-stack-item[gs-min-w=\\\"6\\\"]{min-width:66.6666666667%}.grid-stack.grid-stack-9>.grid-stack-item[gs-max-w=\\\"6\\\"]{max-width:66.6666666667%}.grid-stack.grid-stack-9>.grid-stack-item[gs-w=\\\"7\\\"]{width:77.7777777778%}.grid-stack.grid-stack-9>.grid-stack-item[gs-x=\\\"7\\\"]{left:77.7777777778%}.grid-stack.grid-stack-9>.grid-stack-item[gs-min-w=\\\"7\\\"]{min-width:77.7777777778%}.grid-stack.grid-stack-9>.grid-stack-item[gs-max-w=\\\"7\\\"]{max-width:77.7777777778%}.grid-stack.grid-stack-9>.grid-stack-item[gs-w=\\\"8\\\"]{width:88.8888888889%}.grid-stack.grid-stack-9>.grid-stack-item[gs-x=\\\"8\\\"]{left:88.8888888889%}.grid-stack.grid-stack-9>.grid-stack-item[gs-min-w=\\\"8\\\"]{min-width:88.8888888889%}.grid-stack.grid-stack-9>.grid-stack-item[gs-max-w=\\\"8\\\"]{max-width:88.8888888889%}.grid-stack.grid-stack-9>.grid-stack-item[gs-w=\\\"9\\\"]{width:100%}.grid-stack.grid-stack-9>.grid-stack-item[gs-x=\\\"9\\\"]{left:100%}.grid-stack.grid-stack-9>.grid-stack-item[gs-min-w=\\\"9\\\"]{min-width:100%}.grid-stack.grid-stack-9>.grid-stack-item[gs-max-w=\\\"9\\\"]{max-width:100%}.grid-stack.grid-stack-10>.grid-stack-item{min-width:10%}.grid-stack.grid-stack-10>.grid-stack-item[gs-w=\\\"1\\\"]{width:10%}.grid-stack.grid-stack-10>.grid-stack-item[gs-x=\\\"1\\\"]{left:10%}.grid-stack.grid-stack-10>.grid-stack-item[gs-min-w=\\\"1\\\"]{min-width:10%}.grid-stack.grid-stack-10>.grid-stack-item[gs-max-w=\\\"1\\\"]{max-width:10%}.grid-stack.grid-stack-10>.grid-stack-item[gs-w=\\\"2\\\"]{width:20%}.grid-stack.grid-stack-10>.grid-stack-item[gs-x=\\\"2\\\"]{left:20%}.grid-stack.grid-stack-10>.grid-stack-item[gs-min-w=\\\"2\\\"]{min-width:20%}.grid-stack.grid-stack-10>.grid-stack-item[gs-max-w=\\\"2\\\"]{max-width:20%}.grid-stack.grid-stack-10>.grid-stack-item[gs-w=\\\"3\\\"]{width:30%}.grid-stack.grid-stack-10>.grid-stack-item[gs-x=\\\"3\\\"]{left:30%}.grid-stack.grid-stack-10>.grid-stack-item[gs-min-w=\\\"3\\\"]{min-width:30%}.grid-stack.grid-stack-10>.grid-stack-item[gs-max-w=\\\"3\\\"]{max-width:30%}.grid-stack.grid-stack-10>.grid-stack-item[gs-w=\\\"4\\\"]{width:40%}.grid-stack.grid-stack-10>.grid-stack-item[gs-x=\\\"4\\\"]{left:40%}.grid-stack.grid-stack-10>.grid-stack-item[gs-min-w=\\\"4\\\"]{min-width:40%}.grid-stack.grid-stack-10>.grid-stack-item[gs-max-w=\\\"4\\\"]{max-width:40%}.grid-stack.grid-stack-10>.grid-stack-item[gs-w=\\\"5\\\"]{width:50%}.grid-stack.grid-stack-10>.grid-stack-item[gs-x=\\\"5\\\"]{left:50%}.grid-stack.grid-stack-10>.grid-stack-item[gs-min-w=\\\"5\\\"]{min-width:50%}.grid-stack.grid-stack-10>.grid-stack-item[gs-max-w=\\\"5\\\"]{max-width:50%}.grid-stack.grid-stack-10>.grid-stack-item[gs-w=\\\"6\\\"]{width:60%}.grid-stack.grid-stack-10>.grid-stack-item[gs-x=\\\"6\\\"]{left:60%}.grid-stack.grid-stack-10>.grid-stack-item[gs-min-w=\\\"6\\\"]{min-width:60%}.grid-stack.grid-stack-10>.grid-stack-item[gs-max-w=\\\"6\\\"]{max-width:60%}.grid-stack.grid-stack-10>.grid-stack-item[gs-w=\\\"7\\\"]{width:70%}.grid-stack.grid-stack-10>.grid-stack-item[gs-x=\\\"7\\\"]{left:70%}.grid-stack.grid-stack-10>.grid-stack-item[gs-min-w=\\\"7\\\"]{min-width:70%}.grid-stack.grid-stack-10>.grid-stack-item[gs-max-w=\\\"7\\\"]{max-width:70%}.grid-stack.grid-stack-10>.grid-stack-item[gs-w=\\\"8\\\"]{width:80%}.grid-stack.grid-stack-10>.grid-stack-item[gs-x=\\\"8\\\"]{left:80%}.grid-stack.grid-stack-10>.grid-stack-item[gs-min-w=\\\"8\\\"]{min-width:80%}.grid-stack.grid-stack-10>.grid-stack-item[gs-max-w=\\\"8\\\"]{max-width:80%}.grid-stack.grid-stack-10>.grid-stack-item[gs-w=\\\"9\\\"]{width:90%}.grid-stack.grid-stack-10>.grid-stack-item[gs-x=\\\"9\\\"]{left:90%}.grid-stack.grid-stack-10>.grid-stack-item[gs-min-w=\\\"9\\\"]{min-width:90%}.grid-stack.grid-stack-10>.grid-stack-item[gs-max-w=\\\"9\\\"]{max-width:90%}.grid-stack.grid-stack-10>.grid-stack-item[gs-w=\\\"10\\\"]{width:100%}.grid-stack.grid-stack-10>.grid-stack-item[gs-x=\\\"10\\\"]{left:100%}.grid-stack.grid-stack-10>.grid-stack-item[gs-min-w=\\\"10\\\"]{min-width:100%}.grid-stack.grid-stack-10>.grid-stack-item[gs-max-w=\\\"10\\\"]{max-width:100%}.grid-stack.grid-stack-11>.grid-stack-item{min-width:9.0909090909%}.grid-stack.grid-stack-11>.grid-stack-item[gs-w=\\\"1\\\"]{width:9.0909090909%}.grid-stack.grid-stack-11>.grid-stack-item[gs-x=\\\"1\\\"]{left:9.0909090909%}.grid-stack.grid-stack-11>.grid-stack-item[gs-min-w=\\\"1\\\"]{min-width:9.0909090909%}.grid-stack.grid-stack-11>.grid-stack-item[gs-max-w=\\\"1\\\"]{max-width:9.0909090909%}.grid-stack.grid-stack-11>.grid-stack-item[gs-w=\\\"2\\\"]{width:18.1818181818%}.grid-stack.grid-stack-11>.grid-stack-item[gs-x=\\\"2\\\"]{left:18.1818181818%}.grid-stack.grid-stack-11>.grid-stack-item[gs-min-w=\\\"2\\\"]{min-width:18.1818181818%}.grid-stack.grid-stack-11>.grid-stack-item[gs-max-w=\\\"2\\\"]{max-width:18.1818181818%}.grid-stack.grid-stack-11>.grid-stack-item[gs-w=\\\"3\\\"]{width:27.2727272727%}.grid-stack.grid-stack-11>.grid-stack-item[gs-x=\\\"3\\\"]{left:27.2727272727%}.grid-stack.grid-stack-11>.grid-stack-item[gs-min-w=\\\"3\\\"]{min-width:27.2727272727%}.grid-stack.grid-stack-11>.grid-stack-item[gs-max-w=\\\"3\\\"]{max-width:27.2727272727%}.grid-stack.grid-stack-11>.grid-stack-item[gs-w=\\\"4\\\"]{width:36.3636363636%}.grid-stack.grid-stack-11>.grid-stack-item[gs-x=\\\"4\\\"]{left:36.3636363636%}.grid-stack.grid-stack-11>.grid-stack-item[gs-min-w=\\\"4\\\"]{min-width:36.3636363636%}.grid-stack.grid-stack-11>.grid-stack-item[gs-max-w=\\\"4\\\"]{max-width:36.3636363636%}.grid-stack.grid-stack-11>.grid-stack-item[gs-w=\\\"5\\\"]{width:45.4545454545%}.grid-stack.grid-stack-11>.grid-stack-item[gs-x=\\\"5\\\"]{left:45.4545454545%}.grid-stack.grid-stack-11>.grid-stack-item[gs-min-w=\\\"5\\\"]{min-width:45.4545454545%}.grid-stack.grid-stack-11>.grid-stack-item[gs-max-w=\\\"5\\\"]{max-width:45.4545454545%}.grid-stack.grid-stack-11>.grid-stack-item[gs-w=\\\"6\\\"]{width:54.5454545455%}.grid-stack.grid-stack-11>.grid-stack-item[gs-x=\\\"6\\\"]{left:54.5454545455%}.grid-stack.grid-stack-11>.grid-stack-item[gs-min-w=\\\"6\\\"]{min-width:54.5454545455%}.grid-stack.grid-stack-11>.grid-stack-item[gs-max-w=\\\"6\\\"]{max-width:54.5454545455%}.grid-stack.grid-stack-11>.grid-stack-item[gs-w=\\\"7\\\"]{width:63.6363636364%}.grid-stack.grid-stack-11>.grid-stack-item[gs-x=\\\"7\\\"]{left:63.6363636364%}.grid-stack.grid-stack-11>.grid-stack-item[gs-min-w=\\\"7\\\"]{min-width:63.6363636364%}.grid-stack.grid-stack-11>.grid-stack-item[gs-max-w=\\\"7\\\"]{max-width:63.6363636364%}.grid-stack.grid-stack-11>.grid-stack-item[gs-w=\\\"8\\\"]{width:72.7272727273%}.grid-stack.grid-stack-11>.grid-stack-item[gs-x=\\\"8\\\"]{left:72.7272727273%}.grid-stack.grid-stack-11>.grid-stack-item[gs-min-w=\\\"8\\\"]{min-width:72.7272727273%}.grid-stack.grid-stack-11>.grid-stack-item[gs-max-w=\\\"8\\\"]{max-width:72.7272727273%}.grid-stack.grid-stack-11>.grid-stack-item[gs-w=\\\"9\\\"]{width:81.8181818182%}.grid-stack.grid-stack-11>.grid-stack-item[gs-x=\\\"9\\\"]{left:81.8181818182%}.grid-stack.grid-stack-11>.grid-stack-item[gs-min-w=\\\"9\\\"]{min-width:81.8181818182%}.grid-stack.grid-stack-11>.grid-stack-item[gs-max-w=\\\"9\\\"]{max-width:81.8181818182%}.grid-stack.grid-stack-11>.grid-stack-item[gs-w=\\\"10\\\"]{width:90.9090909091%}.grid-stack.grid-stack-11>.grid-stack-item[gs-x=\\\"10\\\"]{left:90.9090909091%}.grid-stack.grid-stack-11>.grid-stack-item[gs-min-w=\\\"10\\\"]{min-width:90.9090909091%}.grid-stack.grid-stack-11>.grid-stack-item[gs-max-w=\\\"10\\\"]{max-width:90.9090909091%}.grid-stack.grid-stack-11>.grid-stack-item[gs-w=\\\"11\\\"]{width:100%}.grid-stack.grid-stack-11>.grid-stack-item[gs-x=\\\"11\\\"]{left:100%}.grid-stack.grid-stack-11>.grid-stack-item[gs-min-w=\\\"11\\\"]{min-width:100%}.grid-stack.grid-stack-11>.grid-stack-item[gs-max-w=\\\"11\\\"]{max-width:100%}\");\n    },    function(Bokeh) {\n      inject_raw_css(\"\\n#sidebar { background-color: #fafafa; }\\n#sidebar > .mdc-drawer__content > .mdc-list { box-sizing: border-box; height: 100%; }\\n.grid-stack-item-content > * { margin: 0 !important; }\\n\");\n    },    function(Bokeh) {\n      Bokeh.set_log_level(\"info\");\n    },\nfunction(Bokeh) {} // ensure no trailing comma for IE\n  ];\n\n  function run_inline_js() {\n    if ((root.Bokeh !== undefined) || (force === true)) {\n      for (var i = 0; i < inline_js.length; i++) {\n        inline_js[i].call(root, root.Bokeh);\n      }\n      // Cache old bokeh versions\n      if (Bokeh != undefined && !reloading) {\n\tvar NewBokeh = root.Bokeh;\n\tif (Bokeh.versions === undefined) {\n\t  Bokeh.versions = new Map();\n\t}\n\tif (NewBokeh.version !== Bokeh.version) {\n\t  Bokeh.versions.set(NewBokeh.version, NewBokeh)\n\t}\n\troot.Bokeh = Bokeh;\n      }} else if (Date.now() < root._bokeh_timeout) {\n      setTimeout(run_inline_js, 100);\n    } else if (!root._bokeh_failed_load) {\n      console.log(\"Bokeh: BokehJS failed to load within specified timeout.\");\n      root._bokeh_failed_load = true;\n    }\n    root._bokeh_is_initializing = false\n  }\n\n  function load_or_wait() {\n    // Implement a backoff loop that tries to ensure we do not load multiple\n    // versions of Bokeh and its dependencies at the same time.\n    // In recent versions we use the root._bokeh_is_initializing flag\n    // to determine whether there is an ongoing attempt to initialize\n    // bokeh, however for backward compatibility we also try to ensure\n    // that we do not start loading a newer (Panel>=1.0 and Bokeh>3) version\n    // before older versions are fully initialized.\n    if (root._bokeh_is_initializing && Date.now() > root._bokeh_timeout) {\n      root._bokeh_is_initializing = false;\n      root._bokeh_onload_callbacks = undefined;\n      console.log(\"Bokeh: BokehJS was loaded multiple times but one version failed to initialize.\");\n      load_or_wait();\n    } else if (root._bokeh_is_initializing || (typeof root._bokeh_is_initializing === \"undefined\" && root._bokeh_onload_callbacks !== undefined)) {\n      setTimeout(load_or_wait, 100);\n    } else {\n      Bokeh = root.Bokeh;\n      bokeh_loaded = Bokeh != null && (Bokeh.version === py_version || (Bokeh.versions !== undefined && Bokeh.versions.has(py_version)));\n      root._bokeh_is_initializing = true\n      root._bokeh_onload_callbacks = []\n      if (!reloading && (!bokeh_loaded || is_dev)) {\n\troot.Bokeh = undefined;\n      }\n      load_libs(css_urls, js_urls, js_modules, js_exports, function() {\n\tconsole.debug(\"Bokeh: BokehJS plotting callback run at\", now());\n\trun_inline_js();\n      });\n    }\n  }\n  // Give older versions of the autoload script a head-start to ensure\n  // they initialize before we start loading newer version.\n  setTimeout(load_or_wait, 100)\n}(window));",
      "application/vnd.holoviews_load.v0+json": ""
     },
     "metadata": {},
     "output_type": "display_data"
    },
    {
     "data": {
      "application/javascript": "\nif ((window.PyViz === undefined) || (window.PyViz instanceof HTMLElement)) {\n  window.PyViz = {comms: {}, comm_status:{}, kernels:{}, receivers: {}, plot_index: []}\n}\n\n\n    function JupyterCommManager() {\n    }\n\n    JupyterCommManager.prototype.register_target = function(plot_id, comm_id, msg_handler) {\n      if (window.comm_manager || ((window.Jupyter !== undefined) && (Jupyter.notebook.kernel != null))) {\n        var comm_manager = window.comm_manager || Jupyter.notebook.kernel.comm_manager;\n        comm_manager.register_target(comm_id, function(comm) {\n          comm.on_msg(msg_handler);\n        });\n      } else if ((plot_id in window.PyViz.kernels) && (window.PyViz.kernels[plot_id])) {\n        window.PyViz.kernels[plot_id].registerCommTarget(comm_id, function(comm) {\n          comm.onMsg = msg_handler;\n        });\n      } else if (typeof google != 'undefined' && google.colab.kernel != null) {\n        google.colab.kernel.comms.registerTarget(comm_id, (comm) => {\n          var messages = comm.messages[Symbol.asyncIterator]();\n          function processIteratorResult(result) {\n            var message = result.value;\n            console.log(message)\n            var content = {data: message.data, comm_id};\n            var buffers = []\n            for (var buffer of message.buffers || []) {\n              buffers.push(new DataView(buffer))\n            }\n            var metadata = message.metadata || {};\n            var msg = {content, buffers, metadata}\n            msg_handler(msg);\n            return messages.next().then(processIteratorResult);\n          }\n          return messages.next().then(processIteratorResult);\n        })\n      }\n    }\n\n    JupyterCommManager.prototype.get_client_comm = function(plot_id, comm_id, msg_handler) {\n      if (comm_id in window.PyViz.comms) {\n        return window.PyViz.comms[comm_id];\n      } else if (window.comm_manager || ((window.Jupyter !== undefined) && (Jupyter.notebook.kernel != null))) {\n        var comm_manager = window.comm_manager || Jupyter.notebook.kernel.comm_manager;\n        var comm = comm_manager.new_comm(comm_id, {}, {}, {}, comm_id);\n        if (msg_handler) {\n          comm.on_msg(msg_handler);\n        }\n      } else if ((plot_id in window.PyViz.kernels) && (window.PyViz.kernels[plot_id])) {\n        var comm = window.PyViz.kernels[plot_id].connectToComm(comm_id);\n        comm.open();\n        if (msg_handler) {\n          comm.onMsg = msg_handler;\n        }\n      } else if (typeof google != 'undefined' && google.colab.kernel != null) {\n        var comm_promise = google.colab.kernel.comms.open(comm_id)\n        comm_promise.then((comm) => {\n          window.PyViz.comms[comm_id] = comm;\n          if (msg_handler) {\n            var messages = comm.messages[Symbol.asyncIterator]();\n            function processIteratorResult(result) {\n              var message = result.value;\n              var content = {data: message.data};\n              var metadata = message.metadata || {comm_id};\n              var msg = {content, metadata}\n              msg_handler(msg);\n              return messages.next().then(processIteratorResult);\n            }\n            return messages.next().then(processIteratorResult);\n          }\n        }) \n        var sendClosure = (data, metadata, buffers, disposeOnDone) => {\n          return comm_promise.then((comm) => {\n            comm.send(data, metadata, buffers, disposeOnDone);\n          });\n        };\n        var comm = {\n          send: sendClosure\n        };\n      }\n      window.PyViz.comms[comm_id] = comm;\n      return comm;\n    }\n    window.PyViz.comm_manager = new JupyterCommManager();\n    \n\n\nvar JS_MIME_TYPE = 'application/javascript';\nvar HTML_MIME_TYPE = 'text/html';\nvar EXEC_MIME_TYPE = 'application/vnd.holoviews_exec.v0+json';\nvar CLASS_NAME = 'output';\n\n/**\n * Render data to the DOM node\n */\nfunction render(props, node) {\n  var div = document.createElement(\"div\");\n  var script = document.createElement(\"script\");\n  node.appendChild(div);\n  node.appendChild(script);\n}\n\n/**\n * Handle when a new output is added\n */\nfunction handle_add_output(event, handle) {\n  var output_area = handle.output_area;\n  var output = handle.output;\n  if ((output.data == undefined) || (!output.data.hasOwnProperty(EXEC_MIME_TYPE))) {\n    return\n  }\n  var id = output.metadata[EXEC_MIME_TYPE][\"id\"];\n  var toinsert = output_area.element.find(\".\" + CLASS_NAME.split(' ')[0]);\n  if (id !== undefined) {\n    var nchildren = toinsert.length;\n    var html_node = toinsert[nchildren-1].children[0];\n    html_node.innerHTML = output.data[HTML_MIME_TYPE];\n    var scripts = [];\n    var nodelist = html_node.querySelectorAll(\"script\");\n    for (var i in nodelist) {\n      if (nodelist.hasOwnProperty(i)) {\n        scripts.push(nodelist[i])\n      }\n    }\n\n    scripts.forEach( function (oldScript) {\n      var newScript = document.createElement(\"script\");\n      var attrs = [];\n      var nodemap = oldScript.attributes;\n      for (var j in nodemap) {\n        if (nodemap.hasOwnProperty(j)) {\n          attrs.push(nodemap[j])\n        }\n      }\n      attrs.forEach(function(attr) { newScript.setAttribute(attr.name, attr.value) });\n      newScript.appendChild(document.createTextNode(oldScript.innerHTML));\n      oldScript.parentNode.replaceChild(newScript, oldScript);\n    });\n    if (JS_MIME_TYPE in output.data) {\n      toinsert[nchildren-1].children[1].textContent = output.data[JS_MIME_TYPE];\n    }\n    output_area._hv_plot_id = id;\n    if ((window.Bokeh !== undefined) && (id in Bokeh.index)) {\n      window.PyViz.plot_index[id] = Bokeh.index[id];\n    } else {\n      window.PyViz.plot_index[id] = null;\n    }\n  } else if (output.metadata[EXEC_MIME_TYPE][\"server_id\"] !== undefined) {\n    var bk_div = document.createElement(\"div\");\n    bk_div.innerHTML = output.data[HTML_MIME_TYPE];\n    var script_attrs = bk_div.children[0].attributes;\n    for (var i = 0; i < script_attrs.length; i++) {\n      toinsert[toinsert.length - 1].childNodes[1].setAttribute(script_attrs[i].name, script_attrs[i].value);\n    }\n    // store reference to server id on output_area\n    output_area._bokeh_server_id = output.metadata[EXEC_MIME_TYPE][\"server_id\"];\n  }\n}\n\n/**\n * Handle when an output is cleared or removed\n */\nfunction handle_clear_output(event, handle) {\n  var id = handle.cell.output_area._hv_plot_id;\n  var server_id = handle.cell.output_area._bokeh_server_id;\n  if (((id === undefined) || !(id in PyViz.plot_index)) && (server_id !== undefined)) { return; }\n  var comm = window.PyViz.comm_manager.get_client_comm(\"hv-extension-comm\", \"hv-extension-comm\", function () {});\n  if (server_id !== null) {\n    comm.send({event_type: 'server_delete', 'id': server_id});\n    return;\n  } else if (comm !== null) {\n    comm.send({event_type: 'delete', 'id': id});\n  }\n  delete PyViz.plot_index[id];\n  if ((window.Bokeh !== undefined) & (id in window.Bokeh.index)) {\n    var doc = window.Bokeh.index[id].model.document\n    doc.clear();\n    const i = window.Bokeh.documents.indexOf(doc);\n    if (i > -1) {\n      window.Bokeh.documents.splice(i, 1);\n    }\n  }\n}\n\n/**\n * Handle kernel restart event\n */\nfunction handle_kernel_cleanup(event, handle) {\n  delete PyViz.comms[\"hv-extension-comm\"];\n  window.PyViz.plot_index = {}\n}\n\n/**\n * Handle update_display_data messages\n */\nfunction handle_update_output(event, handle) {\n  handle_clear_output(event, {cell: {output_area: handle.output_area}})\n  handle_add_output(event, handle)\n}\n\nfunction register_renderer(events, OutputArea) {\n  function append_mime(data, metadata, element) {\n    // create a DOM node to render to\n    var toinsert = this.create_output_subarea(\n    metadata,\n    CLASS_NAME,\n    EXEC_MIME_TYPE\n    );\n    this.keyboard_manager.register_events(toinsert);\n    // Render to node\n    var props = {data: data, metadata: metadata[EXEC_MIME_TYPE]};\n    render(props, toinsert[0]);\n    element.append(toinsert);\n    return toinsert\n  }\n\n  events.on('output_added.OutputArea', handle_add_output);\n  events.on('output_updated.OutputArea', handle_update_output);\n  events.on('clear_output.CodeCell', handle_clear_output);\n  events.on('delete.Cell', handle_clear_output);\n  events.on('kernel_ready.Kernel', handle_kernel_cleanup);\n\n  OutputArea.prototype.register_mime_type(EXEC_MIME_TYPE, append_mime, {\n    safe: true,\n    index: 0\n  });\n}\n\nif (window.Jupyter !== undefined) {\n  try {\n    var events = require('base/js/events');\n    var OutputArea = require('notebook/js/outputarea').OutputArea;\n    if (OutputArea.prototype.mime_types().indexOf(EXEC_MIME_TYPE) == -1) {\n      register_renderer(events, OutputArea);\n    }\n  } catch(err) {\n  }\n}\n",
      "application/vnd.holoviews_load.v0+json": ""
     },
     "metadata": {},
     "output_type": "display_data"
    },
    {
     "data": {
      "text/html": [
       "<style>*[data-root-id],\n",
       "*[data-root-id] > * {\n",
       "  box-sizing: border-box;\n",
       "  font-family: var(--jp-ui-font-family);\n",
       "  font-size: var(--jp-ui-font-size1);\n",
       "  color: var(--vscode-editor-foreground, var(--jp-ui-font-color1));\n",
       "}\n",
       "\n",
       "/* Override VSCode background color */\n",
       ".cell-output-ipywidget-background:has(\n",
       "    > .cell-output-ipywidget-background > .lm-Widget > *[data-root-id]\n",
       "  ),\n",
       ".cell-output-ipywidget-background:has(> .lm-Widget > *[data-root-id]) {\n",
       "  background-color: transparent !important;\n",
       "}\n",
       "</style>"
      ]
     },
     "metadata": {},
     "output_type": "display_data"
    },
    {
     "data": {
      "application/vnd.holoviews_exec.v0+json": "",
      "text/html": [
       "<div id='3f276845-c1be-4f93-b39c-c80e29f250d4'>\n",
       "  <div id=\"ce101580-3c06-423f-9c5c-331f7de7cba1\" data-root-id=\"3f276845-c1be-4f93-b39c-c80e29f250d4\" style=\"display: contents;\"></div>\n",
       "</div>\n",
       "<script type=\"application/javascript\">(function(root) {\n",
       "  var docs_json = {\"8450bacc-9071-489f-aa32-336746460c13\":{\"version\":\"3.2.2\",\"title\":\"Bokeh Application\",\"roots\":[{\"type\":\"object\",\"name\":\"panel.models.browser.BrowserInfo\",\"id\":\"3f276845-c1be-4f93-b39c-c80e29f250d4\"},{\"type\":\"object\",\"name\":\"panel.models.comm_manager.CommManager\",\"id\":\"6f15d217-e630-429a-aa33-9699879c18c6\",\"attributes\":{\"plot_id\":\"3f276845-c1be-4f93-b39c-c80e29f250d4\",\"comm_id\":\"370fa4f890d241c7861d1a13390e5dfe\",\"client_comm_id\":\"244e699aab784185a9679965cb77225a\"}}],\"defs\":[{\"type\":\"model\",\"name\":\"ReactiveHTML1\"},{\"type\":\"model\",\"name\":\"FlexBox1\",\"properties\":[{\"name\":\"align_content\",\"kind\":\"Any\",\"default\":\"flex-start\"},{\"name\":\"align_items\",\"kind\":\"Any\",\"default\":\"flex-start\"},{\"name\":\"flex_direction\",\"kind\":\"Any\",\"default\":\"row\"},{\"name\":\"flex_wrap\",\"kind\":\"Any\",\"default\":\"wrap\"},{\"name\":\"justify_content\",\"kind\":\"Any\",\"default\":\"flex-start\"}]},{\"type\":\"model\",\"name\":\"FloatPanel1\",\"properties\":[{\"name\":\"config\",\"kind\":\"Any\",\"default\":{\"type\":\"map\"}},{\"name\":\"contained\",\"kind\":\"Any\",\"default\":true},{\"name\":\"position\",\"kind\":\"Any\",\"default\":\"right-top\"},{\"name\":\"offsetx\",\"kind\":\"Any\",\"default\":null},{\"name\":\"offsety\",\"kind\":\"Any\",\"default\":null},{\"name\":\"theme\",\"kind\":\"Any\",\"default\":\"primary\"},{\"name\":\"status\",\"kind\":\"Any\",\"default\":\"normalized\"}]},{\"type\":\"model\",\"name\":\"GridStack1\",\"properties\":[{\"name\":\"mode\",\"kind\":\"Any\",\"default\":\"warn\"},{\"name\":\"ncols\",\"kind\":\"Any\",\"default\":null},{\"name\":\"nrows\",\"kind\":\"Any\",\"default\":null},{\"name\":\"allow_resize\",\"kind\":\"Any\",\"default\":true},{\"name\":\"allow_drag\",\"kind\":\"Any\",\"default\":true},{\"name\":\"state\",\"kind\":\"Any\",\"default\":[]}]},{\"type\":\"model\",\"name\":\"drag1\",\"properties\":[{\"name\":\"slider_width\",\"kind\":\"Any\",\"default\":5},{\"name\":\"slider_color\",\"kind\":\"Any\",\"default\":\"black\"},{\"name\":\"value\",\"kind\":\"Any\",\"default\":50}]},{\"type\":\"model\",\"name\":\"click1\",\"properties\":[{\"name\":\"terminal_output\",\"kind\":\"Any\",\"default\":\"\"},{\"name\":\"debug_name\",\"kind\":\"Any\",\"default\":\"\"},{\"name\":\"clears\",\"kind\":\"Any\",\"default\":0}]},{\"type\":\"model\",\"name\":\"FastWrapper1\",\"properties\":[{\"name\":\"object\",\"kind\":\"Any\",\"default\":null},{\"name\":\"style\",\"kind\":\"Any\",\"default\":null}]},{\"type\":\"model\",\"name\":\"NotificationAreaBase1\",\"properties\":[{\"name\":\"js_events\",\"kind\":\"Any\",\"default\":{\"type\":\"map\"}},{\"name\":\"position\",\"kind\":\"Any\",\"default\":\"bottom-right\"},{\"name\":\"_clear\",\"kind\":\"Any\",\"default\":0}]},{\"type\":\"model\",\"name\":\"NotificationArea1\",\"properties\":[{\"name\":\"js_events\",\"kind\":\"Any\",\"default\":{\"type\":\"map\"}},{\"name\":\"notifications\",\"kind\":\"Any\",\"default\":[]},{\"name\":\"position\",\"kind\":\"Any\",\"default\":\"bottom-right\"},{\"name\":\"_clear\",\"kind\":\"Any\",\"default\":0},{\"name\":\"types\",\"kind\":\"Any\",\"default\":[{\"type\":\"map\",\"entries\":[[\"type\",\"warning\"],[\"background\",\"#ffc107\"],[\"icon\",{\"type\":\"map\",\"entries\":[[\"className\",\"fas fa-exclamation-triangle\"],[\"tagName\",\"i\"],[\"color\",\"white\"]]}]]},{\"type\":\"map\",\"entries\":[[\"type\",\"info\"],[\"background\",\"#007bff\"],[\"icon\",{\"type\":\"map\",\"entries\":[[\"className\",\"fas fa-info-circle\"],[\"tagName\",\"i\"],[\"color\",\"white\"]]}]]}]}]},{\"type\":\"model\",\"name\":\"Notification\",\"properties\":[{\"name\":\"background\",\"kind\":\"Any\",\"default\":null},{\"name\":\"duration\",\"kind\":\"Any\",\"default\":3000},{\"name\":\"icon\",\"kind\":\"Any\",\"default\":null},{\"name\":\"message\",\"kind\":\"Any\",\"default\":\"\"},{\"name\":\"notification_type\",\"kind\":\"Any\",\"default\":null},{\"name\":\"_destroyed\",\"kind\":\"Any\",\"default\":false}]},{\"type\":\"model\",\"name\":\"TemplateActions1\",\"properties\":[{\"name\":\"open_modal\",\"kind\":\"Any\",\"default\":0},{\"name\":\"close_modal\",\"kind\":\"Any\",\"default\":0}]},{\"type\":\"model\",\"name\":\"BootstrapTemplateActions1\",\"properties\":[{\"name\":\"open_modal\",\"kind\":\"Any\",\"default\":0},{\"name\":\"close_modal\",\"kind\":\"Any\",\"default\":0}]},{\"type\":\"model\",\"name\":\"MaterialTemplateActions1\",\"properties\":[{\"name\":\"open_modal\",\"kind\":\"Any\",\"default\":0},{\"name\":\"close_modal\",\"kind\":\"Any\",\"default\":0}]},{\"type\":\"model\",\"name\":\"Grid1\"}]}};\n",
       "  var render_items = [{\"docid\":\"8450bacc-9071-489f-aa32-336746460c13\",\"roots\":{\"3f276845-c1be-4f93-b39c-c80e29f250d4\":\"ce101580-3c06-423f-9c5c-331f7de7cba1\"},\"root_ids\":[\"3f276845-c1be-4f93-b39c-c80e29f250d4\"]}];\n",
       "  var docs = Object.values(docs_json)\n",
       "  if (!docs) {\n",
       "    return\n",
       "  }\n",
       "  const py_version = docs[0].version.replace('rc', '-rc.').replace('.dev', '-dev.')\n",
       "  const is_dev = py_version.indexOf(\"+\") !== -1 || py_version.indexOf(\"-\") !== -1\n",
       "  function embed_document(root) {\n",
       "    var Bokeh = get_bokeh(root)\n",
       "    Bokeh.embed.embed_items_notebook(docs_json, render_items);\n",
       "    for (const render_item of render_items) {\n",
       "      for (const root_id of render_item.root_ids) {\n",
       "\tconst id_el = document.getElementById(root_id)\n",
       "\tif (id_el.children.length && (id_el.children[0].className === 'bk-root')) {\n",
       "\t  const root_el = id_el.children[0]\n",
       "\t  root_el.id = root_el.id + '-rendered'\n",
       "\t}\n",
       "      }\n",
       "    }\n",
       "  }\n",
       "  function get_bokeh(root) {\n",
       "    if (root.Bokeh === undefined) {\n",
       "      return null\n",
       "    } else if (root.Bokeh.version !== py_version && !is_dev) {\n",
       "      if (root.Bokeh.versions === undefined || !root.Bokeh.versions.has(py_version)) {\n",
       "\treturn null\n",
       "      }\n",
       "      return root.Bokeh.versions.get(py_version);\n",
       "    } else if (root.Bokeh.version === py_version) {\n",
       "      return root.Bokeh\n",
       "    }\n",
       "    return null\n",
       "  }\n",
       "  function is_loaded(root) {\n",
       "    var Bokeh = get_bokeh(root)\n",
       "    return (Bokeh != null && Bokeh.Panel !== undefined && ( root['Terminal'] !== undefined|| root['xtermjs'] !== undefined) && ( root['Tabulator'] !== undefined) && ( root['Plotly'] !== undefined) && ( root['MathJax'] !== undefined) && ( root['Terminal'] !== undefined|| root['xtermjs'] !== undefined) && ( root['GridStack'] !== undefined) && ( root['Tabulator'] !== undefined) && ( root['Plotly'] !== undefined) && ( root['MathJax'] !== undefined))\n",
       "  }\n",
       "  if (is_loaded(root)) {\n",
       "    embed_document(root);\n",
       "  } else {\n",
       "    var attempts = 0;\n",
       "    var timer = setInterval(function(root) {\n",
       "      if (is_loaded(root)) {\n",
       "        clearInterval(timer);\n",
       "        embed_document(root);\n",
       "      } else if (document.readyState == \"complete\") {\n",
       "        attempts++;\n",
       "        if (attempts > 200) {\n",
       "          clearInterval(timer);\n",
       "\t  var Bokeh = get_bokeh(root)\n",
       "\t  if (Bokeh == null || Bokeh.Panel == null) {\n",
       "            console.warn(\"Panel: ERROR: Unable to run Panel code because Bokeh or Panel library is missing\");\n",
       "\t  } else {\n",
       "\t    console.warn(\"Panel: WARNING: Attempting to render but not all required libraries could be resolved.\")\n",
       "\t    embed_document(root)\n",
       "\t  }\n",
       "        }\n",
       "      }\n",
       "    }, 25, root)\n",
       "  }\n",
       "})(window);</script>"
      ]
     },
     "metadata": {
      "application/vnd.holoviews_exec.v0+json": {
       "id": "3f276845-c1be-4f93-b39c-c80e29f250d4"
      }
     },
     "output_type": "display_data"
    }
   ],
   "source": [
    "import manganite\n",
    "%load_ext manganite"
   ]
  },
  {
   "cell_type": "markdown",
   "metadata": {},
   "source": [
    "# Workforce Scheduling Problem\n",
    "\n",
    "## Objective and Prerequisites\n",
    "\n",
    "In this example, you’ll learn how to solve a critical, central problem in the services industry: workforce scheduling. We’ll demonstrate how you can use mathematical optimization to generate an optimal workforce schedule that meets your business requirements, maximizes employee fairness and satisfaction, and minimizes the number of temporary workers your company needs to hire.\n",
    "\n",
    "This modeling example is at the advanced level, where we assume that you know Python and the Gurobi Python API and that you have advanced knowledge of building mathematical optimization models. Typically, the objective function and/or constraints of these examples are complex or require advanced features of the Gurobi Python API.\n",
    "\n",
    "**Download the Repository** <br />\n",
    "You can download the repository containing this and other examples by clicking [here](https://github.com/Gurobi/modeling-examples/archive/master.zip). \n",
    "\n",
    "**Gurobi License** <br />\n",
    "In order to run this Jupyter Notebook properly, you must have a Gurobi license. If you do not have one, you can request an [evaluation license](https://www.gurobi.com/downloads/request-an-evaluation-license/?utm_source=3PW&utm_medium=OT&utm_campaign=WW-MU-PRO-OR-O_LEA-PR_NO-Q3_FY20_WW_JPME_workforce-scheduling_COM_EVAL_GITHUB_&utm_term=workforce-scheduling-problem&utm_content=C_JPM) as a *commercial user*, or download a [free license](https://www.gurobi.com/academia/academic-program-and-licenses/?utm_source=3PW&utm_medium=OT&utm_campaign=WW-MU-PRO-OR-O_LEA-PR_NO-Q3_FY20_WW_JPME_workforce-scheduling_ACADEMIC_EVAL_GITHUB_&utm_term=workforce-scheduling-problem&utm_content=C_JPM) as an *academic user*.\n",
    "\n",
    "## Motivation\n",
    "People are the most important asset for companies in the services industry as well as their largest source of costs.\n",
    "Workforce allocation and personnel scheduling deal with the arrangement of work schedules  and the assignment of personnel shifts in order to cover the demand for resources that vary over time.\n",
    "\n",
    "These problems are very important for companies in the services industries who rely on workforce resources such as:\n",
    "- Telephone operators\n",
    "- Hospital nurses\n",
    "- Policemen\n",
    "- Transportation personnel (plane crews, bus drivers, etc.)\n",
    "- Hospitality personnel\n",
    "- Restaurant personnel\n",
    "\n",
    "## Problem Description\n",
    "\n",
    "Consider a service business, like a restaurant, that develops its workforce plans for the next two weeks (considering a 7-day week). The service requires only one set of skills. There are a number of employed workers with the same set of skills and with identical productivity that are available to work on some of the days during the two-week planning horizon. There is only one shift per workday. Each shift may have different resource (worker) requirements on each workday. The service business may hire extra (temp) workers from an agency to satisfy shift requirements. The service business wants to minimize the number of extra workers that it needs to hire, and as a secondary objective, it wants to balance the workload of employed workers to ensure fairness."
   ]
  },
  {
   "cell_type": "code",
   "execution_count": 23,
   "metadata": {},
   "outputs": [],
   "source": [
    "# This command imports the Gurobi functions and classes.\n",
    "\n",
    "import gurobipy as gp\n",
    "from gurobipy import GRB\n",
    "\n",
    "\n",
    "import pandas as pd\n",
    "from pylab import *\n",
    "import matplotlib\n",
    "import matplotlib.pyplot as plt"
   ]
  },
  {
   "cell_type": "markdown",
   "metadata": {},
   "source": [
    "## Input Data\n",
    "\n",
    "We define all the input data of the model.\n",
    "\n",
    "### Parameter\n",
    "\n",
    "$\\text{shiftRequirements}(s) \\in \\mathbb{N}$: This parameter represents the number of workers required at each shift \n",
    "$s \\in \\text{shifts}$."
   ]
  },
  {
   "cell_type": "code",
   "execution_count": 41,
   "metadata": {},
   "outputs": [],
   "source": [
    "%%mnn widget --type table --tab \"Input\"  --header \"Number of workers required for each shift\" --var df_shift\n",
    "\n",
    "df_shift = pd.DataFrame({ \"Day\": [ \"Mon1\", \"Tue2\", \"Wed3\", \"Thu4\", \"Fri5\", \"Sat6\", \"Sun7\", \"Mon8\", \"Tue9\",\"Wed10\",\"Thu11\",\"Fri12\",\"Sat13\",\"Sun14\"],\n",
    "\"Requirement\" : [3,2,4,4,5,6,5,2,2,3,4,6,7,5]})\n",
    "# Number of workers required for each shift.\n",
    "shifts, shiftRequirements = gp.multidict(dict(zip(df_shift['Day'].to_list(),df_shift['Requirement'].to_list())))\n",
    "# shifts, shiftRequirements = gp.multidict({\n",
    "#   \"Mon1\":  3,\n",
    "#   \"Tue2\":  2,\n",
    "#   \"Wed3\":  4,\n",
    "#   \"Thu4\":  4,\n",
    "#   \"Fri5\":  5,\n",
    "#   \"Sat6\":  6,\n",
    "#   \"Sun7\":  5,\n",
    "#   \"Mon8\":  2,\n",
    "#   \"Tue9\":  2,\n",
    "#   \"Wed10\": 3,\n",
    "#   \"Thu11\": 4,\n",
    "#   \"Fri12\": 6,\n",
    "#   \"Sat13\": 7,\n",
    "#   \"Sun14\": 5 })"
   ]
  },
  {
   "cell_type": "markdown",
   "metadata": {},
   "source": [
    "### Parameter\n",
    "\n",
    "$pay(w) \\in \\mathbb{R^{+}}$: This parameter is the salary per day of each worker $w \\in workers$. "
   ]
  },
  {
   "cell_type": "code",
   "execution_count": 34,
   "metadata": {},
   "outputs": [],
   "source": [
    "%%mnn widget --type table --tab \"Input\" --position 0 0 3 --header \"Each workers wage to work one shift\" --var df_wp\n",
    "df_wp = pd.DataFrame({\"Workers\": [\"Amy\",\"Bob\",\"Cathy\",\"Dan\",\"Ed\",\"Fred\",\"Gu\"], \"Pay\": [10,12,10,8,8,9,11] })\n",
    "# Amount each worker is paid to work one shift.\n",
    "workers, pay =  gp.multidict(dict(zip(df_wp['Workers'].to_list(),df_wp['Pay'].to_list())))\n",
    "# workers, pay = gp.multidict({\n",
    "#   \"Amy\":   10,\n",
    "#   \"Bob\":   12,\n",
    "#   \"Cathy\": 10,\n",
    "#   \"Dan\":   8,\n",
    "#   \"Ed\":    8,\n",
    "#   \"Fred\":  9,\n",
    "#   \"Gu\":    11 })"
   ]
  },
  {
   "cell_type": "markdown",
   "metadata": {},
   "source": [
    "### Set\n",
    "\n",
    "$availability= \\{(w,s): w \\in workers \\; \\text{is available for} \\; s \\in \\text{shifts} \\}$: This set determines that the employed worker  $w$ is available to work on shift $s$.\n",
    "\n"
   ]
  },
  {
   "cell_type": "code",
   "execution_count": 46,
   "metadata": {},
   "outputs": [],
   "source": [
    "# Worker availability: defines on which day each employed worker is available.\n",
    "# to be visualised\n",
    "availability = gp.tuplelist([\n",
    "('Amy', 'Tue2'), ('Amy', 'Wed3'), ('Amy', 'Fri5'), ('Amy', 'Sun7'),\n",
    "('Amy', 'Tue9'), ('Amy', 'Wed10'), ('Amy', 'Thu11'), ('Amy', 'Fri12'),\n",
    "('Amy', 'Sat13'), ('Amy', 'Sun14'), ('Bob', 'Mon1'), ('Bob', 'Tue2'),\n",
    "('Bob', 'Fri5'), ('Bob', 'Sat6'), ('Bob', 'Mon8'), ('Bob', 'Thu11'),\n",
    "('Bob', 'Sat13'), ('Cathy', 'Wed3'), ('Cathy', 'Thu4'), ('Cathy', 'Fri5'),\n",
    "('Cathy', 'Sun7'), ('Cathy', 'Mon8'), ('Cathy', 'Tue9'), ('Cathy', 'Wed10'),\n",
    "('Cathy', 'Thu11'), ('Cathy', 'Fri12'), ('Cathy', 'Sat13'),\n",
    "('Cathy', 'Sun14'), ('Dan', 'Tue2'), ('Dan', 'Wed3'), ('Dan', 'Fri5'),\n",
    "('Dan', 'Sat6'), ('Dan', 'Mon8'), ('Dan', 'Tue9'), ('Dan', 'Wed10'),\n",
    "('Dan', 'Thu11'), ('Dan', 'Fri12'), ('Dan', 'Sat13'), ('Dan', 'Sun14'),\n",
    "('Ed', 'Mon1'), ('Ed', 'Tue2'), ('Ed', 'Wed3'), ('Ed', 'Thu4'),\n",
    "('Ed', 'Fri5'), ('Ed', 'Sun7'), ('Ed', 'Mon8'), ('Ed', 'Tue9'),\n",
    "('Ed', 'Thu11'), ('Ed', 'Sat13'), ('Ed', 'Sun14'), ('Fred', 'Mon1'),\n",
    "('Fred', 'Tue2'), ('Fred', 'Wed3'), ('Fred', 'Sat6'), ('Fred', 'Mon8'),\n",
    "('Fred', 'Tue9'), ('Fred', 'Fri12'), ('Fred', 'Sat13'), ('Fred', 'Sun14'),\n",
    "('Gu', 'Mon1'), ('Gu', 'Tue2'), ('Gu', 'Wed3'), ('Gu', 'Fri5'),\n",
    "('Gu', 'Sat6'), ('Gu', 'Sun7'), ('Gu', 'Mon8'), ('Gu', 'Tue9'),\n",
    "('Gu', 'Wed10'), ('Gu', 'Thu11'), ('Gu', 'Fri12'), ('Gu', 'Sat13'),\n",
    "('Gu', 'Sun14')\n",
    "])"
   ]
  },
  {
   "cell_type": "markdown",
   "metadata": {},
   "source": [
    "## Model Deployment"
   ]
  },
  {
   "cell_type": "code",
   "execution_count": null,
   "metadata": {},
   "outputs": [],
   "source": [
    "%%mnn execute --on button \"Optimize Shifts\" --returns optimisation_done\n",
    "\n",
    "# Create initial model.\n",
    "m = gp.Model(\"workforce5\")\n",
    "\n",
    "# Initialize assignment decision variables.\n",
    "\n",
    "x = m.addVars(availability, vtype=GRB.BINARY, name=\"x\")\n",
    "\n",
    "# Slack decision variables determine the number of extra workers required to satisfy the requirements \n",
    "# of each shift\n",
    "slacks = m.addVars(shifts, name=\"Slack\")\n",
    "# Auxiliary variable totSlack to represent the total number of extra workers required to satisfy the \n",
    "# requirements of all the shifts.\n",
    "totSlack = m.addVar(name='totSlack')\n",
    "# Auxiliary variable totShifts counts the total shifts worked by each employed worker\n",
    "totShifts = m.addVars(workers, name=\"TotShifts\")\n",
    "# Constraint: All shifts requirements most be satisfied.\n",
    "\n",
    "shift_reqmts = m.addConstrs((x.sum('*',s) + slacks[s] == shiftRequirements[s] for s in shifts), name='shiftRequirement')\n",
    "# Constraint: set the auxiliary variable (totSlack) equal to the total number of extra workers \n",
    "# required to satisfy shift requirements\n",
    " \n",
    "num_temps = m.addConstr(totSlack == slacks.sum(), name='totSlack')\n",
    "# Constraint: compute the total number of shifts for each worker\n",
    "\n",
    "num_shifts = m.addConstrs((totShifts[w] == x.sum(w,'*') for w in workers), name='totShifts')\n",
    "\n",
    "# Auxiliary variables. \n",
    "# minShift is the minimum number of shifts allocated to workers \n",
    "# maxShift is the maximum number of shifts allocated to workers\n",
    "\n",
    "minShift = m.addVar(name='minShift')\n",
    "\n",
    "maxShift = m.addVar(name='maxShift')\n",
    "\n",
    "# Constraint: \n",
    "# The addGenConstrMin() method of the model object m adds a new general constraint that \n",
    "# determines the minimum value among a set of variables. \n",
    "# The first argument is the variable whose value will be equal to the minimum of the other variables, \n",
    "# minShift in this case. \n",
    "# The second argument is the set variables over which the minimum will be taken, (totShifts) in \n",
    "# this case. \n",
    "# Recall that the totShifts variable is defined over the set of worker and determines the number of \n",
    "# shifts that an employed worker will work. The third argument is the name of this constraint.\n",
    "\n",
    "min_constr = m.addGenConstrMin(minShift, totShifts, name='minShift')\n",
    "\n",
    "# Constraint: \n",
    "# Similarly, the addGenConstrMax() method of the model object m adds a new general \n",
    "# constraint that determines the maximum value among a set of variables.\n",
    "\n",
    "max_constr = m.addGenConstrMax(maxShift, totShifts, name='maxShift')\n",
    "# Set global sense for ALL objectives.\n",
    "# This means that all objectives of the model object m are going to be minimized\n",
    "m.ModelSense = GRB.MINIMIZE\n",
    "# Set up primary objective.\n",
    "\n",
    "# The setObjectiveN() method of the model object m allows to define multiple objectives.\n",
    "# The first argument is the linear expression defining the most important objective, called primary \n",
    "# objective, in this case it is the minimization of extra workers required to satisfy shift \n",
    "# requirements. \n",
    "# The second argument is the index of the objective function, we set the index of the primary \n",
    "# objective to be equal to 0. \n",
    "# The third argument is the priority of the objective.\n",
    "# The fourth argument is the relative tolerance to degrade this objective when a lower priority\n",
    "# objective is optimized. The fifth argument is the name of this objective.\n",
    "# A hierarchical or lexicographic approach assigns a priority to each objective, and optimizes \n",
    "# for the objectives in decreasing priority order. \n",
    "# For this problem, we have two objectives, and the primary objective has the highest priority \n",
    "# which is equal to 2. \n",
    "# When the secondary objective is minimized, since the relative tolerance is 0.2, we can only \n",
    "# increase the minimum number of extra workers up to 20%. \n",
    "# For example if the minimum number extra workers is 10, then when optimizing the secondary objective \n",
    "# we can have up to 12 extra workers.\n",
    "\n",
    "m.setObjectiveN(totSlack, index=0, priority=2, reltol=0.2, name='TotalSlack')\n",
    "# Set up secondary objective.\n",
    "\n",
    "# The secondary objective is called fairness and its goal is to balance the workload assigned \n",
    "# to the employed workers. \n",
    "# To balance the workload assigned to the employed workers, we can minimize the difference \n",
    "# between the maximum number of shifts assigned to an employed worker and the minimum number \n",
    "# of shifts assigned to an employed worker.\n",
    "\n",
    "m.setObjectiveN(maxShift - minShift, index=1, priority=1, name='Fairness')\n",
    "# Save model formulation for inspection\n",
    "\n",
    "m.write('workforce.lp')\n",
    "# Optimize\n",
    "# This method runs the optimization engine to solve the MIP problem in the model object m\n",
    "m.optimize()\n",
    "# The Status attribute  provides current optimization status of the model object m\n",
    "# In workforce model, we check if the model is infeasible or unbounded and report this situation\n",
    "status = m.Status\n",
    "if status == GRB.Status.INF_OR_UNBD or status == GRB.Status.INFEASIBLE  or status == GRB.Status.UNBOUNDED:\n",
    "    print('The model cannot be solved because it is infeasible or unbounded')\n",
    "    sys.exit(0)\n",
    "# If the optimization status of the model is not optimal for some other reason, we report that \n",
    "# situation.\n",
    "if status != GRB.Status.OPTIMAL:\n",
    "    print('Optimization was stopped with status ' + str(status))\n",
    "    sys.exit(0)"
   ]
  },
  {
   "cell_type": "markdown",
   "metadata": {},
   "source": [
    "### Decision Variables\n",
    "\n",
    "$x(w,s) \\in \\{0,1\\}$: This variable equals 1 if worker $w \\in workers$ is assigned to shift $s \\in \\text{shifts}$, \n",
    "and 0 otherwise.\n",
    "This decision variable is defined over the $availability$ set.\n",
    "\n",
    "$Slack(s) \\geq 0$: This variable is the number of extra workers required to satisfy the requirements of shift $s$."
   ]
  },
  {
   "cell_type": "markdown",
   "metadata": {},
   "source": [
    "### Auxiliary Variables\n",
    "Auxiliary variables are derived from the values of the decision variables.\n",
    "\n",
    "$totSlack$: This variable counts the total number of extra workers required to satisfy the demand for shift workers.\n",
    "\n",
    "$\\text{totShifts}(w)$: This variable counts the total number of shifts worked by each worker $w \\in workers$.\n",
    "\n",
    "$\\text{minShift}$: This variable determines the minimum number of shifts allocated to workers. \n",
    "\n",
    "$\\text{maxShift}$: This variable  determines the maximum number of shifts allocated to workers."
   ]
  },
  {
   "cell_type": "markdown",
   "metadata": {},
   "source": [
    "### Constraint\n",
    "\n",
    "$$\\sum_{w \\: \\in \\: workers} x(w,s) \\; + \\; Slack(s) \\; = \\; \\text{shiftRequirements}(s) \\; \\; \\; \\forall \\; s \\in shifts $$"
   ]
  },
  {
   "cell_type": "markdown",
   "metadata": {},
   "source": [
    "### Constraint\n",
    "\n",
    "$$ \\sum_{s \\: \\in \\: shifts} Slack(s) \\; = \\; totSlack  $$"
   ]
  },
  {
   "cell_type": "markdown",
   "metadata": {},
   "source": [
    "### Constraint\n",
    "\n",
    "$$\\sum_{s \\: \\in \\: shifts} x(w,s) \\; = \\; \\text{totShifts}(w) \\; \\; \\forall \\ w \\; in \\; workers$$"
   ]
  },
  {
   "cell_type": "markdown",
   "metadata": {},
   "source": [
    "The variable $\\text{minShift}$ determines the minimum numbers of shifts allocated to workers. This variable is calculated as follows:\n",
    "$\\text{minShift} = Min \\{\\text{totShifts}(w): \\ w \\; in \\; workers \\} $\n",
    "\n",
    "The variable $\\text{maxShift}$ determines the maximum numbers of shifts allocated to workers. This variable is calculated as follows:\n",
    "$\\text{maxShift} = Max \\{\\text{totShifts}(w): \\ w \\; in \\; workers \\} $"
   ]
  },
  {
   "cell_type": "markdown",
   "metadata": {},
   "source": [
    "We have a primary and a secondary objective which both aim to minimize."
   ]
  },
  {
   "cell_type": "markdown",
   "metadata": {},
   "source": [
    "## Objective Function\n",
    "\n",
    "The primary objective is to minimize the total number of extra workers required to satisfy shift requirements. \n",
    "$$\n",
    "\\text{Min} \\; totSlack \\; = \\; \\sum_{s \\: \\in \\: shifts} Slack(s) \n",
    "$$\n",
    "\n",
    "For this objective we allow a degradation tolerance of up to certain percentage. If reltol = 0.2, then we allow a degradation\n",
    "tolerance of 20%. "
   ]
  },
  {
   "cell_type": "markdown",
   "metadata": {},
   "source": [
    "The secondary objective is to balance workload among workers. To do so, we minimize the difference between the maximum \n",
    "number of shifts allocated to a worker, and the minimum number of shifts allocated to a worker. That is\n",
    "$$\n",
    "\\text{Min} \\; (\\text{maxShift}  -  \\text{minShift}) \n",
    "$$ "
   ]
  },
  {
   "cell_type": "code",
   "execution_count": 20,
   "metadata": {},
   "outputs": [
    {
     "name": "stdout",
     "output_type": "stream",
     "text": [
      "                    KPI Value\n",
      "0  Total slack required   7.0\n",
      "--------------------------------------------------\n",
      "Shifts\n",
      "  Worker  Number of shifts\n",
      "0    Amy               8.0\n",
      "1    Bob               7.0\n",
      "2  Cathy               7.0\n",
      "3    Dan               7.0\n",
      "4     Ed               7.0\n",
      "5   Fred               8.0\n",
      "6     Gu               7.0\n"
     ]
    },
    {
     "data": {
      "image/png": "[encoded data removed]",
      "text/plain": [
       "<Figure size 640x480 with 1 Axes>"
      ]
     },
     "metadata": {},
     "output_type": "display_data"
    },
    {
     "name": "stdout",
     "output_type": "stream",
     "text": [
      "--------------------------------------------------\n",
      "Assigments\n",
      "Symbols: '-': not working, '*': working\n",
      "  worker Mon1 Tue2 Wed3 Thu4 Fri5 Sat6 Sun7 Mon8 Tue9 Wed10 Thu11 Fri12 Sat13 Sun14\n",
      "0    Amy    -    -    *    -    *    -    *    -    -     *     *     *     *     *\n",
      "1    Bob    *    *    -    -    *    *    -    *    -     -     *     -     *     -\n",
      "2  Cathy    -    -    -    *    *    -    *    -    -     *     *     -     *     *\n",
      "3    Dan    -    *    *    -    *    *    -    -    -     *     -     *     *     -\n",
      "4     Ed    -    -    *    *    *    -    *    -    -     -     *     -     *     *\n",
      "5   Fred    *    -    *    -    -    *    -    *    *     -     -     *     *     *\n",
      "6     Gu    *    -    -    -    -    *    *    -    *     -     -     *     *     *\n"
     ]
    }
   ],
   "source": [
    "# # Print total slack and the number of shifts worked for each worker\n",
    "# # The KPIs for this optimization number is the number of extra worked required to satisfy \n",
    "# # demand and the number of shifts that each employed worker is working.\n",
    "# solution = {}\n",
    "# shifts_sol = {}\n",
    "# solution['Total slack required'] = str(totSlack.X)\n",
    "# assignments_all = {}\n",
    "# gant={}\n",
    "\n",
    "# assignments = dict()\n",
    "# for [w, s] in availability:\n",
    "#     if x[w, s].x == 1:\n",
    "#         if w in assignments:\n",
    "#             assignments[w].append(s)\n",
    "#         else:\n",
    "#             assignments[w] = [s]\n",
    "\n",
    "\n",
    "# print(pd.DataFrame.from_records(list(solution.items()), columns=['KPI', 'Value']))\n",
    "# print('-'*50)\n",
    "\n",
    "# for w in workers:\n",
    "#     shifts_sol[w]=totShifts[w].X\n",
    "#     assignments_all[w]=assignments.get(w, [])\n",
    "\n",
    "# print('Shifts')\n",
    "# print(pd.DataFrame.from_records(list(shifts_sol.items()), columns=['Worker', 'Number of shifts']))\n",
    "    \n",
    "# y_pos = np.arange(len(shifts_sol.keys())) \n",
    "# plt.bar(y_pos,shifts_sol.values() , align='center')\n",
    "# plt.xticks(y_pos, shifts_sol.keys())\n",
    "# plt.show()\n",
    "\n",
    "# print('-'*50)\n",
    "# for w in assignments_all:\n",
    "#     gant[w] = [w]\n",
    "#     for d in shifts:\n",
    "#         gant[w].append('*' if d in assignments_all[w] else '-')\n",
    "\n",
    "# print('Assigments')\n",
    "# print('Symbols: \\'-\\': not working, \\'*\\': working')\n",
    "# pd.set_option('display.width', 1000)\n",
    "# print(pd.DataFrame.from_records(list(gant.values()), columns=['worker']+shifts))"
   ]
  },
  {
   "cell_type": "markdown",
   "metadata": {},
   "source": [
    "## Analysis\n",
    "\n",
    "The total number of extra workers required to satisfy the shift requirements during the planning horizon is seven.\n",
    "\n",
    "The bar chart shows the number of shifts that each employed worker will work during the planning horizon. Observe that with seven extra workers, the workload of employed workers is quite balanced.\n",
    "\n",
    "The last table shows which day during the planning horizon each employed worker is working."
   ]
  },
  {
   "cell_type": "markdown",
   "metadata": {},
   "source": [
    "## Conclusion\n",
    "\n",
    "In this Jupyter Notebook, we discussed a workforce scheduling optimization problem that is common in the services industry.\n",
    "Consider a service business that develops its workforce plans for the next two weeks. There is only one shift per workday. Each shift may have different workers requirements on each workday. The service business may hire extra workers from an agency to satisfy shift requirements. The service business wants to minimize the number of extra workers that needs to hire, and as a secondary objective, it wants to balance the workload of employed workers.\n",
    "\n",
    "The problem was formulated as a multi-objective mixed-integer-programming (MIP) model,\n",
    "and implemented using the Gurobi Python API and solved using the Gurobi Optimizer.\n",
    "\n",
    "The hierarchical  approach to tackling multi-objective function problems was explained in detail.\n"
   ]
  },
  {
   "cell_type": "markdown",
   "metadata": {},
   "source": [
    "Copyright © 2020 Gurobi Optimization, LLC"
   ]
  }
 ],
 "metadata": {
  "kernelspec": {
   "display_name": "Python 3",
   "language": "python",
   "name": "python3"
  },
  "language_info": {
   "codemirror_mode": {
    "name": "ipython",
    "version": 3
   },
   "file_extension": ".py",
   "mimetype": "text/x-python",
   "name": "python",
   "nbconvert_exporter": "python",
   "pygments_lexer": "ipython3",
   "version": "3.11.4"
  }
 },
 "nbformat": 4,
 "nbformat_minor": 2
}
