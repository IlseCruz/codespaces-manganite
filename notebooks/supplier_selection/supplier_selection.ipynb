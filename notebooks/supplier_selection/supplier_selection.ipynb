{
 "cells": [
  {
   "cell_type": "code",
   "execution_count": null,
   "id": "5b2c5e28-536f-4c1a-8ce0-5c84ded8a004",
   "metadata": {},
   "outputs": [],
   "source": [
    "import manganite\n",
    "%load_ext manganite"
   ]
  },
  {
   "cell_type": "markdown",
   "id": "51d97e7d-0375-4350-bd1d-e54a1b13142b",
   "metadata": {},
   "source": [
    "# Supplier Sourcing\n",
    "\n",
    "We will now formulate and solve a supplier sourcing problem.\n",
    "\n",
    "New Bedford Steel (NBS) procures coking coal to produce steel. For next year’s\n",
    "production, NBS has solicited the following bids from eight different coal mines:\n",
    "\n",
    "<pre>\n",
    "$$\n",
    "\\begin{array}{c | cccccccc}\n",
    "\\hline\n",
    "\\hline\n",
    " & Ashley & Bedfort & Consol &Dunby &Earlam &Florence &Gaston &Hopt \\\\\n",
    "\\hline\n",
    "Price (\\$/mt) & 49,500 & 50,000 & 61,000 &63,500 &66,500 &71,000 &72,500 &80,000  \\\\\n",
    "Union? & yes & yes & no & yes &no &yes &no &no \\\\\n",
    "Transport & rail & truck & rail &truck &truck &truck &rail &rail \\\\\n",
    "Volatility (percentage) & 15 & 16 & 18 & 20 &21 &22 &23 &25 \\\\\n",
    "Capacity (mt/yr) &300 &600 &510 &655 &575 &680 &450 &490 \\\\\n",
    "\\hline\n",
    "\\hline\n",
    "\\end{array}\n",
    "$$\n",
    "</pre>\n",
    "\n",
    "NBS wants to procure 1,225mt of coking coal with an average volatility of at least 19%. To avert adverse labour relations, at least 50% of the coal should come from union mines. Moreover, at most 650mt (720mt) can be transported via rail (trucks).\n",
    "\n",
    "## Questions\n",
    "\n",
    "*   How much should NBS procure from each mine so as to minimize total costs?\n",
    "*   What are the total costs? What are the total purchase cost from each supplier?"
   ]
  },
  {
   "cell_type": "code",
   "execution_count": null,
   "id": "0cd49f83-15ef-49d4-b2dc-a69b317370c0",
   "metadata": {},
   "outputs": [],
   "source": [
    "import pandas as pd\n",
    "import plotly.express as px\n",
    "import plotly.io as pio\n",
    "pio.templates.default = \"plotly_white\""
   ]
  },
  {
   "cell_type": "code",
   "execution_count": null,
   "id": "aa47c99f-a04b-4fca-a265-845ada209915",
   "metadata": {},
   "outputs": [],
   "source": [
    "%%mnn widget --type table --var df --tab Inputs --header Suppliers --position 0 0 3\n",
    "df = pd.read_csv(\"suppliers.csv\", index_col=0)"
   ]
  },
  {
   "cell_type": "code",
   "execution_count": null,
   "id": "51ec53e2-327a-46cf-b0af-aa2f4f6ce80a",
   "metadata": {},
   "outputs": [],
   "source": [
    "%%mnn widget --type plot --var cap_chart --tab Inputs --header \"Supplier Capacity\" --position 0 3 3\n",
    "cap_chart = px.bar(\n",
    "    x=df.index, y=df.Capacity,\n",
    "    labels={\"x\":\"Supplier\",\"y\":\"Capacity\"})"
   ]
  },
  {
   "cell_type": "code",
   "execution_count": null,
   "id": "6c76877d-23c2-40e3-b0a2-58b29dda5389",
   "metadata": {
    "editable": true,
    "slideshow": {
     "slide_type": ""
    },
    "tags": []
   },
   "outputs": [],
   "source": [
    "%%mnn widget --type slider 0:2000:1 --var demand --tab Inputs --position 1 0 1 --header \"Demand\"\n",
    "demand = 1225"
   ]
  },
  {
   "cell_type": "code",
   "execution_count": null,
   "id": "690bccb9-df88-40a5-ae60-77fa632d181e",
   "metadata": {},
   "outputs": [],
   "source": [
    "%%mnn widget --type slider 0.1:0.3:0.01 --var avg_vola --tab Inputs --position 1 1 1 --header \"Avg Volatility\"\n",
    "avg_vola = 0.19"
   ]
  },
  {
   "cell_type": "code",
   "execution_count": null,
   "id": "97764dcd-33e6-439e-91ea-20961c118f08",
   "metadata": {},
   "outputs": [],
   "source": [
    "%%mnn widget --type slider 0:2000:1 --var max_rail --tab Inputs --position 1 2 1 --header \"Max Rail\"\n",
    "max_rail = 650"
   ]
  },
  {
   "cell_type": "code",
   "execution_count": null,
   "id": "167e61fb-acae-4437-a207-1997411387d6",
   "metadata": {},
   "outputs": [],
   "source": [
    "%%mnn widget --type slider 0:2000:1 --var max_trucks --tab Inputs --position 2 0 1 --header \"Max Trucks\"\n",
    "max_trucks = 750"
   ]
  },
  {
   "cell_type": "code",
   "execution_count": null,
   "id": "17ee5748-2262-4fb4-b9d6-bd23c2bb0200",
   "metadata": {},
   "outputs": [],
   "source": [
    "%%mnn widget --type slider 0:1:0.01 --var max_union --tab Inputs --position 2 1 1 --header \"Pct Union\"\n",
    "max_union = 0.5"
   ]
  },
  {
   "cell_type": "markdown",
   "id": "98f73f84-d0d6-4e1c-bdfe-871a6d8136f9",
   "metadata": {},
   "source": [
    "## Model Formulation\n",
    "\n",
    "The problem can be formulated as a linear program. The objective is to minimize the total cost of allocating volums to suppliers subject to a number of constraints.\n",
    "<pre>\n",
    "$$\n",
    "\\begin{align}\n",
    "&\\min \\quad && \\sum_i \\text{price}_i \\text{volume}_i && \\text{minimize total cost}\\\\\n",
    "&s.t. && \\sum_i \\text{volume}_i = 1225 && \\text{satisfy demand}\\\\\n",
    "& &&\\sum_i \\text{volatility}_i \\text{volume}_i \\geq 0.19 \\cdot 1225 && \\text{meet volatility target}\\\\\n",
    "& && \\sum_i \\text{union}_i \\text{volume}_i \\geq 0.5 \\cdot 1225 && \\text{meet union target} \\\\\n",
    "& && \\sum_i \\text{rail}_i \\text{volume}_i \\leq 650 && \\text{respect rail transport limit} \\\\\n",
    "& && \\sum_i (1-\\text{rail}_i) \\text{volume}_i \\leq 750 && \\text{respect truck transport limit} \\\\\n",
    "& && 0 \\leq \\text{volume}_i \\leq \\text{capacity}_i\\ \\forall \\ i=1,\\dots,I  && \\text{respect supplier capacities}\n",
    "\\end{align}\n",
    "$$\n",
    "</pre>"
   ]
  },
  {
   "cell_type": "code",
   "execution_count": null,
   "id": "b80674d6-254b-4ee1-9fe3-af7becda682c",
   "metadata": {
    "editable": true,
    "slideshow": {
     "slide_type": ""
    },
    "tags": []
   },
   "outputs": [],
   "source": [
    "%%mnn execute --on button \"Optimize\" --returns volumes\n",
    "import cvxpy as cp\n",
    "volumes = cp.Variable(len(df))\n",
    "objective = cp.Minimize(df.Price.values@volumes)\n",
    "constraints = [cp.sum(volumes) == demand]\n",
    "constraints.append(df.Volatility.values@volumes >= (avg_vola)*cp.sum(volumes))\n",
    "constraints.append(df.Rail.values@volumes >= (1/2)*cp.sum(volumes))\n",
    "constraints.append(df.Rail.values@volumes <= max_rail)\n",
    "constraints.append((1-df.Rail.values)@volumes <= max_trucks)\n",
    "constraints.append(volumes[:] <= df.Capacity.values[:])\n",
    "constraints.append(volumes >= 0)\n",
    "prob = cp.Problem(objective, constraints)\n",
    "min_cost = prob.solve(solver=cp.ECOS)\n",
    "print(\"Supplier selection problem solution status: %s\"%prob.status)"
   ]
  },
  {
   "cell_type": "code",
   "execution_count": null,
   "id": "4f1a4530-9084-40b8-9748-94929768252e",
   "metadata": {},
   "outputs": [],
   "source": [
    "%%mnn widget --type plot --var vol_chart --tab Results --header \"Optimal Purchase Allocation\" --position 0 0 3\n",
    "vol_chart = px.bar(x=df.index, y=volumes.value,\n",
    "    labels={\"x\":\"Supplier\",\"y\":\"Purchase Volume\"})"
   ]
  },
  {
   "cell_type": "code",
   "execution_count": null,
   "id": "4e78cd02-6e31-457a-b90a-74b19fc5e69d",
   "metadata": {},
   "outputs": [],
   "source": [
    "%%mnn widget --type plot --var cost_chart --tab Results --header \"Cost per Supplier\"  --position 0 3 3\n",
    "cost_chart = px.bar(x=df.index, y=(volumes.value*df.Price.values),\n",
    "    labels={\"x\":\"Supplier\",\"y\":\"Total Cost\"},\n",
    "    color_discrete_sequence=[\"red\"])"
   ]
  },
  {
   "cell_type": "code",
   "execution_count": null,
   "id": "ff2e9909-5b06-4199-9521-8890ed61b475",
   "metadata": {},
   "outputs": [],
   "source": []
  }
 ],
 "metadata": {
  "kernelspec": {
   "display_name": "Python 3",
   "language": "python",
   "name": "python3"
  },
  "language_info": {
   "codemirror_mode": {
    "name": "ipython",
    "version": 3
   },
   "file_extension": ".py",
   "mimetype": "text/x-python",
   "name": "python",
   "nbconvert_exporter": "python",
   "pygments_lexer": "ipython3",
   "version": "3.10.12"
  }
 },
 "nbformat": 4,
 "nbformat_minor": 5
}
