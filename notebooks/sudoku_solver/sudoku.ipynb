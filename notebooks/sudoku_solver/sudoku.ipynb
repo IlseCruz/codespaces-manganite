{
 "cells": [
  {
   "cell_type": "code",
   "execution_count": null,
   "id": "14861ee3-60e2-4c00-adfb-201737efecd4",
   "metadata": {},
   "outputs": [],
   "source": [
    "import manganite\n",
    "%load_ext manganite"
   ]
  },
  {
   "cell_type": "markdown",
   "metadata": {},
   "source": [
    "# Sudoku Solver\n",
    "\n",
    "## Sudoku Ruleset\n",
    "Sudoku is a classic number puzzle game played on a 9x9 grid. The objective is to fill each row, column, and 3x3 subgrid with the numbers 1 to 9, ensuring that no number is repeated in any row, column, or subgrid. For more details on Sudoku rules, you can refer to the [Wikipedia page](https://en.wikipedia.org/wiki/Sudoku).\n",
    "\n",
    "## How to Use\n",
    "1. **Input Grid**: On the left side of the web app, you will find a blank 9x9 grid representing the Sudoku puzzle. Empty cells are denoted by 0, indicating spaces to be filled.\n",
    "\n",
    "2. **User Input**: You can input your known numbers into the grid by replacing the 0s with the correct digits. These represent the initial clues for the Sudoku puzzle.\n",
    "\n",
    "3. **Optimize Button**: Once you have entered your initial numbers, click the \"Optimize\" button. This will trigger the solver to use the SCX Optimizer package to calculate a possible solution for the Sudoku puzzle. (you have to install scx using pip)\n",
    "\n",
    "4. **View Solution**: The solved Sudoku grid will be displayed on the right side of the web app, showing the optimized arrangement of numbers based on your initial input."
   ]
  },
  {
   "cell_type": "code",
   "execution_count": null,
   "id": "e5b19a65-4c70-4c02-93c8-96e99cb452fa",
   "metadata": {},
   "outputs": [],
   "source": [
    "from scx.optimize import Model\n",
    "import pandas\n",
    "import numpy"
   ]
  },
  {
   "cell_type": "code",
   "execution_count": null,
   "id": "74931e53-5d2a-419c-b2d4-00485f5bb8a3",
   "metadata": {},
   "outputs": [],
   "source": [
    "%%mnn widget --type table --var input_matrix --tab \"Sudoku Solver\" --header \"Inputs\" --position 0 0 3\n",
    "input_matrix = pandas.DataFrame(numpy.zeros((9, 9), dtype=int))"
   ]
  },
  {
   "cell_type": "code",
   "execution_count": null,
   "id": "d3cc5bf5-b511-412f-92bf-ecaa99ddcd91",
   "metadata": {},
   "outputs": [],
   "source": [
    "%%mnn execute --on button \"Solve\" --returns data\n",
    "\n",
    "# Create variables\n",
    "data = [{\n",
    "        'row':row+1,\n",
    "        'col':col+1,\n",
    "        'box':(row//3)*3+(col//3)+1,\n",
    "        'value':value+1,\n",
    "        'use':Model.variable(name=f\"sq_{row+1}_{col+1}_{value+1}\", cat=\"Binary\")\n",
    "    } for row in range(9) for col in range(9) for value in range(9)]\n",
    "\n",
    "constraints = []\n",
    "for row in range(9):\n",
    "    for col in range(9):\n",
    "        value = input_matrix[row][col]\n",
    "        if value != 0:\n",
    "            constraints.append({\n",
    "                'row':row+1,\n",
    "                'col':col+1,\n",
    "                'value':value\n",
    "            })\n",
    "            \n",
    "# Initialize the my_model\n",
    "\n",
    "my_model = Model(name=\"Sudoku\", sense=None)\n",
    "\n",
    "# Add the Objective Fn\n",
    "## No is objective needed. We just need to solve for the constraints.\n",
    "\n",
    "# Add Constraints\n",
    "\n",
    "## Ensure that each square gets assigned exactly one value\n",
    "for row_i in range(1,10):\n",
    "    for col_j in range(1,10):\n",
    "        my_model.add_constraint(\n",
    "            Model.sum([d['use'] for d in data if d['row']==row_i and d['col']==col_j])==1\n",
    "        )\n",
    "\n",
    "## Add in constraints such that each row, col and box will only have a value once\n",
    "for key_name in ['row','col','box']:\n",
    "    for key_value in range(1,10):\n",
    "        for data_value in range(1,10):\n",
    "            my_model.add_constraint(\n",
    "                Model.sum([d['use'] for d in data if d[key_name]==key_value and d['value']==data_value])==1\n",
    "            )\n",
    "\n",
    "# Add in constraints such that each square must match the provided inputs\n",
    "for j in constraints:\n",
    "    my_model.add_constraint(\n",
    "        Model.sum([d['use'] for d in data if d['row']==j['row'] and d['col']==j['col'] and d['value']==j['value']])==1\n",
    "    )\n",
    "\n",
    "\n",
    "# Solve the my_model\n",
    "my_model.solve()\n"
   ]
  },
  {
   "cell_type": "code",
   "execution_count": null,
   "id": "67ab1f22-5394-478e-8351-7f6010e8aa22",
   "metadata": {},
   "outputs": [],
   "source": [
    "%%mnn widget --type table --var matrix --tab \"Sudoku Solver\" --header \"Outputs\" --position 0 3 3\n",
    "matrix = pandas.DataFrame(numpy.zeros((9, 9), dtype=int))\n",
    "used = [i for i in data if (i['use'].value())==1]\n",
    "for item in used:\n",
    "    # Assign the value to the matrix using a function\n",
    "    matrix.at[item['row']-1, item['col']-1] = item['value']\n",
    "\n",
    "matrix = pandas.DataFrame(matrix).T\n",
    "print(\"Solved Sudoku:\")\n",
    "print(matrix)\n"
   ]
  },
  {
   "cell_type": "code",
   "execution_count": null,
   "id": "ca67a52c-35c8-438c-a185-3cbeb8c7f7d1",
   "metadata": {},
   "outputs": [],
   "source": []
  }
 ],
 "metadata": {
  "kernelspec": {
   "display_name": "Python 3",
   "language": "python",
   "name": "python3"
  },
  "language_info": {
   "codemirror_mode": {
    "name": "ipython",
    "version": 3
   },
   "file_extension": ".py",
   "mimetype": "text/x-python",
   "name": "python",
   "nbconvert_exporter": "python",
   "pygments_lexer": "ipython3",
   "version": "3.10.12"
  }
 },
 "nbformat": 4,
 "nbformat_minor": 5
}
